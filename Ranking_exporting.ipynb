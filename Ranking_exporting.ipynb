{
 "cells": [
  {
   "cell_type": "markdown",
   "id": "2e31c1b5",
   "metadata": {},
   "source": [
    "# Libraries"
   ]
  },
  {
   "cell_type": "code",
   "execution_count": 1,
   "id": "f52b8aa8",
   "metadata": {},
   "outputs": [],
   "source": [
    "import pandas as pd\n",
    "import os\n",
    "import pickle\n",
    "import time"
   ]
  },
  {
   "cell_type": "code",
   "execution_count": 15,
   "id": "359b428a",
   "metadata": {},
   "outputs": [],
   "source": [
    "import numpy as np"
   ]
  },
  {
   "cell_type": "code",
   "execution_count": 17,
   "id": "284d8240",
   "metadata": {},
   "outputs": [],
   "source": [
    "import math"
   ]
  },
  {
   "cell_type": "code",
   "execution_count": 2,
   "id": "eda57c46",
   "metadata": {},
   "outputs": [],
   "source": [
    "root_dir = \"/media/visionin/data_station/OctanData/BSC/running/2022_old_data/save_dir/\""
   ]
  },
  {
   "cell_type": "markdown",
   "id": "27ed4c5c",
   "metadata": {},
   "source": [
    "# Load Addresses dict"
   ]
  },
  {
   "cell_type": "code",
   "execution_count": 4,
   "id": "d8a8b7d2",
   "metadata": {},
   "outputs": [
    {
     "name": "stdout",
     "output_type": "stream",
     "text": [
      "54912\n"
     ]
    }
   ],
   "source": [
    "address_dict_path = root_dir + \"address_dict.pickle\"\n",
    "with open(address_dict_path, 'rb') as handle:\n",
    "    address_dict = pickle.load(handle)\n",
    "print(len(address_dict.keys()))"
   ]
  },
  {
   "cell_type": "code",
   "execution_count": 5,
   "id": "c2290614",
   "metadata": {},
   "outputs": [],
   "source": [
    "# create node list table\n",
    "node_list = pd.DataFrame(address_dict.items(), columns=['Address', 'ID'])"
   ]
  },
  {
   "cell_type": "code",
   "execution_count": 6,
   "id": "45db9f5f",
   "metadata": {},
   "outputs": [
    {
     "data": {
      "text/html": [
       "<div>\n",
       "<style scoped>\n",
       "    .dataframe tbody tr th:only-of-type {\n",
       "        vertical-align: middle;\n",
       "    }\n",
       "\n",
       "    .dataframe tbody tr th {\n",
       "        vertical-align: top;\n",
       "    }\n",
       "\n",
       "    .dataframe thead th {\n",
       "        text-align: right;\n",
       "    }\n",
       "</style>\n",
       "<table border=\"1\" class=\"dataframe\">\n",
       "  <thead>\n",
       "    <tr style=\"text-align: right;\">\n",
       "      <th></th>\n",
       "      <th>Address</th>\n",
       "      <th>ID</th>\n",
       "    </tr>\n",
       "  </thead>\n",
       "  <tbody>\n",
       "    <tr>\n",
       "      <th>0</th>\n",
       "      <td>0x27c2943985d0beeaa850a5bc13b1fc34b797b8d2</td>\n",
       "      <td>0</td>\n",
       "    </tr>\n",
       "    <tr>\n",
       "      <th>1</th>\n",
       "      <td>0x20ec291bb8459b6145317e7126532ce7ece5056f</td>\n",
       "      <td>1</td>\n",
       "    </tr>\n",
       "    <tr>\n",
       "      <th>2</th>\n",
       "      <td>0x85278c207f24c0ed481b84e4205bb7ee69afe306</td>\n",
       "      <td>2</td>\n",
       "    </tr>\n",
       "    <tr>\n",
       "      <th>3</th>\n",
       "      <td>0x7b0b35b416631f05f321fe74990817dca81cabde</td>\n",
       "      <td>3</td>\n",
       "    </tr>\n",
       "    <tr>\n",
       "      <th>4</th>\n",
       "      <td>0xcde540d7eafe93ac5fe6233bee57e1270d3e330f</td>\n",
       "      <td>4</td>\n",
       "    </tr>\n",
       "  </tbody>\n",
       "</table>\n",
       "</div>"
      ],
      "text/plain": [
       "                                       Address  ID\n",
       "0   0x27c2943985d0beeaa850a5bc13b1fc34b797b8d2   0\n",
       "1   0x20ec291bb8459b6145317e7126532ce7ece5056f   1\n",
       "2   0x85278c207f24c0ed481b84e4205bb7ee69afe306   2\n",
       "3   0x7b0b35b416631f05f321fe74990817dca81cabde   3\n",
       "4   0xcde540d7eafe93ac5fe6233bee57e1270d3e330f   4"
      ]
     },
     "execution_count": 6,
     "metadata": {},
     "output_type": "execute_result"
    }
   ],
   "source": [
    "node_list.head(5)"
   ]
  },
  {
   "cell_type": "markdown",
   "id": "b2e51a59",
   "metadata": {},
   "source": [
    "# Load Pagerank dict"
   ]
  },
  {
   "cell_type": "code",
   "execution_count": 7,
   "id": "03546ae6",
   "metadata": {},
   "outputs": [
    {
     "name": "stdout",
     "output_type": "stream",
     "text": [
      "54910\n"
     ]
    }
   ],
   "source": [
    "pagerank_dict_path = root_dir + \"weighted_pagerank_v4.pickle\"\n",
    "with open(pagerank_dict_path, 'rb') as handle:\n",
    "    pagerank_dict = pickle.load(handle)\n",
    "print(len(pagerank_dict.keys()))"
   ]
  },
  {
   "cell_type": "code",
   "execution_count": 8,
   "id": "158127c7",
   "metadata": {},
   "outputs": [
    {
     "name": "stdout",
     "output_type": "stream",
     "text": [
      "0.5374248027801514\n"
     ]
    }
   ],
   "source": [
    "start_time = time.time()\n",
    "node_list['Reputation (x10e6)'] = node_list.apply(lambda row: pagerank_dict[row[\"ID\"]]*1000000 if (row[\"ID\"] in pagerank_dict.keys()) else 0, axis=1)\n",
    "print(time.time()-start_time)"
   ]
  },
  {
   "cell_type": "code",
   "execution_count": 19,
   "id": "fff4443b",
   "metadata": {},
   "outputs": [
    {
     "name": "stdout",
     "output_type": "stream",
     "text": [
      "1.728816270828247\n"
     ]
    }
   ],
   "source": [
    "start_time = time.time()\n",
    "node_list['Reputation (Log Scale)'] = node_list.apply(lambda row: np.clip(np.round(math.log((row['Reputation (x10e6)']/1000000), 1.0233) + 1000, decimals=6), 0, 1000) if (row['Reputation (x10e6)'] !=0) else 0 , axis=1)\n",
    "print(time.time()-start_time)"
   ]
  },
  {
   "cell_type": "code",
   "execution_count": 20,
   "id": "0b77895c",
   "metadata": {},
   "outputs": [
    {
     "data": {
      "text/html": [
       "<div>\n",
       "<style scoped>\n",
       "    .dataframe tbody tr th:only-of-type {\n",
       "        vertical-align: middle;\n",
       "    }\n",
       "\n",
       "    .dataframe tbody tr th {\n",
       "        vertical-align: top;\n",
       "    }\n",
       "\n",
       "    .dataframe thead th {\n",
       "        text-align: right;\n",
       "    }\n",
       "</style>\n",
       "<table border=\"1\" class=\"dataframe\">\n",
       "  <thead>\n",
       "    <tr style=\"text-align: right;\">\n",
       "      <th></th>\n",
       "      <th>Address</th>\n",
       "      <th>ID</th>\n",
       "      <th>Reputation (x10e6)</th>\n",
       "      <th>Reputation (Log Scale)</th>\n",
       "    </tr>\n",
       "  </thead>\n",
       "  <tbody>\n",
       "    <tr>\n",
       "      <th>0</th>\n",
       "      <td>0x27c2943985d0beeaa850a5bc13b1fc34b797b8d2</td>\n",
       "      <td>0</td>\n",
       "      <td>13.009929</td>\n",
       "      <td>511.572756</td>\n",
       "    </tr>\n",
       "    <tr>\n",
       "      <th>1</th>\n",
       "      <td>0x20ec291bb8459b6145317e7126532ce7ece5056f</td>\n",
       "      <td>1</td>\n",
       "      <td>3471.525167</td>\n",
       "      <td>754.125158</td>\n",
       "    </tr>\n",
       "    <tr>\n",
       "      <th>2</th>\n",
       "      <td>0x85278c207f24c0ed481b84e4205bb7ee69afe306</td>\n",
       "      <td>2</td>\n",
       "      <td>13.702995</td>\n",
       "      <td>513.826144</td>\n",
       "    </tr>\n",
       "    <tr>\n",
       "      <th>3</th>\n",
       "      <td>0x7b0b35b416631f05f321fe74990817dca81cabde</td>\n",
       "      <td>3</td>\n",
       "      <td>13.009929</td>\n",
       "      <td>511.572756</td>\n",
       "    </tr>\n",
       "    <tr>\n",
       "      <th>4</th>\n",
       "      <td>0xcde540d7eafe93ac5fe6233bee57e1270d3e330f</td>\n",
       "      <td>4</td>\n",
       "      <td>21987.277497</td>\n",
       "      <td>834.266437</td>\n",
       "    </tr>\n",
       "  </tbody>\n",
       "</table>\n",
       "</div>"
      ],
      "text/plain": [
       "                                       Address  ID  Reputation (x10e6)  \\\n",
       "0   0x27c2943985d0beeaa850a5bc13b1fc34b797b8d2   0           13.009929   \n",
       "1   0x20ec291bb8459b6145317e7126532ce7ece5056f   1         3471.525167   \n",
       "2   0x85278c207f24c0ed481b84e4205bb7ee69afe306   2           13.702995   \n",
       "3   0x7b0b35b416631f05f321fe74990817dca81cabde   3           13.009929   \n",
       "4   0xcde540d7eafe93ac5fe6233bee57e1270d3e330f   4        21987.277497   \n",
       "\n",
       "   Reputation (Log Scale)  \n",
       "0              511.572756  \n",
       "1              754.125158  \n",
       "2              513.826144  \n",
       "3              511.572756  \n",
       "4              834.266437  "
      ]
     },
     "execution_count": 20,
     "metadata": {},
     "output_type": "execute_result"
    }
   ],
   "source": [
    "node_list.head(5)"
   ]
  },
  {
   "cell_type": "markdown",
   "id": "c6b2ffc5",
   "metadata": {},
   "source": [
    "# Load Transaction counting dict"
   ]
  },
  {
   "cell_type": "code",
   "execution_count": 21,
   "id": "3f9ca462",
   "metadata": {},
   "outputs": [
    {
     "name": "stdout",
     "output_type": "stream",
     "text": [
      "48402\n"
     ]
    }
   ],
   "source": [
    "tranfer_dict_path = root_dir + \"total_transfer.pickle\"\n",
    "with open(tranfer_dict_path, 'rb') as handle:\n",
    "    transfer_dict = pickle.load(handle)\n",
    "print(len(transfer_dict.keys()))"
   ]
  },
  {
   "cell_type": "code",
   "execution_count": 22,
   "id": "629635e0",
   "metadata": {},
   "outputs": [
    {
     "name": "stdout",
     "output_type": "stream",
     "text": [
      "0.7464511394500732\n"
     ]
    }
   ],
   "source": [
    "start_time = time.time()\n",
    "node_list['Total Transfer'] = node_list.apply(lambda row: transfer_dict[row[\"ID\"]] if (row[\"ID\"] in transfer_dict.keys()) else 0, axis=1)\n",
    "print(time.time()-start_time)"
   ]
  },
  {
   "cell_type": "code",
   "execution_count": 23,
   "id": "f0b5fe29",
   "metadata": {},
   "outputs": [
    {
     "name": "stdout",
     "output_type": "stream",
     "text": [
      "53202\n"
     ]
    }
   ],
   "source": [
    "receive_dict_path = root_dir + \"total_receive.pickle\"\n",
    "with open(receive_dict_path, 'rb') as handle:\n",
    "    receive_dict = pickle.load(handle)\n",
    "print(len(receive_dict.keys()))"
   ]
  },
  {
   "cell_type": "code",
   "execution_count": 24,
   "id": "a0293d8a",
   "metadata": {},
   "outputs": [
    {
     "name": "stdout",
     "output_type": "stream",
     "text": [
      "0.7148149013519287\n"
     ]
    }
   ],
   "source": [
    "start_time = time.time()\n",
    "node_list['Total Receive'] = node_list.apply(lambda row: receive_dict[row[\"ID\"]] if (row[\"ID\"] in receive_dict.keys()) else 0, axis=1)\n",
    "print(time.time()-start_time)"
   ]
  },
  {
   "cell_type": "code",
   "execution_count": 25,
   "id": "f234aab1",
   "metadata": {},
   "outputs": [],
   "source": [
    "node_list['Total Transactions'] = node_list['Total Receive'] + node_list['Total Transfer']"
   ]
  },
  {
   "cell_type": "code",
   "execution_count": 26,
   "id": "6494cf1b",
   "metadata": {},
   "outputs": [
    {
     "data": {
      "text/html": [
       "<div>\n",
       "<style scoped>\n",
       "    .dataframe tbody tr th:only-of-type {\n",
       "        vertical-align: middle;\n",
       "    }\n",
       "\n",
       "    .dataframe tbody tr th {\n",
       "        vertical-align: top;\n",
       "    }\n",
       "\n",
       "    .dataframe thead th {\n",
       "        text-align: right;\n",
       "    }\n",
       "</style>\n",
       "<table border=\"1\" class=\"dataframe\">\n",
       "  <thead>\n",
       "    <tr style=\"text-align: right;\">\n",
       "      <th></th>\n",
       "      <th>Address</th>\n",
       "      <th>ID</th>\n",
       "      <th>Reputation (x10e6)</th>\n",
       "      <th>Reputation (Log Scale)</th>\n",
       "      <th>Total Transfer</th>\n",
       "      <th>Total Receive</th>\n",
       "      <th>Total Transactions</th>\n",
       "    </tr>\n",
       "  </thead>\n",
       "  <tbody>\n",
       "    <tr>\n",
       "      <th>0</th>\n",
       "      <td>0x27c2943985d0beeaa850a5bc13b1fc34b797b8d2</td>\n",
       "      <td>0</td>\n",
       "      <td>13.009929</td>\n",
       "      <td>511.572756</td>\n",
       "      <td>262</td>\n",
       "      <td>1</td>\n",
       "      <td>263</td>\n",
       "    </tr>\n",
       "    <tr>\n",
       "      <th>1</th>\n",
       "      <td>0x20ec291bb8459b6145317e7126532ce7ece5056f</td>\n",
       "      <td>1</td>\n",
       "      <td>3471.525167</td>\n",
       "      <td>754.125158</td>\n",
       "      <td>0</td>\n",
       "      <td>195689</td>\n",
       "      <td>195689</td>\n",
       "    </tr>\n",
       "    <tr>\n",
       "      <th>2</th>\n",
       "      <td>0x85278c207f24c0ed481b84e4205bb7ee69afe306</td>\n",
       "      <td>2</td>\n",
       "      <td>13.702995</td>\n",
       "      <td>513.826144</td>\n",
       "      <td>29</td>\n",
       "      <td>2</td>\n",
       "      <td>31</td>\n",
       "    </tr>\n",
       "    <tr>\n",
       "      <th>3</th>\n",
       "      <td>0x7b0b35b416631f05f321fe74990817dca81cabde</td>\n",
       "      <td>3</td>\n",
       "      <td>13.009929</td>\n",
       "      <td>511.572756</td>\n",
       "      <td>41</td>\n",
       "      <td>2</td>\n",
       "      <td>43</td>\n",
       "    </tr>\n",
       "    <tr>\n",
       "      <th>4</th>\n",
       "      <td>0xcde540d7eafe93ac5fe6233bee57e1270d3e330f</td>\n",
       "      <td>4</td>\n",
       "      <td>21987.277497</td>\n",
       "      <td>834.266437</td>\n",
       "      <td>0</td>\n",
       "      <td>177456</td>\n",
       "      <td>177456</td>\n",
       "    </tr>\n",
       "  </tbody>\n",
       "</table>\n",
       "</div>"
      ],
      "text/plain": [
       "                                       Address  ID  Reputation (x10e6)  \\\n",
       "0   0x27c2943985d0beeaa850a5bc13b1fc34b797b8d2   0           13.009929   \n",
       "1   0x20ec291bb8459b6145317e7126532ce7ece5056f   1         3471.525167   \n",
       "2   0x85278c207f24c0ed481b84e4205bb7ee69afe306   2           13.702995   \n",
       "3   0x7b0b35b416631f05f321fe74990817dca81cabde   3           13.009929   \n",
       "4   0xcde540d7eafe93ac5fe6233bee57e1270d3e330f   4        21987.277497   \n",
       "\n",
       "   Reputation (Log Scale)  Total Transfer  Total Receive  Total Transactions  \n",
       "0              511.572756             262              1                 263  \n",
       "1              754.125158               0         195689              195689  \n",
       "2              513.826144              29              2                  31  \n",
       "3              511.572756              41              2                  43  \n",
       "4              834.266437               0         177456              177456  "
      ]
     },
     "execution_count": 26,
     "metadata": {},
     "output_type": "execute_result"
    }
   ],
   "source": [
    "node_list.head(5)"
   ]
  },
  {
   "cell_type": "markdown",
   "id": "d467fa9e",
   "metadata": {},
   "source": [
    "# Load gas spent dict"
   ]
  },
  {
   "cell_type": "code",
   "execution_count": 27,
   "id": "e9fcd835",
   "metadata": {},
   "outputs": [
    {
     "name": "stdout",
     "output_type": "stream",
     "text": [
      "1\n"
     ]
    }
   ],
   "source": [
    "spent_gas_dict_path = root_dir + \"total_gas_spent.pickle\"\n",
    "with open(spent_gas_dict_path, 'rb') as handle:\n",
    "    spent_gas_dict = pickle.load(handle)\n",
    "print(len(spent_gas_dict.keys()))"
   ]
  },
  {
   "cell_type": "code",
   "execution_count": 28,
   "id": "7b0f701e",
   "metadata": {},
   "outputs": [
    {
     "name": "stdout",
     "output_type": "stream",
     "text": [
      "48402\n"
     ]
    }
   ],
   "source": [
    "print(len(spent_gas_dict['gas_dec']))"
   ]
  },
  {
   "cell_type": "code",
   "execution_count": 29,
   "id": "4ab89444",
   "metadata": {},
   "outputs": [
    {
     "name": "stdout",
     "output_type": "stream",
     "text": [
      "0.9137334823608398\n"
     ]
    }
   ],
   "source": [
    "start_time = time.time()\n",
    "node_list['Total Gas Spent'] = node_list.apply(lambda row: spent_gas_dict['gas_dec'][row[\"ID\"]] if (row[\"ID\"] in spent_gas_dict['gas_dec'].keys()) else 0, axis=1)\n",
    "print(time.time()-start_time)"
   ]
  },
  {
   "cell_type": "code",
   "execution_count": 30,
   "id": "e73d904d",
   "metadata": {},
   "outputs": [
    {
     "data": {
      "text/html": [
       "<div>\n",
       "<style scoped>\n",
       "    .dataframe tbody tr th:only-of-type {\n",
       "        vertical-align: middle;\n",
       "    }\n",
       "\n",
       "    .dataframe tbody tr th {\n",
       "        vertical-align: top;\n",
       "    }\n",
       "\n",
       "    .dataframe thead th {\n",
       "        text-align: right;\n",
       "    }\n",
       "</style>\n",
       "<table border=\"1\" class=\"dataframe\">\n",
       "  <thead>\n",
       "    <tr style=\"text-align: right;\">\n",
       "      <th></th>\n",
       "      <th>Address</th>\n",
       "      <th>ID</th>\n",
       "      <th>Reputation (x10e6)</th>\n",
       "      <th>Reputation (Log Scale)</th>\n",
       "      <th>Total Transfer</th>\n",
       "      <th>Total Receive</th>\n",
       "      <th>Total Transactions</th>\n",
       "      <th>Total Gas Spent</th>\n",
       "    </tr>\n",
       "  </thead>\n",
       "  <tbody>\n",
       "    <tr>\n",
       "      <th>0</th>\n",
       "      <td>0x27c2943985d0beeaa850a5bc13b1fc34b797b8d2</td>\n",
       "      <td>0</td>\n",
       "      <td>13.009929</td>\n",
       "      <td>511.572756</td>\n",
       "      <td>262</td>\n",
       "      <td>1</td>\n",
       "      <td>263</td>\n",
       "      <td>134970379</td>\n",
       "    </tr>\n",
       "    <tr>\n",
       "      <th>1</th>\n",
       "      <td>0x20ec291bb8459b6145317e7126532ce7ece5056f</td>\n",
       "      <td>1</td>\n",
       "      <td>3471.525167</td>\n",
       "      <td>754.125158</td>\n",
       "      <td>0</td>\n",
       "      <td>195689</td>\n",
       "      <td>195689</td>\n",
       "      <td>0</td>\n",
       "    </tr>\n",
       "    <tr>\n",
       "      <th>2</th>\n",
       "      <td>0x85278c207f24c0ed481b84e4205bb7ee69afe306</td>\n",
       "      <td>2</td>\n",
       "      <td>13.702995</td>\n",
       "      <td>513.826144</td>\n",
       "      <td>29</td>\n",
       "      <td>2</td>\n",
       "      <td>31</td>\n",
       "      <td>14399175</td>\n",
       "    </tr>\n",
       "    <tr>\n",
       "      <th>3</th>\n",
       "      <td>0x7b0b35b416631f05f321fe74990817dca81cabde</td>\n",
       "      <td>3</td>\n",
       "      <td>13.009929</td>\n",
       "      <td>511.572756</td>\n",
       "      <td>41</td>\n",
       "      <td>2</td>\n",
       "      <td>43</td>\n",
       "      <td>21674922</td>\n",
       "    </tr>\n",
       "    <tr>\n",
       "      <th>4</th>\n",
       "      <td>0xcde540d7eafe93ac5fe6233bee57e1270d3e330f</td>\n",
       "      <td>4</td>\n",
       "      <td>21987.277497</td>\n",
       "      <td>834.266437</td>\n",
       "      <td>0</td>\n",
       "      <td>177456</td>\n",
       "      <td>177456</td>\n",
       "      <td>0</td>\n",
       "    </tr>\n",
       "  </tbody>\n",
       "</table>\n",
       "</div>"
      ],
      "text/plain": [
       "                                       Address  ID  Reputation (x10e6)  \\\n",
       "0   0x27c2943985d0beeaa850a5bc13b1fc34b797b8d2   0           13.009929   \n",
       "1   0x20ec291bb8459b6145317e7126532ce7ece5056f   1         3471.525167   \n",
       "2   0x85278c207f24c0ed481b84e4205bb7ee69afe306   2           13.702995   \n",
       "3   0x7b0b35b416631f05f321fe74990817dca81cabde   3           13.009929   \n",
       "4   0xcde540d7eafe93ac5fe6233bee57e1270d3e330f   4        21987.277497   \n",
       "\n",
       "   Reputation (Log Scale)  Total Transfer  Total Receive  Total Transactions  \\\n",
       "0              511.572756             262              1                 263   \n",
       "1              754.125158               0         195689              195689   \n",
       "2              513.826144              29              2                  31   \n",
       "3              511.572756              41              2                  43   \n",
       "4              834.266437               0         177456              177456   \n",
       "\n",
       "   Total Gas Spent  \n",
       "0        134970379  \n",
       "1                0  \n",
       "2         14399175  \n",
       "3         21674922  \n",
       "4                0  "
      ]
     },
     "execution_count": 30,
     "metadata": {},
     "output_type": "execute_result"
    }
   ],
   "source": [
    "node_list.head(5)"
   ]
  },
  {
   "cell_type": "markdown",
   "id": "c49b338e",
   "metadata": {},
   "source": [
    "# Load degree "
   ]
  },
  {
   "cell_type": "code",
   "execution_count": 31,
   "id": "80869c94",
   "metadata": {},
   "outputs": [
    {
     "name": "stdout",
     "output_type": "stream",
     "text": [
      "54910\n"
     ]
    }
   ],
   "source": [
    "degree_dict_path = root_dir + \"degree.pickle\"\n",
    "with open(degree_dict_path, 'rb') as handle:\n",
    "    degree_dict = pickle.load(handle)\n",
    "print(len(degree_dict.keys()))"
   ]
  },
  {
   "cell_type": "code",
   "execution_count": 32,
   "id": "0bc4b9c5",
   "metadata": {},
   "outputs": [
    {
     "name": "stdout",
     "output_type": "stream",
     "text": [
      "0.4987013339996338\n"
     ]
    }
   ],
   "source": [
    "start_time = time.time()\n",
    "node_list['Degree'] = node_list.apply(lambda row: degree_dict[row[\"ID\"]] if (row[\"ID\"] in degree_dict.keys()) else 0, axis=1)\n",
    "print(time.time()-start_time)"
   ]
  },
  {
   "cell_type": "code",
   "execution_count": 33,
   "id": "a2cda3cb",
   "metadata": {},
   "outputs": [
    {
     "name": "stdout",
     "output_type": "stream",
     "text": [
      "54910\n"
     ]
    }
   ],
   "source": [
    "in_degree_dict_path = root_dir + \"in_degree.pickle\"\n",
    "with open(in_degree_dict_path, 'rb') as handle:\n",
    "    in_degree_dict = pickle.load(handle)\n",
    "print(len(in_degree_dict.keys()))"
   ]
  },
  {
   "cell_type": "code",
   "execution_count": 34,
   "id": "607dfea4",
   "metadata": {},
   "outputs": [
    {
     "name": "stdout",
     "output_type": "stream",
     "text": [
      "0.5128064155578613\n"
     ]
    }
   ],
   "source": [
    "start_time = time.time()\n",
    "node_list['In Degree'] = node_list.apply(lambda row: in_degree_dict[row[\"ID\"]] if (row[\"ID\"] in in_degree_dict.keys()) else 0, axis=1)\n",
    "print(time.time()-start_time)"
   ]
  },
  {
   "cell_type": "code",
   "execution_count": 35,
   "id": "6f266a2a",
   "metadata": {},
   "outputs": [
    {
     "name": "stdout",
     "output_type": "stream",
     "text": [
      "54910\n"
     ]
    }
   ],
   "source": [
    "out_degree_dict_path = root_dir + \"out_degree.pickle\"\n",
    "with open(out_degree_dict_path, 'rb') as handle:\n",
    "    out_degree_dict = pickle.load(handle)\n",
    "print(len(out_degree_dict.keys()))"
   ]
  },
  {
   "cell_type": "code",
   "execution_count": 36,
   "id": "3a117782",
   "metadata": {},
   "outputs": [
    {
     "name": "stdout",
     "output_type": "stream",
     "text": [
      "0.5029520988464355\n"
     ]
    }
   ],
   "source": [
    "start_time = time.time()\n",
    "node_list['Out Degree'] = node_list.apply(lambda row: out_degree_dict[row[\"ID\"]] if (row[\"ID\"] in out_degree_dict.keys()) else 0, axis=1)\n",
    "print(time.time()-start_time)"
   ]
  },
  {
   "cell_type": "code",
   "execution_count": 37,
   "id": "d9321d8a",
   "metadata": {},
   "outputs": [
    {
     "data": {
      "text/html": [
       "<div>\n",
       "<style scoped>\n",
       "    .dataframe tbody tr th:only-of-type {\n",
       "        vertical-align: middle;\n",
       "    }\n",
       "\n",
       "    .dataframe tbody tr th {\n",
       "        vertical-align: top;\n",
       "    }\n",
       "\n",
       "    .dataframe thead th {\n",
       "        text-align: right;\n",
       "    }\n",
       "</style>\n",
       "<table border=\"1\" class=\"dataframe\">\n",
       "  <thead>\n",
       "    <tr style=\"text-align: right;\">\n",
       "      <th></th>\n",
       "      <th>Address</th>\n",
       "      <th>ID</th>\n",
       "      <th>Reputation (x10e6)</th>\n",
       "      <th>Reputation (Log Scale)</th>\n",
       "      <th>Total Transfer</th>\n",
       "      <th>Total Receive</th>\n",
       "      <th>Total Transactions</th>\n",
       "      <th>Total Gas Spent</th>\n",
       "      <th>Degree</th>\n",
       "      <th>In Degree</th>\n",
       "      <th>Out Degree</th>\n",
       "    </tr>\n",
       "  </thead>\n",
       "  <tbody>\n",
       "    <tr>\n",
       "      <th>0</th>\n",
       "      <td>0x27c2943985d0beeaa850a5bc13b1fc34b797b8d2</td>\n",
       "      <td>0</td>\n",
       "      <td>13.009929</td>\n",
       "      <td>511.572756</td>\n",
       "      <td>262</td>\n",
       "      <td>1</td>\n",
       "      <td>263</td>\n",
       "      <td>134970379</td>\n",
       "      <td>20</td>\n",
       "      <td>1</td>\n",
       "      <td>19</td>\n",
       "    </tr>\n",
       "    <tr>\n",
       "      <th>1</th>\n",
       "      <td>0x20ec291bb8459b6145317e7126532ce7ece5056f</td>\n",
       "      <td>1</td>\n",
       "      <td>3471.525167</td>\n",
       "      <td>754.125158</td>\n",
       "      <td>0</td>\n",
       "      <td>195689</td>\n",
       "      <td>195689</td>\n",
       "      <td>0</td>\n",
       "      <td>5747</td>\n",
       "      <td>5747</td>\n",
       "      <td>0</td>\n",
       "    </tr>\n",
       "    <tr>\n",
       "      <th>2</th>\n",
       "      <td>0x85278c207f24c0ed481b84e4205bb7ee69afe306</td>\n",
       "      <td>2</td>\n",
       "      <td>13.702995</td>\n",
       "      <td>513.826144</td>\n",
       "      <td>29</td>\n",
       "      <td>2</td>\n",
       "      <td>31</td>\n",
       "      <td>14399175</td>\n",
       "      <td>11</td>\n",
       "      <td>2</td>\n",
       "      <td>9</td>\n",
       "    </tr>\n",
       "    <tr>\n",
       "      <th>3</th>\n",
       "      <td>0x7b0b35b416631f05f321fe74990817dca81cabde</td>\n",
       "      <td>3</td>\n",
       "      <td>13.009929</td>\n",
       "      <td>511.572756</td>\n",
       "      <td>41</td>\n",
       "      <td>2</td>\n",
       "      <td>43</td>\n",
       "      <td>21674922</td>\n",
       "      <td>11</td>\n",
       "      <td>1</td>\n",
       "      <td>10</td>\n",
       "    </tr>\n",
       "    <tr>\n",
       "      <th>4</th>\n",
       "      <td>0xcde540d7eafe93ac5fe6233bee57e1270d3e330f</td>\n",
       "      <td>4</td>\n",
       "      <td>21987.277497</td>\n",
       "      <td>834.266437</td>\n",
       "      <td>0</td>\n",
       "      <td>177456</td>\n",
       "      <td>177456</td>\n",
       "      <td>0</td>\n",
       "      <td>10811</td>\n",
       "      <td>10811</td>\n",
       "      <td>0</td>\n",
       "    </tr>\n",
       "  </tbody>\n",
       "</table>\n",
       "</div>"
      ],
      "text/plain": [
       "                                       Address  ID  Reputation (x10e6)  \\\n",
       "0   0x27c2943985d0beeaa850a5bc13b1fc34b797b8d2   0           13.009929   \n",
       "1   0x20ec291bb8459b6145317e7126532ce7ece5056f   1         3471.525167   \n",
       "2   0x85278c207f24c0ed481b84e4205bb7ee69afe306   2           13.702995   \n",
       "3   0x7b0b35b416631f05f321fe74990817dca81cabde   3           13.009929   \n",
       "4   0xcde540d7eafe93ac5fe6233bee57e1270d3e330f   4        21987.277497   \n",
       "\n",
       "   Reputation (Log Scale)  Total Transfer  Total Receive  Total Transactions  \\\n",
       "0              511.572756             262              1                 263   \n",
       "1              754.125158               0         195689              195689   \n",
       "2              513.826144              29              2                  31   \n",
       "3              511.572756              41              2                  43   \n",
       "4              834.266437               0         177456              177456   \n",
       "\n",
       "   Total Gas Spent  Degree  In Degree  Out Degree  \n",
       "0        134970379      20          1          19  \n",
       "1                0    5747       5747           0  \n",
       "2         14399175      11          2           9  \n",
       "3         21674922      11          1          10  \n",
       "4                0   10811      10811           0  "
      ]
     },
     "execution_count": 37,
     "metadata": {},
     "output_type": "execute_result"
    }
   ],
   "source": [
    "node_list.head(5)"
   ]
  },
  {
   "cell_type": "markdown",
   "id": "b896b7c7",
   "metadata": {},
   "source": [
    "# Load labels"
   ]
  },
  {
   "cell_type": "code",
   "execution_count": 38,
   "id": "2988dedf",
   "metadata": {},
   "outputs": [
    {
     "name": "stdout",
     "output_type": "stream",
     "text": [
      "28319\n"
     ]
    }
   ],
   "source": [
    "label_dict_path = root_dir + \"labels_dict.pickle\"\n",
    "with open(label_dict_path, 'rb') as handle:\n",
    "    label_dict = pickle.load(handle)\n",
    "print(len(label_dict.keys()))"
   ]
  },
  {
   "cell_type": "code",
   "execution_count": 39,
   "id": "d89cc470",
   "metadata": {},
   "outputs": [
    {
     "name": "stdout",
     "output_type": "stream",
     "text": [
      "0.38014650344848633\n"
     ]
    }
   ],
   "source": [
    "start_time = time.time()\n",
    "node_list['Identity'] = node_list.apply(lambda row: label_dict[row['Address']] if (row['Address'] in label_dict.keys()) else '', axis=1)\n",
    "print(time.time()-start_time)"
   ]
  },
  {
   "cell_type": "code",
   "execution_count": 40,
   "id": "7fceedff",
   "metadata": {},
   "outputs": [
    {
     "data": {
      "text/html": [
       "<div>\n",
       "<style scoped>\n",
       "    .dataframe tbody tr th:only-of-type {\n",
       "        vertical-align: middle;\n",
       "    }\n",
       "\n",
       "    .dataframe tbody tr th {\n",
       "        vertical-align: top;\n",
       "    }\n",
       "\n",
       "    .dataframe thead th {\n",
       "        text-align: right;\n",
       "    }\n",
       "</style>\n",
       "<table border=\"1\" class=\"dataframe\">\n",
       "  <thead>\n",
       "    <tr style=\"text-align: right;\">\n",
       "      <th></th>\n",
       "      <th>Address</th>\n",
       "      <th>ID</th>\n",
       "      <th>Reputation (x10e6)</th>\n",
       "      <th>Reputation (Log Scale)</th>\n",
       "      <th>Total Transfer</th>\n",
       "      <th>Total Receive</th>\n",
       "      <th>Total Transactions</th>\n",
       "      <th>Total Gas Spent</th>\n",
       "      <th>Degree</th>\n",
       "      <th>In Degree</th>\n",
       "      <th>Out Degree</th>\n",
       "      <th>Identity</th>\n",
       "    </tr>\n",
       "  </thead>\n",
       "  <tbody>\n",
       "    <tr>\n",
       "      <th>0</th>\n",
       "      <td>0x27c2943985d0beeaa850a5bc13b1fc34b797b8d2</td>\n",
       "      <td>0</td>\n",
       "      <td>13.009929</td>\n",
       "      <td>511.572756</td>\n",
       "      <td>262</td>\n",
       "      <td>1</td>\n",
       "      <td>263</td>\n",
       "      <td>134970379</td>\n",
       "      <td>20</td>\n",
       "      <td>1</td>\n",
       "      <td>19</td>\n",
       "      <td></td>\n",
       "    </tr>\n",
       "    <tr>\n",
       "      <th>1</th>\n",
       "      <td>0x20ec291bb8459b6145317e7126532ce7ece5056f</td>\n",
       "      <td>1</td>\n",
       "      <td>3471.525167</td>\n",
       "      <td>754.125158</td>\n",
       "      <td>0</td>\n",
       "      <td>195689</td>\n",
       "      <td>195689</td>\n",
       "      <td>0</td>\n",
       "      <td>5747</td>\n",
       "      <td>5747</td>\n",
       "      <td>0</td>\n",
       "      <td></td>\n",
       "    </tr>\n",
       "    <tr>\n",
       "      <th>2</th>\n",
       "      <td>0x85278c207f24c0ed481b84e4205bb7ee69afe306</td>\n",
       "      <td>2</td>\n",
       "      <td>13.702995</td>\n",
       "      <td>513.826144</td>\n",
       "      <td>29</td>\n",
       "      <td>2</td>\n",
       "      <td>31</td>\n",
       "      <td>14399175</td>\n",
       "      <td>11</td>\n",
       "      <td>2</td>\n",
       "      <td>9</td>\n",
       "      <td></td>\n",
       "    </tr>\n",
       "    <tr>\n",
       "      <th>3</th>\n",
       "      <td>0x7b0b35b416631f05f321fe74990817dca81cabde</td>\n",
       "      <td>3</td>\n",
       "      <td>13.009929</td>\n",
       "      <td>511.572756</td>\n",
       "      <td>41</td>\n",
       "      <td>2</td>\n",
       "      <td>43</td>\n",
       "      <td>21674922</td>\n",
       "      <td>11</td>\n",
       "      <td>1</td>\n",
       "      <td>10</td>\n",
       "      <td></td>\n",
       "    </tr>\n",
       "    <tr>\n",
       "      <th>4</th>\n",
       "      <td>0xcde540d7eafe93ac5fe6233bee57e1270d3e330f</td>\n",
       "      <td>4</td>\n",
       "      <td>21987.277497</td>\n",
       "      <td>834.266437</td>\n",
       "      <td>0</td>\n",
       "      <td>177456</td>\n",
       "      <td>177456</td>\n",
       "      <td>0</td>\n",
       "      <td>10811</td>\n",
       "      <td>10811</td>\n",
       "      <td>0</td>\n",
       "      <td></td>\n",
       "    </tr>\n",
       "  </tbody>\n",
       "</table>\n",
       "</div>"
      ],
      "text/plain": [
       "                                       Address  ID  Reputation (x10e6)  \\\n",
       "0   0x27c2943985d0beeaa850a5bc13b1fc34b797b8d2   0           13.009929   \n",
       "1   0x20ec291bb8459b6145317e7126532ce7ece5056f   1         3471.525167   \n",
       "2   0x85278c207f24c0ed481b84e4205bb7ee69afe306   2           13.702995   \n",
       "3   0x7b0b35b416631f05f321fe74990817dca81cabde   3           13.009929   \n",
       "4   0xcde540d7eafe93ac5fe6233bee57e1270d3e330f   4        21987.277497   \n",
       "\n",
       "   Reputation (Log Scale)  Total Transfer  Total Receive  Total Transactions  \\\n",
       "0              511.572756             262              1                 263   \n",
       "1              754.125158               0         195689              195689   \n",
       "2              513.826144              29              2                  31   \n",
       "3              511.572756              41              2                  43   \n",
       "4              834.266437               0         177456              177456   \n",
       "\n",
       "   Total Gas Spent  Degree  In Degree  Out Degree Identity  \n",
       "0        134970379      20          1          19           \n",
       "1                0    5747       5747           0           \n",
       "2         14399175      11          2           9           \n",
       "3         21674922      11          1          10           \n",
       "4                0   10811      10811           0           "
      ]
     },
     "execution_count": 40,
     "metadata": {},
     "output_type": "execute_result"
    }
   ],
   "source": [
    "node_list.head(5)"
   ]
  },
  {
   "cell_type": "markdown",
   "id": "4b8de88c",
   "metadata": {},
   "source": [
    "# Sort by reputation"
   ]
  },
  {
   "cell_type": "code",
   "execution_count": 41,
   "id": "e7801d22",
   "metadata": {},
   "outputs": [
    {
     "name": "stdout",
     "output_type": "stream",
     "text": [
      "0.02071070671081543\n"
     ]
    }
   ],
   "source": [
    "start_time = time.time()\n",
    "node_list.sort_values('Reputation (x10e6)', inplace=True, ascending=False)\n",
    "print(time.time()-start_time)"
   ]
  },
  {
   "cell_type": "code",
   "execution_count": 43,
   "id": "b06aeb2d",
   "metadata": {},
   "outputs": [
    {
     "data": {
      "text/html": [
       "<div>\n",
       "<style scoped>\n",
       "    .dataframe tbody tr th:only-of-type {\n",
       "        vertical-align: middle;\n",
       "    }\n",
       "\n",
       "    .dataframe tbody tr th {\n",
       "        vertical-align: top;\n",
       "    }\n",
       "\n",
       "    .dataframe thead th {\n",
       "        text-align: right;\n",
       "    }\n",
       "</style>\n",
       "<table border=\"1\" class=\"dataframe\">\n",
       "  <thead>\n",
       "    <tr style=\"text-align: right;\">\n",
       "      <th></th>\n",
       "      <th>Address</th>\n",
       "      <th>ID</th>\n",
       "      <th>Reputation (x10e6)</th>\n",
       "      <th>Reputation (Log Scale)</th>\n",
       "      <th>Total Transfer</th>\n",
       "      <th>Total Receive</th>\n",
       "      <th>Total Transactions</th>\n",
       "      <th>Total Gas Spent</th>\n",
       "      <th>Degree</th>\n",
       "      <th>In Degree</th>\n",
       "      <th>Out Degree</th>\n",
       "      <th>Identity</th>\n",
       "    </tr>\n",
       "  </thead>\n",
       "  <tbody>\n",
       "    <tr>\n",
       "      <th>103</th>\n",
       "      <td>0x631fc1ea2270e98fbd9d92658ece0f5a269aa161</td>\n",
       "      <td>103</td>\n",
       "      <td>25765.034953</td>\n",
       "      <td>841.150318</td>\n",
       "      <td>95652</td>\n",
       "      <td>13193</td>\n",
       "      <td>108845</td>\n",
       "      <td>64071463120</td>\n",
       "      <td>23337</td>\n",
       "      <td>6280</td>\n",
       "      <td>17057</td>\n",
       "      <td>Binance Hot Wallet</td>\n",
       "    </tr>\n",
       "    <tr>\n",
       "      <th>4</th>\n",
       "      <td>0xcde540d7eafe93ac5fe6233bee57e1270d3e330f</td>\n",
       "      <td>4</td>\n",
       "      <td>21987.277497</td>\n",
       "      <td>834.266437</td>\n",
       "      <td>0</td>\n",
       "      <td>177456</td>\n",
       "      <td>177456</td>\n",
       "      <td>0</td>\n",
       "      <td>10811</td>\n",
       "      <td>10811</td>\n",
       "      <td>0</td>\n",
       "      <td></td>\n",
       "    </tr>\n",
       "    <tr>\n",
       "      <th>8087</th>\n",
       "      <td>0x05ff2b0db69458a0750badebc4f9e13add608c7f</td>\n",
       "      <td>8087</td>\n",
       "      <td>19926.252117</td>\n",
       "      <td>829.993124</td>\n",
       "      <td>0</td>\n",
       "      <td>151603</td>\n",
       "      <td>151603</td>\n",
       "      <td>0</td>\n",
       "      <td>9993</td>\n",
       "      <td>9993</td>\n",
       "      <td>0</td>\n",
       "      <td>PancakeSwap: Router</td>\n",
       "    </tr>\n",
       "    <tr>\n",
       "      <th>202</th>\n",
       "      <td>0xe02df9e3e622debdd69fb838bb799e3f168902c5</td>\n",
       "      <td>202</td>\n",
       "      <td>18260.090654</td>\n",
       "      <td>826.201983</td>\n",
       "      <td>0</td>\n",
       "      <td>20044</td>\n",
       "      <td>20044</td>\n",
       "      <td>0</td>\n",
       "      <td>10194</td>\n",
       "      <td>10194</td>\n",
       "      <td>0</td>\n",
       "      <td>BakerySwap BAKE Token</td>\n",
       "    </tr>\n",
       "    <tr>\n",
       "      <th>237</th>\n",
       "      <td>0xd954551853f55deb4ae31407c423e67b1621424a</td>\n",
       "      <td>237</td>\n",
       "      <td>17140.337743</td>\n",
       "      <td>823.454444</td>\n",
       "      <td>0</td>\n",
       "      <td>31111</td>\n",
       "      <td>31111</td>\n",
       "      <td>0</td>\n",
       "      <td>6725</td>\n",
       "      <td>6725</td>\n",
       "      <td>0</td>\n",
       "      <td></td>\n",
       "    </tr>\n",
       "  </tbody>\n",
       "</table>\n",
       "</div>"
      ],
      "text/plain": [
       "                                          Address    ID  Reputation (x10e6)  \\\n",
       "103    0x631fc1ea2270e98fbd9d92658ece0f5a269aa161   103        25765.034953   \n",
       "4      0xcde540d7eafe93ac5fe6233bee57e1270d3e330f     4        21987.277497   \n",
       "8087   0x05ff2b0db69458a0750badebc4f9e13add608c7f  8087        19926.252117   \n",
       "202    0xe02df9e3e622debdd69fb838bb799e3f168902c5   202        18260.090654   \n",
       "237    0xd954551853f55deb4ae31407c423e67b1621424a   237        17140.337743   \n",
       "\n",
       "      Reputation (Log Scale)  Total Transfer  Total Receive  \\\n",
       "103               841.150318           95652          13193   \n",
       "4                 834.266437               0         177456   \n",
       "8087              829.993124               0         151603   \n",
       "202               826.201983               0          20044   \n",
       "237               823.454444               0          31111   \n",
       "\n",
       "      Total Transactions  Total Gas Spent  Degree  In Degree  Out Degree  \\\n",
       "103               108845      64071463120   23337       6280       17057   \n",
       "4                 177456                0   10811      10811           0   \n",
       "8087              151603                0    9993       9993           0   \n",
       "202                20044                0   10194      10194           0   \n",
       "237                31111                0    6725       6725           0   \n",
       "\n",
       "                    Identity  \n",
       "103       Binance Hot Wallet  \n",
       "4                             \n",
       "8087     PancakeSwap: Router  \n",
       "202    BakerySwap BAKE Token  \n",
       "237                           "
      ]
     },
     "execution_count": 43,
     "metadata": {},
     "output_type": "execute_result"
    }
   ],
   "source": [
    "node_list.head(5)"
   ]
  },
  {
   "cell_type": "markdown",
   "id": "4f98f8c4",
   "metadata": {},
   "source": [
    "# Clean and Export Ranking Table"
   ]
  },
  {
   "cell_type": "code",
   "execution_count": 44,
   "id": "ad6c192f",
   "metadata": {},
   "outputs": [
    {
     "name": "stdout",
     "output_type": "stream",
     "text": [
      "['Address', 'ID', 'Reputation (x10e6)', 'Reputation (Log Scale)', 'Total Transfer', 'Total Receive', 'Total Transactions', 'Total Gas Spent', 'Degree', 'In Degree', 'Out Degree', 'Identity']\n"
     ]
    }
   ],
   "source": [
    "print(node_list.columns.tolist())"
   ]
  },
  {
   "cell_type": "code",
   "execution_count": 45,
   "id": "1104f146",
   "metadata": {},
   "outputs": [],
   "source": [
    "# fix \" \" in address\n",
    "node_list[\"newAddress\"] = node_list.apply(lambda row: row['Address'].replace(\" \", \"\"), axis=1)"
   ]
  },
  {
   "cell_type": "code",
   "execution_count": 47,
   "id": "7621f652",
   "metadata": {},
   "outputs": [],
   "source": [
    "export_ranking_table = node_list[['Address', 'ID', 'Reputation (x10e6)', 'Reputation (Log Scale)', 'Total Transfer', 'Total Receive', 'Total Transactions', 'Total Gas Spent', 'Degree', 'In Degree', 'Out Degree', 'Identity']].copy()"
   ]
  },
  {
   "cell_type": "code",
   "execution_count": 48,
   "id": "09abdeaf",
   "metadata": {},
   "outputs": [],
   "source": [
    "# rename columns\n",
    "export_ranking_table.rename(columns = {'newAddress':'Address'}, inplace = True)"
   ]
  },
  {
   "cell_type": "code",
   "execution_count": 49,
   "id": "db4b4c40",
   "metadata": {},
   "outputs": [
    {
     "data": {
      "text/html": [
       "<div>\n",
       "<style scoped>\n",
       "    .dataframe tbody tr th:only-of-type {\n",
       "        vertical-align: middle;\n",
       "    }\n",
       "\n",
       "    .dataframe tbody tr th {\n",
       "        vertical-align: top;\n",
       "    }\n",
       "\n",
       "    .dataframe thead th {\n",
       "        text-align: right;\n",
       "    }\n",
       "</style>\n",
       "<table border=\"1\" class=\"dataframe\">\n",
       "  <thead>\n",
       "    <tr style=\"text-align: right;\">\n",
       "      <th></th>\n",
       "      <th>Address</th>\n",
       "      <th>ID</th>\n",
       "      <th>Reputation (x10e6)</th>\n",
       "      <th>Reputation (Log Scale)</th>\n",
       "      <th>Total Transfer</th>\n",
       "      <th>Total Receive</th>\n",
       "      <th>Total Transactions</th>\n",
       "      <th>Total Gas Spent</th>\n",
       "      <th>Degree</th>\n",
       "      <th>In Degree</th>\n",
       "      <th>Out Degree</th>\n",
       "      <th>Identity</th>\n",
       "    </tr>\n",
       "  </thead>\n",
       "  <tbody>\n",
       "    <tr>\n",
       "      <th>103</th>\n",
       "      <td>0x631fc1ea2270e98fbd9d92658ece0f5a269aa161</td>\n",
       "      <td>103</td>\n",
       "      <td>25765.034953</td>\n",
       "      <td>841.150318</td>\n",
       "      <td>95652</td>\n",
       "      <td>13193</td>\n",
       "      <td>108845</td>\n",
       "      <td>64071463120</td>\n",
       "      <td>23337</td>\n",
       "      <td>6280</td>\n",
       "      <td>17057</td>\n",
       "      <td>Binance Hot Wallet</td>\n",
       "    </tr>\n",
       "    <tr>\n",
       "      <th>4</th>\n",
       "      <td>0xcde540d7eafe93ac5fe6233bee57e1270d3e330f</td>\n",
       "      <td>4</td>\n",
       "      <td>21987.277497</td>\n",
       "      <td>834.266437</td>\n",
       "      <td>0</td>\n",
       "      <td>177456</td>\n",
       "      <td>177456</td>\n",
       "      <td>0</td>\n",
       "      <td>10811</td>\n",
       "      <td>10811</td>\n",
       "      <td>0</td>\n",
       "      <td></td>\n",
       "    </tr>\n",
       "    <tr>\n",
       "      <th>8087</th>\n",
       "      <td>0x05ff2b0db69458a0750badebc4f9e13add608c7f</td>\n",
       "      <td>8087</td>\n",
       "      <td>19926.252117</td>\n",
       "      <td>829.993124</td>\n",
       "      <td>0</td>\n",
       "      <td>151603</td>\n",
       "      <td>151603</td>\n",
       "      <td>0</td>\n",
       "      <td>9993</td>\n",
       "      <td>9993</td>\n",
       "      <td>0</td>\n",
       "      <td>PancakeSwap: Router</td>\n",
       "    </tr>\n",
       "    <tr>\n",
       "      <th>202</th>\n",
       "      <td>0xe02df9e3e622debdd69fb838bb799e3f168902c5</td>\n",
       "      <td>202</td>\n",
       "      <td>18260.090654</td>\n",
       "      <td>826.201983</td>\n",
       "      <td>0</td>\n",
       "      <td>20044</td>\n",
       "      <td>20044</td>\n",
       "      <td>0</td>\n",
       "      <td>10194</td>\n",
       "      <td>10194</td>\n",
       "      <td>0</td>\n",
       "      <td>BakerySwap BAKE Token</td>\n",
       "    </tr>\n",
       "    <tr>\n",
       "      <th>237</th>\n",
       "      <td>0xd954551853f55deb4ae31407c423e67b1621424a</td>\n",
       "      <td>237</td>\n",
       "      <td>17140.337743</td>\n",
       "      <td>823.454444</td>\n",
       "      <td>0</td>\n",
       "      <td>31111</td>\n",
       "      <td>31111</td>\n",
       "      <td>0</td>\n",
       "      <td>6725</td>\n",
       "      <td>6725</td>\n",
       "      <td>0</td>\n",
       "      <td></td>\n",
       "    </tr>\n",
       "  </tbody>\n",
       "</table>\n",
       "</div>"
      ],
      "text/plain": [
       "                                          Address    ID  Reputation (x10e6)  \\\n",
       "103    0x631fc1ea2270e98fbd9d92658ece0f5a269aa161   103        25765.034953   \n",
       "4      0xcde540d7eafe93ac5fe6233bee57e1270d3e330f     4        21987.277497   \n",
       "8087   0x05ff2b0db69458a0750badebc4f9e13add608c7f  8087        19926.252117   \n",
       "202    0xe02df9e3e622debdd69fb838bb799e3f168902c5   202        18260.090654   \n",
       "237    0xd954551853f55deb4ae31407c423e67b1621424a   237        17140.337743   \n",
       "\n",
       "      Reputation (Log Scale)  Total Transfer  Total Receive  \\\n",
       "103               841.150318           95652          13193   \n",
       "4                 834.266437               0         177456   \n",
       "8087              829.993124               0         151603   \n",
       "202               826.201983               0          20044   \n",
       "237               823.454444               0          31111   \n",
       "\n",
       "      Total Transactions  Total Gas Spent  Degree  In Degree  Out Degree  \\\n",
       "103               108845      64071463120   23337       6280       17057   \n",
       "4                 177456                0   10811      10811           0   \n",
       "8087              151603                0    9993       9993           0   \n",
       "202                20044                0   10194      10194           0   \n",
       "237                31111                0    6725       6725           0   \n",
       "\n",
       "                    Identity  \n",
       "103       Binance Hot Wallet  \n",
       "4                             \n",
       "8087     PancakeSwap: Router  \n",
       "202    BakerySwap BAKE Token  \n",
       "237                           "
      ]
     },
     "execution_count": 49,
     "metadata": {},
     "output_type": "execute_result"
    }
   ],
   "source": [
    "export_ranking_table.head(5)"
   ]
  },
  {
   "cell_type": "code",
   "execution_count": 50,
   "id": "a099aacc",
   "metadata": {},
   "outputs": [],
   "source": [
    "# export top 1000\n",
    "export_ranking_top_1000 = export_ranking_table.head(1000)"
   ]
  },
  {
   "cell_type": "code",
   "execution_count": 51,
   "id": "ab3a71a9",
   "metadata": {},
   "outputs": [],
   "source": [
    "# save to disk\n",
    "export_ranking_path = root_dir + \"export_ranking_bsc_2022.csv\"\n",
    "export_ranking_top_1000_path = root_dir + \"export_ranking_bsc_2022_top_1000.csv\"\n",
    "export_ranking_table.to_csv(export_ranking_path, index=False)\n",
    "export_ranking_top_1000.to_csv(export_ranking_top_1000_path, index=False)"
   ]
  },
  {
   "cell_type": "code",
   "execution_count": null,
   "id": "827388bd",
   "metadata": {},
   "outputs": [],
   "source": []
  }
 ],
 "metadata": {
  "kernelspec": {
   "display_name": "Python 3 (ipykernel)",
   "language": "python",
   "name": "python3"
  },
  "language_info": {
   "codemirror_mode": {
    "name": "ipython",
    "version": 3
   },
   "file_extension": ".py",
   "mimetype": "text/x-python",
   "name": "python",
   "nbconvert_exporter": "python",
   "pygments_lexer": "ipython3",
   "version": "3.9.13"
  }
 },
 "nbformat": 4,
 "nbformat_minor": 5
}
