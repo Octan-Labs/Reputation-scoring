{
 "cells": [
  {
   "cell_type": "markdown",
   "id": "03633712",
   "metadata": {},
   "source": [
    "# Libraries"
   ]
  },
  {
   "cell_type": "code",
   "execution_count": 1,
   "id": "66de440a",
   "metadata": {},
   "outputs": [],
   "source": [
    "import pandas as pd\n",
    "import networkx as nx\n",
    "import os\n",
    "import pickle\n",
    "import time"
   ]
  },
  {
   "cell_type": "code",
   "execution_count": 2,
   "id": "572eedcf",
   "metadata": {},
   "outputs": [],
   "source": [
    "root_dir = \"/media/visionin/data_station/OctanData/BSC/running/2022_old_data/save_dir/\""
   ]
  },
  {
   "cell_type": "markdown",
   "id": "c1352190",
   "metadata": {},
   "source": [
    "# Load Graph df data"
   ]
  },
  {
   "cell_type": "code",
   "execution_count": 3,
   "id": "22ffe544",
   "metadata": {},
   "outputs": [],
   "source": [
    "graph_data_path = root_dir + \"graph_initialized_data.csv\"\n",
    "graph_data_df = pd.read_csv(graph_data_path)"
   ]
  },
  {
   "cell_type": "code",
   "execution_count": 4,
   "id": "167c1e6d",
   "metadata": {},
   "outputs": [
    {
     "data": {
      "text/html": [
       "<div>\n",
       "<style scoped>\n",
       "    .dataframe tbody tr th:only-of-type {\n",
       "        vertical-align: middle;\n",
       "    }\n",
       "\n",
       "    .dataframe tbody tr th {\n",
       "        vertical-align: top;\n",
       "    }\n",
       "\n",
       "    .dataframe thead th {\n",
       "        text-align: right;\n",
       "    }\n",
       "</style>\n",
       "<table border=\"1\" class=\"dataframe\">\n",
       "  <thead>\n",
       "    <tr style=\"text-align: right;\">\n",
       "      <th></th>\n",
       "      <th>block_number_dec</th>\n",
       "      <th>masked_from</th>\n",
       "      <th>masked_to</th>\n",
       "      <th>age_weights</th>\n",
       "    </tr>\n",
       "  </thead>\n",
       "  <tbody>\n",
       "    <tr>\n",
       "      <th>0</th>\n",
       "      <td>1</td>\n",
       "      <td>55</td>\n",
       "      <td>393</td>\n",
       "      <td>1.40506</td>\n",
       "    </tr>\n",
       "    <tr>\n",
       "      <th>1</th>\n",
       "      <td>1</td>\n",
       "      <td>55</td>\n",
       "      <td>21275</td>\n",
       "      <td>1.40506</td>\n",
       "    </tr>\n",
       "    <tr>\n",
       "      <th>2</th>\n",
       "      <td>1</td>\n",
       "      <td>55</td>\n",
       "      <td>353</td>\n",
       "      <td>1.40506</td>\n",
       "    </tr>\n",
       "    <tr>\n",
       "      <th>3</th>\n",
       "      <td>1</td>\n",
       "      <td>55</td>\n",
       "      <td>11321</td>\n",
       "      <td>1.40506</td>\n",
       "    </tr>\n",
       "    <tr>\n",
       "      <th>4</th>\n",
       "      <td>1</td>\n",
       "      <td>55</td>\n",
       "      <td>392</td>\n",
       "      <td>1.40506</td>\n",
       "    </tr>\n",
       "  </tbody>\n",
       "</table>\n",
       "</div>"
      ],
      "text/plain": [
       "   block_number_dec  masked_from  masked_to  age_weights\n",
       "0                 1           55        393      1.40506\n",
       "1                 1           55      21275      1.40506\n",
       "2                 1           55        353      1.40506\n",
       "3                 1           55      11321      1.40506\n",
       "4                 1           55        392      1.40506"
      ]
     },
     "execution_count": 4,
     "metadata": {},
     "output_type": "execute_result"
    }
   ],
   "source": [
    "graph_data_df.head(5)"
   ]
  },
  {
   "cell_type": "code",
   "execution_count": 5,
   "id": "c14aa447",
   "metadata": {},
   "outputs": [
    {
     "name": "stdout",
     "output_type": "stream",
     "text": [
      "317454\n"
     ]
    }
   ],
   "source": [
    "print(len(graph_data_df))"
   ]
  },
  {
   "cell_type": "markdown",
   "id": "7908d0d7",
   "metadata": {},
   "source": [
    "# Load personalized vector"
   ]
  },
  {
   "cell_type": "code",
   "execution_count": 7,
   "id": "b63c85a1",
   "metadata": {},
   "outputs": [
    {
     "name": "stdout",
     "output_type": "stream",
     "text": [
      "53187\n"
     ]
    }
   ],
   "source": [
    "# load address indexing\n",
    "personalized_vector_path = root_dir + \"personalized_vetor.pickle\"\n",
    "with open(personalized_vector_path, 'rb') as handle:\n",
    "    personalized_vector = pickle.load(handle)\n",
    "print(len(personalized_vector.keys()))"
   ]
  },
  {
   "cell_type": "markdown",
   "id": "e4929bbf",
   "metadata": {},
   "source": [
    "# Graph initialization"
   ]
  },
  {
   "cell_type": "code",
   "execution_count": 8,
   "id": "ef5b0ecd",
   "metadata": {},
   "outputs": [
    {
     "name": "stdout",
     "output_type": "stream",
     "text": [
      "1.07122802734375 s\n"
     ]
    }
   ],
   "source": [
    "start_time = time.time()\n",
    "graph_bsc = nx.from_pandas_edgelist(graph_data_df, source=\"masked_from\", target=\"masked_to\", edge_attr=\"age_weights\", create_using=nx.DiGraph())\n",
    "print(time.time() - start_time, \"s\")"
   ]
  },
  {
   "cell_type": "markdown",
   "id": "887e327b",
   "metadata": {},
   "source": [
    "# Pagerank calculation"
   ]
  },
  {
   "cell_type": "code",
   "execution_count": 9,
   "id": "26064675",
   "metadata": {},
   "outputs": [
    {
     "name": "stdout",
     "output_type": "stream",
     "text": [
      "1.1097218990325928 s\n"
     ]
    }
   ],
   "source": [
    "start_time = time.time()\n",
    "weighted_pagerank_v1 = nx.pagerank(graph_bsc, alpha=0.85, personalization=personalized_vector, weight='age_weights')\n",
    "print(time.time()-start_time, \"s\")"
   ]
  },
  {
   "cell_type": "code",
   "execution_count": 10,
   "id": "19f0e681",
   "metadata": {},
   "outputs": [
    {
     "name": "stdout",
     "output_type": "stream",
     "text": [
      "1.1750438213348389 s\n"
     ]
    }
   ],
   "source": [
    "start_time = time.time()\n",
    "weighted_pagerank_v2 = nx.pagerank(graph_bsc, alpha=0.5, personalization=personalized_vector, weight='age_weights')\n",
    "print(time.time()-start_time, \"s\")"
   ]
  },
  {
   "cell_type": "code",
   "execution_count": 11,
   "id": "01cec8ef",
   "metadata": {},
   "outputs": [
    {
     "name": "stdout",
     "output_type": "stream",
     "text": [
      "0.920172929763794 s\n"
     ]
    }
   ],
   "source": [
    "start_time = time.time()\n",
    "weighted_pagerank_v3 = nx.pagerank(graph_bsc, alpha=0.5, personalization=None, weight='age_weights')\n",
    "print(time.time()-start_time, \"s\")"
   ]
  },
  {
   "cell_type": "code",
   "execution_count": 12,
   "id": "38fa79a7",
   "metadata": {},
   "outputs": [
    {
     "name": "stdout",
     "output_type": "stream",
     "text": [
      "0.886533260345459 s\n"
     ]
    }
   ],
   "source": [
    "start_time = time.time()\n",
    "weighted_pagerank_v4 = nx.pagerank(graph_bsc, alpha=0.5)\n",
    "print(time.time()-start_time, \"s\")"
   ]
  },
  {
   "cell_type": "markdown",
   "id": "016f7c0e",
   "metadata": {},
   "source": [
    "# in-out degree"
   ]
  },
  {
   "cell_type": "code",
   "execution_count": 13,
   "id": "930d8e34",
   "metadata": {},
   "outputs": [],
   "source": [
    "degree_centrality = {n: d for n, d in graph_bsc.degree()}"
   ]
  },
  {
   "cell_type": "code",
   "execution_count": 14,
   "id": "80196c79",
   "metadata": {},
   "outputs": [],
   "source": [
    "indegree_centrality = {n: d for n, d in graph_bsc.in_degree()}"
   ]
  },
  {
   "cell_type": "code",
   "execution_count": 15,
   "id": "87df870b",
   "metadata": {},
   "outputs": [],
   "source": [
    "outdegree_centrality = {n: d for n, d in graph_bsc.out_degree()}"
   ]
  },
  {
   "cell_type": "markdown",
   "id": "085b4e69",
   "metadata": {},
   "source": [
    "# save result\n"
   ]
  },
  {
   "cell_type": "code",
   "execution_count": 16,
   "id": "72c7435e",
   "metadata": {},
   "outputs": [],
   "source": [
    "# pagerank\n",
    "pagerank_v1_save_path = root_dir + \"weighted_pagerank_v1.pickle\"\n",
    "with open(pagerank_v1_save_path, 'wb') as handle:\n",
    "    pickle.dump(weighted_pagerank_v1, handle, protocol=pickle.HIGHEST_PROTOCOL)\n",
    "pagerank_v2_save_path = root_dir + \"weighted_pagerank_v2.pickle\"\n",
    "with open(pagerank_v2_save_path, 'wb') as handle:\n",
    "    pickle.dump(weighted_pagerank_v2, handle, protocol=pickle.HIGHEST_PROTOCOL)\n"
   ]
  },
  {
   "cell_type": "code",
   "execution_count": 17,
   "id": "3c4d75ac",
   "metadata": {},
   "outputs": [],
   "source": [
    "# pagerank\n",
    "pagerank_v3_save_path = root_dir + \"weighted_pagerank_v3.pickle\"\n",
    "with open(pagerank_v3_save_path, 'wb') as handle:\n",
    "    pickle.dump(weighted_pagerank_v3, handle, protocol=pickle.HIGHEST_PROTOCOL)\n",
    "pagerank_v4_save_path = root_dir + \"weighted_pagerank_v4.pickle\"\n",
    "with open(pagerank_v4_save_path, 'wb') as handle:\n",
    "    pickle.dump(weighted_pagerank_v4, handle, protocol=pickle.HIGHEST_PROTOCOL)"
   ]
  },
  {
   "cell_type": "code",
   "execution_count": 18,
   "id": "b8c4cd73",
   "metadata": {},
   "outputs": [],
   "source": [
    "# degree\n",
    "\n",
    "degree_save_path = root_dir+\"degree.pickle\"\n",
    "with open(degree_save_path, 'wb') as handle:\n",
    "    pickle.dump(degree_centrality, handle, protocol=pickle.HIGHEST_PROTOCOL)\n",
    "\n",
    "in_degree_save_path = root_dir+\"in_degree.pickle\"\n",
    "with open(in_degree_save_path, 'wb') as handle:\n",
    "    pickle.dump(indegree_centrality, handle, protocol=pickle.HIGHEST_PROTOCOL)\n",
    "    \n",
    "out_degree_save_path = root_dir+\"out_degree.pickle\"\n",
    "with open(out_degree_save_path, 'wb') as handle:\n",
    "    pickle.dump(outdegree_centrality, handle, protocol=pickle.HIGHEST_PROTOCOL)\n"
   ]
  },
  {
   "cell_type": "code",
   "execution_count": null,
   "id": "5628c879",
   "metadata": {},
   "outputs": [],
   "source": []
  }
 ],
 "metadata": {
  "kernelspec": {
   "display_name": "Python 3 (ipykernel)",
   "language": "python",
   "name": "python3"
  },
  "language_info": {
   "codemirror_mode": {
    "name": "ipython",
    "version": 3
   },
   "file_extension": ".py",
   "mimetype": "text/x-python",
   "name": "python",
   "nbconvert_exporter": "python",
   "pygments_lexer": "ipython3",
   "version": "3.9.13"
  }
 },
 "nbformat": 4,
 "nbformat_minor": 5
}
