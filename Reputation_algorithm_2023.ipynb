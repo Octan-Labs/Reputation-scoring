{
 "cells": [
  {
   "cell_type": "code",
   "execution_count": 1,
   "id": "e2141ab7",
   "metadata": {},
   "outputs": [],
   "source": [
    "import pandas as pd\n",
    "import numpy as np\n",
    "import networkx as nx"
   ]
  },
  {
   "cell_type": "markdown",
   "id": "6205ea99",
   "metadata": {},
   "source": [
    "# Loading input data"
   ]
  },
  {
   "cell_type": "code",
   "execution_count": 2,
   "id": "4dd33eae",
   "metadata": {},
   "outputs": [],
   "source": [
    "data_path = \"/media/visionin/data_station/OctanData/AWS_SYNC/ETHER/part-00000-0a952bea-b75a-47fb-822a-298745a389ef-c000.csv\""
   ]
  },
  {
   "cell_type": "code",
   "execution_count": 3,
   "id": "4d59ac09",
   "metadata": {},
   "outputs": [
    {
     "name": "stderr",
     "output_type": "stream",
     "text": [
      "/tmp/ipykernel_19093/391930957.py:1: DtypeWarning: Columns (6,7,8) have mixed types. Specify dtype option on import or set low_memory=False.\n",
      "  data_df = pd.read_csv(data_path)\n"
     ]
    }
   ],
   "source": [
    "data_df = pd.read_csv(data_path)"
   ]
  },
  {
   "cell_type": "code",
   "execution_count": 4,
   "id": "1bb1b832",
   "metadata": {},
   "outputs": [
    {
     "data": {
      "text/plain": [
       "2283751"
      ]
     },
     "execution_count": 4,
     "metadata": {},
     "output_type": "execute_result"
    }
   ],
   "source": [
    "len(data_df)"
   ]
  },
  {
   "cell_type": "code",
   "execution_count": 9,
   "id": "c7cd87f6",
   "metadata": {},
   "outputs": [
    {
     "data": {
      "text/html": [
       "<div>\n",
       "<style scoped>\n",
       "    .dataframe tbody tr th:only-of-type {\n",
       "        vertical-align: middle;\n",
       "    }\n",
       "\n",
       "    .dataframe tbody tr th {\n",
       "        vertical-align: top;\n",
       "    }\n",
       "\n",
       "    .dataframe thead th {\n",
       "        text-align: right;\n",
       "    }\n",
       "</style>\n",
       "<table border=\"1\" class=\"dataframe\">\n",
       "  <thead>\n",
       "    <tr style=\"text-align: right;\">\n",
       "      <th></th>\n",
       "      <th>block_number</th>\n",
       "      <th>from_address</th>\n",
       "      <th>to_address</th>\n",
       "      <th>gas</th>\n",
       "      <th>gas_used</th>\n",
       "      <th>gas_price</th>\n",
       "      <th>value</th>\n",
       "      <th>token_transfer</th>\n",
       "      <th>token_contract</th>\n",
       "      <th>volume</th>\n",
       "      <th>gas_spent</th>\n",
       "      <th>gas_spent_usd</th>\n",
       "    </tr>\n",
       "  </thead>\n",
       "  <tbody>\n",
       "    <tr>\n",
       "      <th>0</th>\n",
       "      <td>16551701</td>\n",
       "      <td>0x68cc21f7c777243d1a9c71c2349bfdccd8ca7b78</td>\n",
       "      <td>0xe8c060f8052e07423f71d445277c61ac5138a2e5</td>\n",
       "      <td>352525</td>\n",
       "      <td>280678</td>\n",
       "      <td>19006170243</td>\n",
       "      <td>0</td>\n",
       "      <td>NaN</td>\n",
       "      <td>NaN</td>\n",
       "      <td>0.000000e+00</td>\n",
       "      <td>0.005335</td>\n",
       "      <td>8.879317</td>\n",
       "    </tr>\n",
       "    <tr>\n",
       "      <th>1</th>\n",
       "      <td>16551701</td>\n",
       "      <td>0x4191131cd452e9729546b79f9f4e00c12e1d1c22</td>\n",
       "      <td>0x1111111254eeb25477b68fb85ed929f73a960582</td>\n",
       "      <td>1035120</td>\n",
       "      <td>697882</td>\n",
       "      <td>20017190718</td>\n",
       "      <td>0</td>\n",
       "      <td>NaN</td>\n",
       "      <td>NaN</td>\n",
       "      <td>0.000000e+00</td>\n",
       "      <td>0.013970</td>\n",
       "      <td>23.252074</td>\n",
       "    </tr>\n",
       "    <tr>\n",
       "      <th>2</th>\n",
       "      <td>16551701</td>\n",
       "      <td>0x68cc21f7c777243d1a9c71c2349bfdccd8ca7b78</td>\n",
       "      <td>0xe8c060f8052e07423f71d445277c61ac5138a2e5</td>\n",
       "      <td>348594</td>\n",
       "      <td>277072</td>\n",
       "      <td>19006170243</td>\n",
       "      <td>0</td>\n",
       "      <td>NaN</td>\n",
       "      <td>NaN</td>\n",
       "      <td>0.000000e+00</td>\n",
       "      <td>0.005266</td>\n",
       "      <td>8.765240</td>\n",
       "    </tr>\n",
       "    <tr>\n",
       "      <th>3</th>\n",
       "      <td>16551701</td>\n",
       "      <td>0x00000027f490acee7f11ab5fdd47209d6422c5a7</td>\n",
       "      <td>0xa7003527af20001c000037a90051b19ce31eed36</td>\n",
       "      <td>170660</td>\n",
       "      <td>85330</td>\n",
       "      <td>19006170243</td>\n",
       "      <td>327792709</td>\n",
       "      <td>NaN</td>\n",
       "      <td>NaN</td>\n",
       "      <td>5.456000e-07</td>\n",
       "      <td>0.001622</td>\n",
       "      <td>2.699435</td>\n",
       "    </tr>\n",
       "    <tr>\n",
       "      <th>4</th>\n",
       "      <td>16551701</td>\n",
       "      <td>0x34d79ac362a199b3756538732e7c0b3f599cd442</td>\n",
       "      <td>0xef1c6e67703c7bd7107eed8303fbe6ec2554bf6b</td>\n",
       "      <td>193341</td>\n",
       "      <td>118808</td>\n",
       "      <td>21006170243</td>\n",
       "      <td>5000000000000000000</td>\n",
       "      <td>NaN</td>\n",
       "      <td>NaN</td>\n",
       "      <td>8.322361e+03</td>\n",
       "      <td>0.002496</td>\n",
       "      <td>4.154025</td>\n",
       "    </tr>\n",
       "  </tbody>\n",
       "</table>\n",
       "</div>"
      ],
      "text/plain": [
       "   block_number                                from_address  \\\n",
       "0      16551701  0x68cc21f7c777243d1a9c71c2349bfdccd8ca7b78   \n",
       "1      16551701  0x4191131cd452e9729546b79f9f4e00c12e1d1c22   \n",
       "2      16551701  0x68cc21f7c777243d1a9c71c2349bfdccd8ca7b78   \n",
       "3      16551701  0x00000027f490acee7f11ab5fdd47209d6422c5a7   \n",
       "4      16551701  0x34d79ac362a199b3756538732e7c0b3f599cd442   \n",
       "\n",
       "                                   to_address      gas  gas_used    gas_price  \\\n",
       "0  0xe8c060f8052e07423f71d445277c61ac5138a2e5   352525    280678  19006170243   \n",
       "1  0x1111111254eeb25477b68fb85ed929f73a960582  1035120    697882  20017190718   \n",
       "2  0xe8c060f8052e07423f71d445277c61ac5138a2e5   348594    277072  19006170243   \n",
       "3  0xa7003527af20001c000037a90051b19ce31eed36   170660     85330  19006170243   \n",
       "4  0xef1c6e67703c7bd7107eed8303fbe6ec2554bf6b   193341    118808  21006170243   \n",
       "\n",
       "                 value token_transfer token_contract        volume  gas_spent  \\\n",
       "0                    0            NaN            NaN  0.000000e+00   0.005335   \n",
       "1                    0            NaN            NaN  0.000000e+00   0.013970   \n",
       "2                    0            NaN            NaN  0.000000e+00   0.005266   \n",
       "3            327792709            NaN            NaN  5.456000e-07   0.001622   \n",
       "4  5000000000000000000            NaN            NaN  8.322361e+03   0.002496   \n",
       "\n",
       "   gas_spent_usd  \n",
       "0       8.879317  \n",
       "1      23.252074  \n",
       "2       8.765240  \n",
       "3       2.699435  \n",
       "4       4.154025  "
      ]
     },
     "execution_count": 9,
     "metadata": {},
     "output_type": "execute_result"
    }
   ],
   "source": [
    "data_df.head(5)"
   ]
  },
  {
   "cell_type": "markdown",
   "id": "5d007c1b",
   "metadata": {},
   "source": [
    "# Features Extracting"
   ]
  },
  {
   "cell_type": "code",
   "execution_count": 10,
   "id": "fe72ff37",
   "metadata": {},
   "outputs": [],
   "source": [
    "extract_data_df = data_df[['block_number','from_address','to_address','volume','gas_spent_usd']]"
   ]
  },
  {
   "cell_type": "code",
   "execution_count": 11,
   "id": "380b5dcb",
   "metadata": {},
   "outputs": [
    {
     "data": {
      "text/html": [
       "<div>\n",
       "<style scoped>\n",
       "    .dataframe tbody tr th:only-of-type {\n",
       "        vertical-align: middle;\n",
       "    }\n",
       "\n",
       "    .dataframe tbody tr th {\n",
       "        vertical-align: top;\n",
       "    }\n",
       "\n",
       "    .dataframe thead th {\n",
       "        text-align: right;\n",
       "    }\n",
       "</style>\n",
       "<table border=\"1\" class=\"dataframe\">\n",
       "  <thead>\n",
       "    <tr style=\"text-align: right;\">\n",
       "      <th></th>\n",
       "      <th>block_number</th>\n",
       "      <th>from_address</th>\n",
       "      <th>to_address</th>\n",
       "      <th>volume</th>\n",
       "      <th>gas_spent_usd</th>\n",
       "    </tr>\n",
       "  </thead>\n",
       "  <tbody>\n",
       "    <tr>\n",
       "      <th>0</th>\n",
       "      <td>16551701</td>\n",
       "      <td>0x68cc21f7c777243d1a9c71c2349bfdccd8ca7b78</td>\n",
       "      <td>0xe8c060f8052e07423f71d445277c61ac5138a2e5</td>\n",
       "      <td>0.000000e+00</td>\n",
       "      <td>8.879317</td>\n",
       "    </tr>\n",
       "    <tr>\n",
       "      <th>1</th>\n",
       "      <td>16551701</td>\n",
       "      <td>0x4191131cd452e9729546b79f9f4e00c12e1d1c22</td>\n",
       "      <td>0x1111111254eeb25477b68fb85ed929f73a960582</td>\n",
       "      <td>0.000000e+00</td>\n",
       "      <td>23.252074</td>\n",
       "    </tr>\n",
       "    <tr>\n",
       "      <th>2</th>\n",
       "      <td>16551701</td>\n",
       "      <td>0x68cc21f7c777243d1a9c71c2349bfdccd8ca7b78</td>\n",
       "      <td>0xe8c060f8052e07423f71d445277c61ac5138a2e5</td>\n",
       "      <td>0.000000e+00</td>\n",
       "      <td>8.765240</td>\n",
       "    </tr>\n",
       "    <tr>\n",
       "      <th>3</th>\n",
       "      <td>16551701</td>\n",
       "      <td>0x00000027f490acee7f11ab5fdd47209d6422c5a7</td>\n",
       "      <td>0xa7003527af20001c000037a90051b19ce31eed36</td>\n",
       "      <td>5.456000e-07</td>\n",
       "      <td>2.699435</td>\n",
       "    </tr>\n",
       "    <tr>\n",
       "      <th>4</th>\n",
       "      <td>16551701</td>\n",
       "      <td>0x34d79ac362a199b3756538732e7c0b3f599cd442</td>\n",
       "      <td>0xef1c6e67703c7bd7107eed8303fbe6ec2554bf6b</td>\n",
       "      <td>8.322361e+03</td>\n",
       "      <td>4.154025</td>\n",
       "    </tr>\n",
       "  </tbody>\n",
       "</table>\n",
       "</div>"
      ],
      "text/plain": [
       "   block_number                                from_address  \\\n",
       "0      16551701  0x68cc21f7c777243d1a9c71c2349bfdccd8ca7b78   \n",
       "1      16551701  0x4191131cd452e9729546b79f9f4e00c12e1d1c22   \n",
       "2      16551701  0x68cc21f7c777243d1a9c71c2349bfdccd8ca7b78   \n",
       "3      16551701  0x00000027f490acee7f11ab5fdd47209d6422c5a7   \n",
       "4      16551701  0x34d79ac362a199b3756538732e7c0b3f599cd442   \n",
       "\n",
       "                                   to_address        volume  gas_spent_usd  \n",
       "0  0xe8c060f8052e07423f71d445277c61ac5138a2e5  0.000000e+00       8.879317  \n",
       "1  0x1111111254eeb25477b68fb85ed929f73a960582  0.000000e+00      23.252074  \n",
       "2  0xe8c060f8052e07423f71d445277c61ac5138a2e5  0.000000e+00       8.765240  \n",
       "3  0xa7003527af20001c000037a90051b19ce31eed36  5.456000e-07       2.699435  \n",
       "4  0xef1c6e67703c7bd7107eed8303fbe6ec2554bf6b  8.322361e+03       4.154025  "
      ]
     },
     "execution_count": 11,
     "metadata": {},
     "output_type": "execute_result"
    }
   ],
   "source": [
    "extract_data_df.head(5)"
   ]
  },
  {
   "cell_type": "code",
   "execution_count": 12,
   "id": "bfc06223",
   "metadata": {},
   "outputs": [
    {
     "name": "stderr",
     "output_type": "stream",
     "text": [
      "/tmp/ipykernel_19093/504634310.py:2: SettingWithCopyWarning: \n",
      "A value is trying to be set on a copy of a slice from a DataFrame.\n",
      "Try using .loc[row_indexer,col_indexer] = value instead\n",
      "\n",
      "See the caveats in the documentation: https://pandas.pydata.org/pandas-docs/stable/user_guide/indexing.html#returning-a-view-versus-a-copy\n",
      "  extract_data_df['gas_volume_sum'] = extract_data_df.apply(lambda row: row['volume']+row['gas_spent_usd'], axis=1)\n"
     ]
    }
   ],
   "source": [
    "# transfer_value = volume + gas_spent\n",
    "extract_data_df['gas_volume_sum'] = extract_data_df.apply(lambda row: row['volume']+row['gas_spent_usd'], axis=1)"
   ]
  },
  {
   "cell_type": "markdown",
   "id": "947781e5",
   "metadata": {},
   "source": [
    "# Define weighting functions"
   ]
  },
  {
   "cell_type": "code",
   "execution_count": 15,
   "id": "dd398cbc",
   "metadata": {},
   "outputs": [],
   "source": [
    "\"\"\"\n",
    "1. Edges weights\n",
    "Y = SUM(T*V)\n",
    "where:\n",
    "    T: activeness weight\n",
    "    V: tanh value of transaction\n",
    "\"\"\"\n",
    "def tanh_function(x,\n",
    "             a=2,\n",
    "             b=1/512):\n",
    "    \"\"\"\n",
    "    V: convert transfer value to tanh value\n",
    "    \"\"\"\n",
    "    return a / (1.0 + np.exp(-b * x))-1\n",
    "\n",
    "def logistic(x,\n",
    "             a=1,\n",
    "             b=1 / 64):\n",
    "    \"\"\"Logistic function\"\"\"\n",
    "    return a / (1.0 + np.exp(-b * x))\n",
    "\n",
    "# logistic local weights\n",
    "def logistic_local_timestamp_weights(block_max, block_min, blocks_per_day=28800, active_time=90):\n",
    "    \"\"\"\n",
    "    T: Activeness function\n",
    "    \"\"\"\n",
    "    timestamp_range = [i for i in range(int((block_max-block_min)/blocks_per_day)+1)]\n",
    "    origin = timestamp_range[-1] - active_time\n",
    "    weights_dict = dict()\n",
    "    for timestamp in timestamp_range:\n",
    "        if timestamp not in weights_dict.keys():\n",
    "            edge_weight = logistic(timestamp-origin)\n",
    "            weights_dict[timestamp] = edge_weight\n",
    "    return weights_dict"
   ]
  },
  {
   "cell_type": "markdown",
   "id": "8e0c2970",
   "metadata": {},
   "source": [
    "# Apply tanh value"
   ]
  },
  {
   "cell_type": "code",
   "execution_count": 14,
   "id": "aa43a686",
   "metadata": {},
   "outputs": [
    {
     "data": {
      "text/html": [
       "<div>\n",
       "<style scoped>\n",
       "    .dataframe tbody tr th:only-of-type {\n",
       "        vertical-align: middle;\n",
       "    }\n",
       "\n",
       "    .dataframe tbody tr th {\n",
       "        vertical-align: top;\n",
       "    }\n",
       "\n",
       "    .dataframe thead th {\n",
       "        text-align: right;\n",
       "    }\n",
       "</style>\n",
       "<table border=\"1\" class=\"dataframe\">\n",
       "  <thead>\n",
       "    <tr style=\"text-align: right;\">\n",
       "      <th></th>\n",
       "      <th>block_number</th>\n",
       "      <th>from_address</th>\n",
       "      <th>to_address</th>\n",
       "      <th>volume</th>\n",
       "      <th>gas_spent_usd</th>\n",
       "      <th>gas_volume_sum</th>\n",
       "    </tr>\n",
       "  </thead>\n",
       "  <tbody>\n",
       "    <tr>\n",
       "      <th>0</th>\n",
       "      <td>16551701</td>\n",
       "      <td>0x68cc21f7c777243d1a9c71c2349bfdccd8ca7b78</td>\n",
       "      <td>0xe8c060f8052e07423f71d445277c61ac5138a2e5</td>\n",
       "      <td>0.000000e+00</td>\n",
       "      <td>8.879317</td>\n",
       "      <td>8.879317</td>\n",
       "    </tr>\n",
       "    <tr>\n",
       "      <th>1</th>\n",
       "      <td>16551701</td>\n",
       "      <td>0x4191131cd452e9729546b79f9f4e00c12e1d1c22</td>\n",
       "      <td>0x1111111254eeb25477b68fb85ed929f73a960582</td>\n",
       "      <td>0.000000e+00</td>\n",
       "      <td>23.252074</td>\n",
       "      <td>23.252074</td>\n",
       "    </tr>\n",
       "    <tr>\n",
       "      <th>2</th>\n",
       "      <td>16551701</td>\n",
       "      <td>0x68cc21f7c777243d1a9c71c2349bfdccd8ca7b78</td>\n",
       "      <td>0xe8c060f8052e07423f71d445277c61ac5138a2e5</td>\n",
       "      <td>0.000000e+00</td>\n",
       "      <td>8.765240</td>\n",
       "      <td>8.765240</td>\n",
       "    </tr>\n",
       "    <tr>\n",
       "      <th>3</th>\n",
       "      <td>16551701</td>\n",
       "      <td>0x00000027f490acee7f11ab5fdd47209d6422c5a7</td>\n",
       "      <td>0xa7003527af20001c000037a90051b19ce31eed36</td>\n",
       "      <td>5.456000e-07</td>\n",
       "      <td>2.699435</td>\n",
       "      <td>2.699436</td>\n",
       "    </tr>\n",
       "    <tr>\n",
       "      <th>4</th>\n",
       "      <td>16551701</td>\n",
       "      <td>0x34d79ac362a199b3756538732e7c0b3f599cd442</td>\n",
       "      <td>0xef1c6e67703c7bd7107eed8303fbe6ec2554bf6b</td>\n",
       "      <td>8.322361e+03</td>\n",
       "      <td>4.154025</td>\n",
       "      <td>8326.515493</td>\n",
       "    </tr>\n",
       "  </tbody>\n",
       "</table>\n",
       "</div>"
      ],
      "text/plain": [
       "   block_number                                from_address  \\\n",
       "0      16551701  0x68cc21f7c777243d1a9c71c2349bfdccd8ca7b78   \n",
       "1      16551701  0x4191131cd452e9729546b79f9f4e00c12e1d1c22   \n",
       "2      16551701  0x68cc21f7c777243d1a9c71c2349bfdccd8ca7b78   \n",
       "3      16551701  0x00000027f490acee7f11ab5fdd47209d6422c5a7   \n",
       "4      16551701  0x34d79ac362a199b3756538732e7c0b3f599cd442   \n",
       "\n",
       "                                   to_address        volume  gas_spent_usd  \\\n",
       "0  0xe8c060f8052e07423f71d445277c61ac5138a2e5  0.000000e+00       8.879317   \n",
       "1  0x1111111254eeb25477b68fb85ed929f73a960582  0.000000e+00      23.252074   \n",
       "2  0xe8c060f8052e07423f71d445277c61ac5138a2e5  0.000000e+00       8.765240   \n",
       "3  0xa7003527af20001c000037a90051b19ce31eed36  5.456000e-07       2.699435   \n",
       "4  0xef1c6e67703c7bd7107eed8303fbe6ec2554bf6b  8.322361e+03       4.154025   \n",
       "\n",
       "   gas_volume_sum  \n",
       "0        8.879317  \n",
       "1       23.252074  \n",
       "2        8.765240  \n",
       "3        2.699436  \n",
       "4     8326.515493  "
      ]
     },
     "execution_count": 14,
     "metadata": {},
     "output_type": "execute_result"
    }
   ],
   "source": [
    "# convert tanh value\n",
    "extract_data_df.head(5)"
   ]
  },
  {
   "cell_type": "code",
   "execution_count": 16,
   "id": "d3421a22",
   "metadata": {},
   "outputs": [
    {
     "name": "stderr",
     "output_type": "stream",
     "text": [
      "/tmp/ipykernel_19093/3228226531.py:1: SettingWithCopyWarning: \n",
      "A value is trying to be set on a copy of a slice from a DataFrame.\n",
      "Try using .loc[row_indexer,col_indexer] = value instead\n",
      "\n",
      "See the caveats in the documentation: https://pandas.pydata.org/pandas-docs/stable/user_guide/indexing.html#returning-a-view-versus-a-copy\n",
      "  extract_data_df['tanh_value'] = extract_data_df.apply(lambda row: tanh_function(row['gas_volume_sum']), axis=1)\n"
     ]
    }
   ],
   "source": [
    "extract_data_df['tanh_value'] = extract_data_df.apply(lambda row: tanh_function(row['gas_volume_sum']), axis=1)"
   ]
  },
  {
   "cell_type": "markdown",
   "id": "4a6229b6",
   "metadata": {},
   "source": [
    "# Apply acitiveness function"
   ]
  },
  {
   "cell_type": "code",
   "execution_count": 19,
   "id": "da5a972e",
   "metadata": {},
   "outputs": [
    {
     "data": {
      "text/plain": [
       "16558856"
      ]
     },
     "execution_count": 19,
     "metadata": {},
     "output_type": "execute_result"
    }
   ],
   "source": [
    "max_block = extract_data_df['block_number'].max()\n",
    "max_block"
   ]
  },
  {
   "cell_type": "code",
   "execution_count": 20,
   "id": "3b63cc99",
   "metadata": {},
   "outputs": [],
   "source": [
    "# check logistic weight distribution\n",
    "import matplotlib.pyplot as plt\n",
    "# Ethereum: 1 block ~ 12 seconds => 1 days ~ 7200 blocks\n",
    "weights_dict = logistic_local_timestamp_weights(max_block, 0, blocks_per_day=7200, active_time=90)\n",
    "edge_weights = []"
   ]
  },
  {
   "cell_type": "code",
   "execution_count": 22,
   "id": "a493d0d5",
   "metadata": {},
   "outputs": [
    {
     "data": {
      "image/png": "[encoded data removed]",
      "text/plain": [
       "<Figure size 640x480 with 1 Axes>"
      ]
     },
     "metadata": {},
     "output_type": "display_data"
    }
   ],
   "source": [
    "# plot activeness weights \n",
    "for i in range(int((max_block)/7200)):\n",
    "    if weights_dict[i] not in edge_weights:\n",
    "        edge_weights.append(weights_dict[i])\n",
    "\n",
    "# plot weights distribution\n",
    "plt.plot(edge_weights)\n",
    "plt.show()"
   ]
  },
  {
   "cell_type": "code",
   "execution_count": 23,
   "id": "6913fe58",
   "metadata": {},
   "outputs": [
    {
     "name": "stderr",
     "output_type": "stream",
     "text": [
      "/tmp/ipykernel_19093/1992391269.py:1: SettingWithCopyWarning: \n",
      "A value is trying to be set on a copy of a slice from a DataFrame.\n",
      "Try using .loc[row_indexer,col_indexer] = value instead\n",
      "\n",
      "See the caveats in the documentation: https://pandas.pydata.org/pandas-docs/stable/user_guide/indexing.html#returning-a-view-versus-a-copy\n",
      "  extract_data_df[\"activeness_weights\"] = extract_data_df.apply(lambda row: weights_dict[int(row['block_number']/7200)], axis=1)\n"
     ]
    }
   ],
   "source": [
    "extract_data_df[\"activeness_weights\"] = extract_data_df.apply(lambda row: weights_dict[int(row['block_number']/7200)], axis=1)"
   ]
  },
  {
   "cell_type": "markdown",
   "id": "abacb2f0",
   "metadata": {},
   "source": [
    "# Edge weighting (value weighting)"
   ]
  },
  {
   "cell_type": "code",
   "execution_count": 26,
   "id": "2b83dccd",
   "metadata": {},
   "outputs": [
    {
     "name": "stderr",
     "output_type": "stream",
     "text": [
      "/tmp/ipykernel_19093/2950818329.py:1: SettingWithCopyWarning: \n",
      "A value is trying to be set on a copy of a slice from a DataFrame.\n",
      "Try using .loc[row_indexer,col_indexer] = value instead\n",
      "\n",
      "See the caveats in the documentation: https://pandas.pydata.org/pandas-docs/stable/user_guide/indexing.html#returning-a-view-versus-a-copy\n",
      "  extract_data_df['value_weights'] = extract_data_df.apply(lambda row: row['tanh_value']*row['activeness_weights'], axis=1)\n"
     ]
    }
   ],
   "source": [
    "extract_data_df['value_weights'] = extract_data_df.apply(lambda row: row['tanh_value']*row['activeness_weights'], axis=1)"
   ]
  },
  {
   "cell_type": "code",
   "execution_count": 28,
   "id": "6a40f35d",
   "metadata": {},
   "outputs": [],
   "source": [
    "value_weights_graph_df = extract_data_df[['from_address', 'to_address','value_weights']]"
   ]
  },
  {
   "cell_type": "code",
   "execution_count": 29,
   "id": "73dfd921",
   "metadata": {},
   "outputs": [],
   "source": [
    "sum_value_weights_graph_df = value_weights_graph_df.groupby([\"from_address\", \"to_address\"])['value_weights'].sum().reset_index()"
   ]
  },
  {
   "cell_type": "markdown",
   "id": "c8776b28",
   "metadata": {},
   "source": [
    "# Node weighting - personalized vector"
   ]
  },
  {
   "cell_type": "code",
   "execution_count": 30,
   "id": "f77fa3dd",
   "metadata": {},
   "outputs": [
    {
     "name": "stderr",
     "output_type": "stream",
     "text": [
      "/tmp/ipykernel_19093/1299979268.py:1: SettingWithCopyWarning: \n",
      "A value is trying to be set on a copy of a slice from a DataFrame\n",
      "\n",
      "See the caveats in the documentation: https://pandas.pydata.org/pandas-docs/stable/user_guide/indexing.html#returning-a-view-versus-a-copy\n",
      "  extract_data_df.sort_values('activeness_weights', inplace=True, ascending=True)\n"
     ]
    }
   ],
   "source": [
    "\n",
    "extract_data_df.sort_values('activeness_weights', inplace=True, ascending=True)\n"
   ]
  },
  {
   "cell_type": "code",
   "execution_count": 31,
   "id": "6a65185b",
   "metadata": {},
   "outputs": [],
   "source": [
    "ether_drop_dup_df = extract_data_df.drop_duplicates(subset=['from_address','to_address'], keep='last')"
   ]
  },
  {
   "cell_type": "code",
   "execution_count": 32,
   "id": "8bc05617",
   "metadata": {},
   "outputs": [
    {
     "data": {
      "text/plain": [
       "1229961"
      ]
     },
     "execution_count": 32,
     "metadata": {},
     "output_type": "execute_result"
    }
   ],
   "source": [
    "len(ether_drop_dup_df)"
   ]
  },
  {
   "cell_type": "code",
   "execution_count": 33,
   "id": "e6ef3a0e",
   "metadata": {},
   "outputs": [],
   "source": [
    "# data processing df_data_remove_loop\n",
    "# extract features\n",
    "to_weights_df = ether_drop_dup_df[['to_address', 'activeness_weights']]\n",
    "\n",
    "# group receiver\n",
    "node_age_weights = to_weights_df.groupby('to_address').sum()\n",
    "\n",
    "# sum calculation\n",
    "# sum of weights\n",
    "s_weights = float(node_age_weights[\"activeness_weights\"].sum())\n",
    "\n",
    "# personalized dict\n",
    "personalized_vector = {k: v/s_weights for k, v in node_age_weights[\"activeness_weights\"].items()}"
   ]
  },
  {
   "cell_type": "markdown",
   "id": "2061407b",
   "metadata": {},
   "source": [
    "# Init graph"
   ]
  },
  {
   "cell_type": "code",
   "execution_count": 34,
   "id": "65caa9a6",
   "metadata": {},
   "outputs": [
    {
     "name": "stdout",
     "output_type": "stream",
     "text": [
      "6.084091901779175 s\n"
     ]
    }
   ],
   "source": [
    "import time\n",
    "start_time = time.time()\n",
    "ether_graph = nx.from_pandas_edgelist(sum_value_weights_graph_df, source=\"from_address\", target=\"to_address\", edge_attr=\"value_weights\", create_using=nx.DiGraph())\n",
    "print(time.time() - start_time, \"s\")"
   ]
  },
  {
   "cell_type": "markdown",
   "id": "b206f218",
   "metadata": {},
   "source": [
    "# Reputation Scores"
   ]
  },
  {
   "cell_type": "code",
   "execution_count": 35,
   "id": "7a209416",
   "metadata": {},
   "outputs": [
    {
     "name": "stdout",
     "output_type": "stream",
     "text": [
      "5.3642919063568115 s\n"
     ]
    }
   ],
   "source": [
    "start_time = time.time()\n",
    "pg_scores = nx.pagerank(ether_graph, alpha=0.5, personalization=personalized_vector, weight=\"value_weights\")\n",
    "print(time.time()-start_time, \"s\")"
   ]
  },
  {
   "cell_type": "code",
   "execution_count": 36,
   "id": "02c5e6e3",
   "metadata": {},
   "outputs": [],
   "source": [
    "# create node list table\n",
    "ranking = pd.DataFrame(pg_scores.items(), columns=['Address', 'Reputation Scores'])"
   ]
  },
  {
   "cell_type": "code",
   "execution_count": 38,
   "id": "c365c7a3",
   "metadata": {},
   "outputs": [],
   "source": [
    "ranking.sort_values('Reputation Scores', inplace=True, ascending=False)\n"
   ]
  },
  {
   "cell_type": "code",
   "execution_count": 39,
   "id": "b431be0b",
   "metadata": {},
   "outputs": [
    {
     "data": {
      "text/html": [
       "<div>\n",
       "<style scoped>\n",
       "    .dataframe tbody tr th:only-of-type {\n",
       "        vertical-align: middle;\n",
       "    }\n",
       "\n",
       "    .dataframe tbody tr th {\n",
       "        vertical-align: top;\n",
       "    }\n",
       "\n",
       "    .dataframe thead th {\n",
       "        text-align: right;\n",
       "    }\n",
       "</style>\n",
       "<table border=\"1\" class=\"dataframe\">\n",
       "  <thead>\n",
       "    <tr style=\"text-align: right;\">\n",
       "      <th></th>\n",
       "      <th>Address</th>\n",
       "      <th>Reputation Scores</th>\n",
       "    </tr>\n",
       "  </thead>\n",
       "  <tbody>\n",
       "    <tr>\n",
       "      <th>77653</th>\n",
       "      <td>0xef1c6e67703c7bd7107eed8303fbe6ec2554bf6b</td>\n",
       "      <td>0.036479</td>\n",
       "    </tr>\n",
       "    <tr>\n",
       "      <th>77958</th>\n",
       "      <td>0x28c6c06298d514db089934071355e5743bf21d60</td>\n",
       "      <td>0.022117</td>\n",
       "    </tr>\n",
       "    <tr>\n",
       "      <th>77362</th>\n",
       "      <td>0x00000000006c3852cbef3e08e8df289169ede581</td>\n",
       "      <td>0.022027</td>\n",
       "    </tr>\n",
       "    <tr>\n",
       "      <th>77652</th>\n",
       "      <td>0xdac17f958d2ee523a2206206994597c13d831ec7</td>\n",
       "      <td>0.020748</td>\n",
       "    </tr>\n",
       "    <tr>\n",
       "      <th>77680</th>\n",
       "      <td>0x7a250d5630b4cf539739df2c5dacb4c659f2488d</td>\n",
       "      <td>0.010387</td>\n",
       "    </tr>\n",
       "  </tbody>\n",
       "</table>\n",
       "</div>"
      ],
      "text/plain": [
       "                                          Address  Reputation Scores\n",
       "77653  0xef1c6e67703c7bd7107eed8303fbe6ec2554bf6b           0.036479\n",
       "77958  0x28c6c06298d514db089934071355e5743bf21d60           0.022117\n",
       "77362  0x00000000006c3852cbef3e08e8df289169ede581           0.022027\n",
       "77652  0xdac17f958d2ee523a2206206994597c13d831ec7           0.020748\n",
       "77680  0x7a250d5630b4cf539739df2c5dacb4c659f2488d           0.010387"
      ]
     },
     "execution_count": 39,
     "metadata": {},
     "output_type": "execute_result"
    }
   ],
   "source": [
    "ranking.head(5)"
   ]
  },
  {
   "cell_type": "code",
   "execution_count": null,
   "id": "0974ef64",
   "metadata": {},
   "outputs": [],
   "source": []
  }
 ],
 "metadata": {
  "kernelspec": {
   "display_name": "Python 3 (ipykernel)",
   "language": "python",
   "name": "python3"
  },
  "language_info": {
   "codemirror_mode": {
    "name": "ipython",
    "version": 3
   },
   "file_extension": ".py",
   "mimetype": "text/x-python",
   "name": "python",
   "nbconvert_exporter": "python",
   "pygments_lexer": "ipython3",
   "version": "3.9.13"
  }
 },
 "nbformat": 4,
 "nbformat_minor": 5
}
