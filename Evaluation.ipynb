{
 "cells": [
  {
   "cell_type": "code",
   "execution_count": 26,
   "id": "7d9c60aa",
   "metadata": {},
   "outputs": [],
   "source": [
    "import pandas as pd\n",
    "import os\n",
    "import pickle\n",
    "import time\n",
    "import numpy as np\n",
    "import matplotlib.pyplot as plt"
   ]
  },
  {
   "cell_type": "code",
   "execution_count": 2,
   "id": "c1bffbc3",
   "metadata": {},
   "outputs": [],
   "source": [
    "root_dir = \"/media/visionin/data_station/OctanData/BSC/running/20230105/\""
   ]
  },
  {
   "cell_type": "markdown",
   "id": "5238088e",
   "metadata": {},
   "source": [
    "# Load Addresses"
   ]
  },
  {
   "cell_type": "code",
   "execution_count": 3,
   "id": "7f0d6186",
   "metadata": {},
   "outputs": [
    {
     "name": "stdout",
     "output_type": "stream",
     "text": [
      "54133553\n"
     ]
    }
   ],
   "source": [
    "address_dict_path = root_dir + \"address_dict.pickle\"\n",
    "with open(address_dict_path, 'rb') as handle:\n",
    "    address_dict = pickle.load(handle)\n",
    "print(len(address_dict.keys()))"
   ]
  },
  {
   "cell_type": "code",
   "execution_count": 4,
   "id": "da766fbc",
   "metadata": {},
   "outputs": [],
   "source": [
    "# create node list table\n",
    "node_list = pd.DataFrame(address_dict.items(), columns=['Address', 'ID'])"
   ]
  },
  {
   "cell_type": "code",
   "execution_count": 5,
   "id": "6b9d5bb2",
   "metadata": {},
   "outputs": [
    {
     "data": {
      "text/html": [
       "<div>\n",
       "<style scoped>\n",
       "    .dataframe tbody tr th:only-of-type {\n",
       "        vertical-align: middle;\n",
       "    }\n",
       "\n",
       "    .dataframe tbody tr th {\n",
       "        vertical-align: top;\n",
       "    }\n",
       "\n",
       "    .dataframe thead th {\n",
       "        text-align: right;\n",
       "    }\n",
       "</style>\n",
       "<table border=\"1\" class=\"dataframe\">\n",
       "  <thead>\n",
       "    <tr style=\"text-align: right;\">\n",
       "      <th></th>\n",
       "      <th>Address</th>\n",
       "      <th>ID</th>\n",
       "    </tr>\n",
       "  </thead>\n",
       "  <tbody>\n",
       "    <tr>\n",
       "      <th>0</th>\n",
       "      <td>0x7f74b66bb8a5ab09934ab3a8ac9c7a3a43acd5be</td>\n",
       "      <td>0</td>\n",
       "    </tr>\n",
       "    <tr>\n",
       "      <th>1</th>\n",
       "      <td>0x54b9b2f32bcb7cdffe21c2f91710d843f0f1400e</td>\n",
       "      <td>1</td>\n",
       "    </tr>\n",
       "    <tr>\n",
       "      <th>2</th>\n",
       "      <td>0x4668eaa732fc5547f96f8ea584acb0a29d7ef95a</td>\n",
       "      <td>2</td>\n",
       "    </tr>\n",
       "    <tr>\n",
       "      <th>3</th>\n",
       "      <td>0xebf7abc4316004cda6f5e61e631ef47d406116a1</td>\n",
       "      <td>3</td>\n",
       "    </tr>\n",
       "    <tr>\n",
       "      <th>4</th>\n",
       "      <td>0x7a36bbc328c88b62ada9ba351e8ddbf6bb83488d</td>\n",
       "      <td>4</td>\n",
       "    </tr>\n",
       "  </tbody>\n",
       "</table>\n",
       "</div>"
      ],
      "text/plain": [
       "                                       Address  ID\n",
       "0   0x7f74b66bb8a5ab09934ab3a8ac9c7a3a43acd5be   0\n",
       "1   0x54b9b2f32bcb7cdffe21c2f91710d843f0f1400e   1\n",
       "2   0x4668eaa732fc5547f96f8ea584acb0a29d7ef95a   2\n",
       "3   0xebf7abc4316004cda6f5e61e631ef47d406116a1   3\n",
       "4   0x7a36bbc328c88b62ada9ba351e8ddbf6bb83488d   4"
      ]
     },
     "execution_count": 5,
     "metadata": {},
     "output_type": "execute_result"
    }
   ],
   "source": [
    "node_list.head(5)"
   ]
  },
  {
   "cell_type": "markdown",
   "id": "306a6418",
   "metadata": {},
   "source": [
    "# Load Reputation Scores"
   ]
  },
  {
   "cell_type": "code",
   "execution_count": 6,
   "id": "40daa291",
   "metadata": {},
   "outputs": [
    {
     "name": "stdout",
     "output_type": "stream",
     "text": [
      "54128070\n"
     ]
    }
   ],
   "source": [
    "# d =0.85\n",
    "pagerank_dict_v1_path = root_dir + \"weighted_pagerank_v1.pickle\"\n",
    "with open(pagerank_dict_v1_path, 'rb') as handle:\n",
    "    pagerank_dict_v1 = pickle.load(handle)\n",
    "print(len(pagerank_dict_v1.keys()))"
   ]
  },
  {
   "cell_type": "code",
   "execution_count": 7,
   "id": "22f8a3d3",
   "metadata": {},
   "outputs": [
    {
     "name": "stdout",
     "output_type": "stream",
     "text": [
      "528.4953374862671\n"
     ]
    }
   ],
   "source": [
    "start_time = time.time()\n",
    "node_list['Reputation_1'] = node_list.apply(lambda row: pagerank_dict_v1[row[\"ID\"]]*1000 if (row[\"ID\"] in pagerank_dict_v1.keys()) else 0, axis=1)\n",
    "print(time.time()-start_time)"
   ]
  },
  {
   "cell_type": "code",
   "execution_count": 8,
   "id": "72befeb3",
   "metadata": {},
   "outputs": [
    {
     "name": "stdout",
     "output_type": "stream",
     "text": [
      "54128070\n"
     ]
    }
   ],
   "source": [
    "# d = 0.5\n",
    "pagerank_dict_v2_path = root_dir + \"weighted_pagerank_v2.pickle\"\n",
    "with open(pagerank_dict_v2_path, 'rb') as handle:\n",
    "    pagerank_dict_v2 = pickle.load(handle)\n",
    "print(len(pagerank_dict_v2.keys()))"
   ]
  },
  {
   "cell_type": "code",
   "execution_count": 9,
   "id": "f012cd46",
   "metadata": {},
   "outputs": [
    {
     "name": "stdout",
     "output_type": "stream",
     "text": [
      "536.0536139011383\n"
     ]
    }
   ],
   "source": [
    "start_time = time.time()\n",
    "node_list['Reputation_2'] = node_list.apply(lambda row: pagerank_dict_v2[row[\"ID\"]]*1000 if (row[\"ID\"] in pagerank_dict_v2.keys()) else 0, axis=1)\n",
    "print(time.time()-start_time)"
   ]
  },
  {
   "cell_type": "code",
   "execution_count": 10,
   "id": "800e18e9",
   "metadata": {},
   "outputs": [
    {
     "name": "stdout",
     "output_type": "stream",
     "text": [
      "54128070\n"
     ]
    }
   ],
   "source": [
    "# personalized = None\n",
    "pagerank_dict_v3_path = root_dir + \"weighted_pagerank_v3.pickle\"\n",
    "with open(pagerank_dict_v3_path, 'rb') as handle:\n",
    "    pagerank_dict_v3 = pickle.load(handle)\n",
    "print(len(pagerank_dict_v3.keys()))"
   ]
  },
  {
   "cell_type": "code",
   "execution_count": 11,
   "id": "41f7a983",
   "metadata": {},
   "outputs": [
    {
     "name": "stdout",
     "output_type": "stream",
     "text": [
      "529.0627679824829\n"
     ]
    }
   ],
   "source": [
    "start_time = time.time()\n",
    "node_list['Reputation_3'] = node_list.apply(lambda row: pagerank_dict_v3[row[\"ID\"]]*1000 if (row[\"ID\"] in pagerank_dict_v3.keys()) else 0, axis=1)\n",
    "print(time.time()-start_time)"
   ]
  },
  {
   "cell_type": "code",
   "execution_count": 12,
   "id": "56093d85",
   "metadata": {},
   "outputs": [
    {
     "name": "stdout",
     "output_type": "stream",
     "text": [
      "54128070\n"
     ]
    }
   ],
   "source": [
    "# simple pagerank\n",
    "pagerank_dict_v4_path = root_dir + \"weighted_pagerank_v4.pickle\"\n",
    "with open(pagerank_dict_v4_path, 'rb') as handle:\n",
    "    pagerank_dict_v4 = pickle.load(handle)\n",
    "print(len(pagerank_dict_v4.keys()))"
   ]
  },
  {
   "cell_type": "code",
   "execution_count": 13,
   "id": "cb5ee25c",
   "metadata": {},
   "outputs": [
    {
     "name": "stdout",
     "output_type": "stream",
     "text": [
      "536.7835609912872\n"
     ]
    }
   ],
   "source": [
    "start_time = time.time()\n",
    "node_list['Reputation_4'] = node_list.apply(lambda row: pagerank_dict_v4[row[\"ID\"]]*1000 if (row[\"ID\"] in pagerank_dict_v4.keys()) else 0, axis=1)\n",
    "print(time.time()-start_time)"
   ]
  },
  {
   "cell_type": "markdown",
   "id": "5caef003",
   "metadata": {},
   "source": [
    "# Load degree"
   ]
  },
  {
   "cell_type": "code",
   "execution_count": 14,
   "id": "dd10da38",
   "metadata": {},
   "outputs": [
    {
     "name": "stdout",
     "output_type": "stream",
     "text": [
      "54128070\n"
     ]
    }
   ],
   "source": [
    "degree_dict_path = root_dir + \"degree.pickle\"\n",
    "with open(degree_dict_path, 'rb') as handle:\n",
    "    degree_dict = pickle.load(handle)\n",
    "print(len(degree_dict.keys()))"
   ]
  },
  {
   "cell_type": "code",
   "execution_count": 15,
   "id": "d7705afa",
   "metadata": {},
   "outputs": [
    {
     "name": "stdout",
     "output_type": "stream",
     "text": [
      "527.8947186470032\n"
     ]
    }
   ],
   "source": [
    "start_time = time.time()\n",
    "node_list['Degree'] = node_list.apply(lambda row: degree_dict[row[\"ID\"]] if (row[\"ID\"] in degree_dict.keys()) else 0, axis=1)\n",
    "print(time.time()-start_time)"
   ]
  },
  {
   "cell_type": "code",
   "execution_count": 16,
   "id": "619897f9",
   "metadata": {},
   "outputs": [
    {
     "name": "stdout",
     "output_type": "stream",
     "text": [
      "54128070\n"
     ]
    }
   ],
   "source": [
    "in_degree_dict_path = root_dir + \"in_degree.pickle\"\n",
    "with open(in_degree_dict_path, 'rb') as handle:\n",
    "    in_degree_dict = pickle.load(handle)\n",
    "print(len(in_degree_dict.keys()))"
   ]
  },
  {
   "cell_type": "code",
   "execution_count": 17,
   "id": "ff3062fe",
   "metadata": {},
   "outputs": [
    {
     "name": "stdout",
     "output_type": "stream",
     "text": [
      "529.9190096855164\n"
     ]
    }
   ],
   "source": [
    "start_time = time.time()\n",
    "node_list['In Degree'] = node_list.apply(lambda row: in_degree_dict[row[\"ID\"]] if (row[\"ID\"] in in_degree_dict.keys()) else 0, axis=1)\n",
    "print(time.time()-start_time)"
   ]
  },
  {
   "cell_type": "code",
   "execution_count": 18,
   "id": "63b90485",
   "metadata": {},
   "outputs": [
    {
     "data": {
      "text/html": [
       "<div>\n",
       "<style scoped>\n",
       "    .dataframe tbody tr th:only-of-type {\n",
       "        vertical-align: middle;\n",
       "    }\n",
       "\n",
       "    .dataframe tbody tr th {\n",
       "        vertical-align: top;\n",
       "    }\n",
       "\n",
       "    .dataframe thead th {\n",
       "        text-align: right;\n",
       "    }\n",
       "</style>\n",
       "<table border=\"1\" class=\"dataframe\">\n",
       "  <thead>\n",
       "    <tr style=\"text-align: right;\">\n",
       "      <th></th>\n",
       "      <th>Address</th>\n",
       "      <th>ID</th>\n",
       "      <th>Reputation_1</th>\n",
       "      <th>Reputation_2</th>\n",
       "      <th>Reputation_3</th>\n",
       "      <th>Reputation_4</th>\n",
       "      <th>Degree</th>\n",
       "      <th>In Degree</th>\n",
       "    </tr>\n",
       "  </thead>\n",
       "  <tbody>\n",
       "    <tr>\n",
       "      <th>0</th>\n",
       "      <td>0x7f74b66bb8a5ab09934ab3a8ac9c7a3a43acd5be</td>\n",
       "      <td>0</td>\n",
       "      <td>0.000000</td>\n",
       "      <td>0.000000</td>\n",
       "      <td>0.000010</td>\n",
       "      <td>0.000010</td>\n",
       "      <td>24</td>\n",
       "      <td>0</td>\n",
       "    </tr>\n",
       "    <tr>\n",
       "      <th>1</th>\n",
       "      <td>0x54b9b2f32bcb7cdffe21c2f91710d843f0f1400e</td>\n",
       "      <td>1</td>\n",
       "      <td>0.003761</td>\n",
       "      <td>0.005383</td>\n",
       "      <td>0.001196</td>\n",
       "      <td>0.001158</td>\n",
       "      <td>1843</td>\n",
       "      <td>1843</td>\n",
       "    </tr>\n",
       "    <tr>\n",
       "      <th>2</th>\n",
       "      <td>0x4668eaa732fc5547f96f8ea584acb0a29d7ef95a</td>\n",
       "      <td>2</td>\n",
       "      <td>0.000000</td>\n",
       "      <td>0.000000</td>\n",
       "      <td>0.000010</td>\n",
       "      <td>0.000010</td>\n",
       "      <td>22</td>\n",
       "      <td>0</td>\n",
       "    </tr>\n",
       "    <tr>\n",
       "      <th>3</th>\n",
       "      <td>0xebf7abc4316004cda6f5e61e631ef47d406116a1</td>\n",
       "      <td>3</td>\n",
       "      <td>0.000000</td>\n",
       "      <td>0.000000</td>\n",
       "      <td>0.000010</td>\n",
       "      <td>0.000010</td>\n",
       "      <td>20</td>\n",
       "      <td>0</td>\n",
       "    </tr>\n",
       "    <tr>\n",
       "      <th>4</th>\n",
       "      <td>0x7a36bbc328c88b62ada9ba351e8ddbf6bb83488d</td>\n",
       "      <td>4</td>\n",
       "      <td>0.000000</td>\n",
       "      <td>0.000000</td>\n",
       "      <td>0.000010</td>\n",
       "      <td>0.000010</td>\n",
       "      <td>17</td>\n",
       "      <td>0</td>\n",
       "    </tr>\n",
       "  </tbody>\n",
       "</table>\n",
       "</div>"
      ],
      "text/plain": [
       "                                       Address  ID  Reputation_1  \\\n",
       "0   0x7f74b66bb8a5ab09934ab3a8ac9c7a3a43acd5be   0      0.000000   \n",
       "1   0x54b9b2f32bcb7cdffe21c2f91710d843f0f1400e   1      0.003761   \n",
       "2   0x4668eaa732fc5547f96f8ea584acb0a29d7ef95a   2      0.000000   \n",
       "3   0xebf7abc4316004cda6f5e61e631ef47d406116a1   3      0.000000   \n",
       "4   0x7a36bbc328c88b62ada9ba351e8ddbf6bb83488d   4      0.000000   \n",
       "\n",
       "   Reputation_2  Reputation_3  Reputation_4  Degree  In Degree  \n",
       "0      0.000000      0.000010      0.000010      24          0  \n",
       "1      0.005383      0.001196      0.001158    1843       1843  \n",
       "2      0.000000      0.000010      0.000010      22          0  \n",
       "3      0.000000      0.000010      0.000010      20          0  \n",
       "4      0.000000      0.000010      0.000010      17          0  "
      ]
     },
     "execution_count": 18,
     "metadata": {},
     "output_type": "execute_result"
    }
   ],
   "source": [
    "node_list.head(5)"
   ]
  },
  {
   "cell_type": "markdown",
   "id": "63da0f64",
   "metadata": {},
   "source": [
    "# kendall tau"
   ]
  },
  {
   "cell_type": "code",
   "execution_count": 20,
   "id": "ed984a99",
   "metadata": {},
   "outputs": [],
   "source": [
    "node_list.sort_values('Reputation_1', inplace=True, ascending=False)\n",
    "node_list.reset_index(drop=True, inplace=True)\n",
    "node_list['wpr_ranking_1'] = node_list.index"
   ]
  },
  {
   "cell_type": "code",
   "execution_count": 21,
   "id": "0c27893c",
   "metadata": {},
   "outputs": [],
   "source": [
    "node_list.sort_values('Reputation_2', inplace=True, ascending=False)\n",
    "node_list.reset_index(drop=True, inplace=True)\n",
    "node_list['wpr_ranking_2'] = node_list.index"
   ]
  },
  {
   "cell_type": "code",
   "execution_count": 22,
   "id": "7a05291c",
   "metadata": {},
   "outputs": [],
   "source": [
    "node_list.sort_values('Reputation_3', inplace=True, ascending=False)\n",
    "node_list.reset_index(drop=True, inplace=True)\n",
    "node_list['wpr_ranking_3'] = node_list.index"
   ]
  },
  {
   "cell_type": "code",
   "execution_count": 23,
   "id": "22cff0fc",
   "metadata": {},
   "outputs": [],
   "source": [
    "node_list.sort_values('Reputation_4', inplace=True, ascending=False)\n",
    "node_list.reset_index(drop=True, inplace=True)\n",
    "node_list['wpr_ranking_4'] = node_list.index"
   ]
  },
  {
   "cell_type": "code",
   "execution_count": 25,
   "id": "b8ea40a8",
   "metadata": {},
   "outputs": [],
   "source": [
    "node_list.sort_values('Degree', inplace=True, ascending=False)\n",
    "node_list.reset_index(drop=True, inplace=True)\n",
    "node_list['degree_ranking'] = node_list.index"
   ]
  },
  {
   "cell_type": "code",
   "execution_count": 26,
   "id": "2be74f56",
   "metadata": {},
   "outputs": [],
   "source": [
    "node_list.sort_values('In Degree', inplace=True, ascending=False)\n",
    "node_list.reset_index(drop=True, inplace=True)\n",
    "node_list['in_degree_ranking'] = node_list.index"
   ]
  },
  {
   "cell_type": "code",
   "execution_count": 27,
   "id": "2296949c",
   "metadata": {},
   "outputs": [],
   "source": [
    "# kendall tau correlation\n",
    "from scipy.stats import kendalltau\n"
   ]
  },
  {
   "cell_type": "code",
   "execution_count": 36,
   "id": "f6288921",
   "metadata": {},
   "outputs": [],
   "source": [
    "node_list.sort_values('Reputation_2', inplace=True, ascending=False)"
   ]
  },
  {
   "cell_type": "code",
   "execution_count": 29,
   "id": "cf3225c9",
   "metadata": {},
   "outputs": [
    {
     "data": {
      "text/html": [
       "<div>\n",
       "<style scoped>\n",
       "    .dataframe tbody tr th:only-of-type {\n",
       "        vertical-align: middle;\n",
       "    }\n",
       "\n",
       "    .dataframe tbody tr th {\n",
       "        vertical-align: top;\n",
       "    }\n",
       "\n",
       "    .dataframe thead th {\n",
       "        text-align: right;\n",
       "    }\n",
       "</style>\n",
       "<table border=\"1\" class=\"dataframe\">\n",
       "  <thead>\n",
       "    <tr style=\"text-align: right;\">\n",
       "      <th></th>\n",
       "      <th>Address</th>\n",
       "      <th>ID</th>\n",
       "      <th>Reputation_1</th>\n",
       "      <th>Reputation_2</th>\n",
       "      <th>Reputation_3</th>\n",
       "      <th>Reputation_4</th>\n",
       "      <th>Degree</th>\n",
       "      <th>In Degree</th>\n",
       "      <th>wpr_ranking_1</th>\n",
       "      <th>wpr_ranking_2</th>\n",
       "      <th>wpr_ranking_3</th>\n",
       "      <th>wpr_ranking_4</th>\n",
       "      <th>degree_ranking</th>\n",
       "      <th>in_degree_ranking</th>\n",
       "    </tr>\n",
       "  </thead>\n",
       "  <tbody>\n",
       "    <tr>\n",
       "      <th>0</th>\n",
       "      <td>0x55d398326f99059ff775485246999027b3197955</td>\n",
       "      <td>237</td>\n",
       "      <td>104.258220</td>\n",
       "      <td>86.823495</td>\n",
       "      <td>53.078238</td>\n",
       "      <td>52.591825</td>\n",
       "      <td>12343824</td>\n",
       "      <td>12343824</td>\n",
       "      <td>0</td>\n",
       "      <td>0</td>\n",
       "      <td>0</td>\n",
       "      <td>0</td>\n",
       "      <td>0</td>\n",
       "      <td>0</td>\n",
       "    </tr>\n",
       "    <tr>\n",
       "      <th>3</th>\n",
       "      <td>0xb9a5bde0a19288044784b859c903ee62ff2a3a65</td>\n",
       "      <td>14556588</td>\n",
       "      <td>77.799691</td>\n",
       "      <td>61.204497</td>\n",
       "      <td>40.768212</td>\n",
       "      <td>40.768244</td>\n",
       "      <td>4413541</td>\n",
       "      <td>4413541</td>\n",
       "      <td>1</td>\n",
       "      <td>1</td>\n",
       "      <td>1</td>\n",
       "      <td>1</td>\n",
       "      <td>3</td>\n",
       "      <td>3</td>\n",
       "    </tr>\n",
       "    <tr>\n",
       "      <th>1</th>\n",
       "      <td>0x10ed43c718714eb63d5aa57b78b54704e256024e</td>\n",
       "      <td>10</td>\n",
       "      <td>59.350524</td>\n",
       "      <td>55.161783</td>\n",
       "      <td>28.359346</td>\n",
       "      <td>27.726574</td>\n",
       "      <td>12237436</td>\n",
       "      <td>12237436</td>\n",
       "      <td>2</td>\n",
       "      <td>2</td>\n",
       "      <td>2</td>\n",
       "      <td>2</td>\n",
       "      <td>1</td>\n",
       "      <td>1</td>\n",
       "    </tr>\n",
       "    <tr>\n",
       "      <th>2</th>\n",
       "      <td>0xe9e7cea3dedca5984780bafc599bd69add087d56</td>\n",
       "      <td>96</td>\n",
       "      <td>42.713281</td>\n",
       "      <td>36.144456</td>\n",
       "      <td>21.559760</td>\n",
       "      <td>21.528719</td>\n",
       "      <td>6334594</td>\n",
       "      <td>6334594</td>\n",
       "      <td>3</td>\n",
       "      <td>3</td>\n",
       "      <td>3</td>\n",
       "      <td>3</td>\n",
       "      <td>2</td>\n",
       "      <td>2</td>\n",
       "    </tr>\n",
       "    <tr>\n",
       "      <th>4</th>\n",
       "      <td>0x2ab0e9e4ee70fff1fb9d67031e44f6410170d00e</td>\n",
       "      <td>25264249</td>\n",
       "      <td>26.332293</td>\n",
       "      <td>23.337141</td>\n",
       "      <td>12.950152</td>\n",
       "      <td>12.817184</td>\n",
       "      <td>2127698</td>\n",
       "      <td>2127698</td>\n",
       "      <td>4</td>\n",
       "      <td>4</td>\n",
       "      <td>4</td>\n",
       "      <td>4</td>\n",
       "      <td>4</td>\n",
       "      <td>4</td>\n",
       "    </tr>\n",
       "  </tbody>\n",
       "</table>\n",
       "</div>"
      ],
      "text/plain": [
       "                                       Address        ID  Reputation_1  \\\n",
       "0   0x55d398326f99059ff775485246999027b3197955       237    104.258220   \n",
       "3   0xb9a5bde0a19288044784b859c903ee62ff2a3a65  14556588     77.799691   \n",
       "1   0x10ed43c718714eb63d5aa57b78b54704e256024e        10     59.350524   \n",
       "2   0xe9e7cea3dedca5984780bafc599bd69add087d56        96     42.713281   \n",
       "4   0x2ab0e9e4ee70fff1fb9d67031e44f6410170d00e  25264249     26.332293   \n",
       "\n",
       "   Reputation_2  Reputation_3  Reputation_4    Degree  In Degree  \\\n",
       "0     86.823495     53.078238     52.591825  12343824   12343824   \n",
       "3     61.204497     40.768212     40.768244   4413541    4413541   \n",
       "1     55.161783     28.359346     27.726574  12237436   12237436   \n",
       "2     36.144456     21.559760     21.528719   6334594    6334594   \n",
       "4     23.337141     12.950152     12.817184   2127698    2127698   \n",
       "\n",
       "   wpr_ranking_1  wpr_ranking_2  wpr_ranking_3  wpr_ranking_4  degree_ranking  \\\n",
       "0              0              0              0              0               0   \n",
       "3              1              1              1              1               3   \n",
       "1              2              2              2              2               1   \n",
       "2              3              3              3              3               2   \n",
       "4              4              4              4              4               4   \n",
       "\n",
       "   in_degree_ranking  \n",
       "0                  0  \n",
       "3                  3  \n",
       "1                  1  \n",
       "2                  2  \n",
       "4                  4  "
      ]
     },
     "execution_count": 29,
     "metadata": {},
     "output_type": "execute_result"
    }
   ],
   "source": [
    "node_list.head(5)"
   ]
  },
  {
   "cell_type": "code",
   "execution_count": 31,
   "id": "e96e7647",
   "metadata": {},
   "outputs": [
    {
     "name": "stdout",
     "output_type": "stream",
     "text": [
      "0.17178673677700418\n"
     ]
    }
   ],
   "source": [
    "corr_wpr2_d, _ = kendalltau(node_list['wpr_ranking_2'], node_list['degree_ranking'])\n",
    "print(corr_wpr2_d)"
   ]
  },
  {
   "cell_type": "code",
   "execution_count": 33,
   "id": "4d772ed5",
   "metadata": {},
   "outputs": [
    {
     "name": "stdout",
     "output_type": "stream",
     "text": [
      "0.19208894276482819\n"
     ]
    }
   ],
   "source": [
    "corr_wpr1_d, _ = kendalltau(node_list['wpr_ranking_1'], node_list['degree_ranking'])\n",
    "print(corr_wpr1_d)"
   ]
  },
  {
   "cell_type": "code",
   "execution_count": 34,
   "id": "2a8fcd13",
   "metadata": {},
   "outputs": [
    {
     "name": "stdout",
     "output_type": "stream",
     "text": [
      "0.2255307052168613\n"
     ]
    }
   ],
   "source": [
    "corr_wpr3_d, _ = kendalltau(node_list['wpr_ranking_3'], node_list['degree_ranking'])\n",
    "print(corr_wpr3_d)"
   ]
  },
  {
   "cell_type": "code",
   "execution_count": 35,
   "id": "d04fa40e",
   "metadata": {},
   "outputs": [
    {
     "name": "stdout",
     "output_type": "stream",
     "text": [
      "0.22794535142305364\n"
     ]
    }
   ],
   "source": [
    "corr_wpr4_d, _ = kendalltau(node_list['wpr_ranking_4'], node_list['degree_ranking'])\n",
    "print(corr_wpr4_d)"
   ]
  },
  {
   "cell_type": "code",
   "execution_count": 36,
   "id": "7a5f7726",
   "metadata": {},
   "outputs": [
    {
     "name": "stdout",
     "output_type": "stream",
     "text": [
      "0.4759090496680697\n",
      "0.488355803057478\n",
      "0.38728119478413475\n",
      "0.3930588316456891\n"
     ]
    }
   ],
   "source": [
    "corr_wpr1_id, _ = kendalltau(node_list['wpr_ranking_1'], node_list['in_degree_ranking'])\n",
    "print(corr_wpr1_id)\n",
    "corr_wpr2_id, _ = kendalltau(node_list['wpr_ranking_2'], node_list['in_degree_ranking'])\n",
    "print(corr_wpr2_id)\n",
    "corr_wpr3_id, _ = kendalltau(node_list['wpr_ranking_3'], node_list['in_degree_ranking'])\n",
    "print(corr_wpr3_id)\n",
    "corr_wpr4_id, _ = kendalltau(node_list['wpr_ranking_4'], node_list['in_degree_ranking'])\n",
    "print(corr_wpr4_id)"
   ]
  },
  {
   "cell_type": "code",
   "execution_count": 37,
   "id": "e44dfd37",
   "metadata": {},
   "outputs": [
    {
     "name": "stdout",
     "output_type": "stream",
     "text": [
      "0.4395681602321603\n",
      "0.588696757012757\n",
      "0.2994679153679154\n",
      "0.3216859695179695\n"
     ]
    }
   ],
   "source": [
    "corr_wpr1_id1m, _ = kendalltau(node_list[:1000000]['wpr_ranking_1'], node_list[:1000000]['in_degree_ranking'])\n",
    "print(corr_wpr1_id1m)\n",
    "corr_wpr2_id1m, _ = kendalltau(node_list[:1000000]['wpr_ranking_2'], node_list[:1000000]['in_degree_ranking'])\n",
    "print(corr_wpr2_id1m)\n",
    "corr_wpr3_id1m, _ = kendalltau(node_list[:1000000]['wpr_ranking_3'], node_list[:1000000]['in_degree_ranking'])\n",
    "print(corr_wpr3_id1m)\n",
    "corr_wpr4_id1m, _ = kendalltau(node_list[:1000000]['wpr_ranking_4'], node_list[:1000000]['in_degree_ranking'])\n",
    "print(corr_wpr4_id1m)"
   ]
  },
  {
   "cell_type": "code",
   "execution_count": 38,
   "id": "1f4cfa84",
   "metadata": {},
   "outputs": [
    {
     "name": "stdout",
     "output_type": "stream",
     "text": [
      "0.5267949623496235\n",
      "0.6192697750977512\n",
      "0.4145360385603857\n",
      "0.4469899690996911\n"
     ]
    }
   ],
   "source": [
    "corr_wpr1_id100k, _ = kendalltau(node_list[:100000]['wpr_ranking_1'], node_list[:100000]['in_degree_ranking'])\n",
    "print(corr_wpr1_id100k)\n",
    "corr_wpr2_id100k, _ = kendalltau(node_list[:100000]['wpr_ranking_2'], node_list[:100000]['in_degree_ranking'])\n",
    "print(corr_wpr2_id100k)\n",
    "corr_wpr3_id100k, _ = kendalltau(node_list[:100000]['wpr_ranking_3'], node_list[:100000]['in_degree_ranking'])\n",
    "print(corr_wpr3_id100k)\n",
    "corr_wpr4_id100k, _ = kendalltau(node_list[:100000]['wpr_ranking_4'], node_list[:100000]['in_degree_ranking'])\n",
    "print(corr_wpr4_id100k)"
   ]
  },
  {
   "cell_type": "code",
   "execution_count": 39,
   "id": "38a9d82c",
   "metadata": {},
   "outputs": [
    {
     "name": "stdout",
     "output_type": "stream",
     "text": [
      "0.5073707770777077\n",
      "0.5656225222522252\n",
      "0.4333950195019502\n",
      "0.45971873187318724\n"
     ]
    }
   ],
   "source": [
    "corr_wpr1_id10k, _ = kendalltau(node_list[:10000]['wpr_ranking_1'], node_list[:10000]['in_degree_ranking'])\n",
    "print(corr_wpr1_id10k)\n",
    "corr_wpr2_id10k, _ = kendalltau(node_list[:10000]['wpr_ranking_2'], node_list[:10000]['in_degree_ranking'])\n",
    "print(corr_wpr2_id10k)\n",
    "corr_wpr3_id10k, _ = kendalltau(node_list[:10000]['wpr_ranking_3'], node_list[:10000]['in_degree_ranking'])\n",
    "print(corr_wpr3_id10k)\n",
    "corr_wpr4_id10k, _ = kendalltau(node_list[:10000]['wpr_ranking_4'], node_list[:10000]['in_degree_ranking'])\n",
    "print(corr_wpr4_id10k)"
   ]
  },
  {
   "cell_type": "code",
   "execution_count": 40,
   "id": "6a9e5472",
   "metadata": {},
   "outputs": [
    {
     "name": "stdout",
     "output_type": "stream",
     "text": [
      "0.5227427427427428\n",
      "0.5926006006006006\n",
      "0.4598478478478479\n",
      "0.4787147147147148\n"
     ]
    }
   ],
   "source": [
    "corr_wpr1_id1k, _ = kendalltau(node_list[:1000]['wpr_ranking_1'], node_list[:1000]['in_degree_ranking'])\n",
    "print(corr_wpr1_id1k)\n",
    "corr_wpr2_id1k, _ = kendalltau(node_list[:1000]['wpr_ranking_2'], node_list[:1000]['in_degree_ranking'])\n",
    "print(corr_wpr2_id1k)\n",
    "corr_wpr3_id1k, _ = kendalltau(node_list[:1000]['wpr_ranking_3'], node_list[:1000]['in_degree_ranking'])\n",
    "print(corr_wpr3_id1k)\n",
    "corr_wpr4_id1k, _ = kendalltau(node_list[:1000]['wpr_ranking_4'], node_list[:1000]['in_degree_ranking'])\n",
    "print(corr_wpr4_id1k)"
   ]
  },
  {
   "cell_type": "code",
   "execution_count": 41,
   "id": "63d08df2",
   "metadata": {},
   "outputs": [
    {
     "name": "stdout",
     "output_type": "stream",
     "text": [
      "0.5418181818181819\n",
      "0.6052525252525253\n",
      "0.48767676767676776\n",
      "0.5058585858585859\n"
     ]
    }
   ],
   "source": [
    "corr_wpr1_id100, _ = kendalltau(node_list[:100]['wpr_ranking_1'], node_list[:100]['in_degree_ranking'])\n",
    "print(corr_wpr1_id100)\n",
    "corr_wpr2_id100, _ = kendalltau(node_list[:100]['wpr_ranking_2'], node_list[:100]['in_degree_ranking'])\n",
    "print(corr_wpr2_id100)\n",
    "corr_wpr3_id100, _ = kendalltau(node_list[:100]['wpr_ranking_3'], node_list[:100]['in_degree_ranking'])\n",
    "print(corr_wpr3_id100)\n",
    "corr_wpr4_id100, _ = kendalltau(node_list[:100]['wpr_ranking_4'], node_list[:100]['in_degree_ranking'])\n",
    "print(corr_wpr4_id100)"
   ]
  },
  {
   "cell_type": "code",
   "execution_count": 43,
   "id": "fc5431ce",
   "metadata": {},
   "outputs": [
    {
     "name": "stdout",
     "output_type": "stream",
     "text": [
      "0.3385926010686011\n",
      "0.4026858395658396\n",
      "0.2604850588530589\n",
      "0.272629114993115\n"
     ]
    }
   ],
   "source": [
    "corr_wpr1_d1m, _ = kendalltau(node_list[:1000000]['wpr_ranking_1'], node_list[:1000000]['degree_ranking'])\n",
    "print(corr_wpr1_d1m)\n",
    "corr_wpr2_d1m, _ = kendalltau(node_list[:1000000]['wpr_ranking_2'], node_list[:1000000]['degree_ranking'])\n",
    "print(corr_wpr2_d1m)\n",
    "corr_wpr3_d1m, _ = kendalltau(node_list[:1000000]['wpr_ranking_3'], node_list[:1000000]['degree_ranking'])\n",
    "print(corr_wpr3_d1m)\n",
    "corr_wpr4_d1m, _ = kendalltau(node_list[:1000000]['wpr_ranking_4'], node_list[:1000000]['degree_ranking'])\n",
    "print(corr_wpr4_d1m)"
   ]
  },
  {
   "cell_type": "code",
   "execution_count": 46,
   "id": "df542a14",
   "metadata": {},
   "outputs": [
    {
     "name": "stdout",
     "output_type": "stream",
     "text": [
      "0.5472748655486556\n",
      "0.5928774551745518\n",
      "0.45418114781147817\n",
      "0.4837695616956171\n"
     ]
    }
   ],
   "source": [
    "corr_wpr1_d100k, _ = kendalltau(node_list[:100000]['wpr_ranking_1'], node_list[:100000]['degree_ranking'])\n",
    "print(corr_wpr1_d100k)\n",
    "corr_wpr2_d100k, _ = kendalltau(node_list[:100000]['wpr_ranking_2'], node_list[:100000]['degree_ranking'])\n",
    "print(corr_wpr2_d100k)\n",
    "corr_wpr3_d100k, _ = kendalltau(node_list[:100000]['wpr_ranking_3'], node_list[:100000]['degree_ranking'])\n",
    "print(corr_wpr3_d100k)\n",
    "corr_wpr4_d100k, _ = kendalltau(node_list[:100000]['wpr_ranking_4'], node_list[:100000]['degree_ranking'])\n",
    "print(corr_wpr4_d100k)"
   ]
  },
  {
   "cell_type": "code",
   "execution_count": 47,
   "id": "9d253e73",
   "metadata": {},
   "outputs": [
    {
     "name": "stdout",
     "output_type": "stream",
     "text": [
      "0.5260463246324633\n",
      "0.5695273927392739\n",
      "0.45608480848084804\n",
      "0.48218737873787376\n"
     ]
    }
   ],
   "source": [
    "corr_wpr1_d10k, _ = kendalltau(node_list[:10000]['wpr_ranking_1'], node_list[:10000]['degree_ranking'])\n",
    "print(corr_wpr1_d10k)\n",
    "corr_wpr2_d10k, _ = kendalltau(node_list[:10000]['wpr_ranking_2'], node_list[:10000]['degree_ranking'])\n",
    "print(corr_wpr2_d10k)\n",
    "corr_wpr3_d10k, _ = kendalltau(node_list[:10000]['wpr_ranking_3'], node_list[:10000]['degree_ranking'])\n",
    "print(corr_wpr3_d10k)\n",
    "corr_wpr4_d10k, _ = kendalltau(node_list[:10000]['wpr_ranking_4'], node_list[:10000]['degree_ranking'])\n",
    "print(corr_wpr4_d10k)"
   ]
  },
  {
   "cell_type": "code",
   "execution_count": 48,
   "id": "53e5a4ec",
   "metadata": {},
   "outputs": [
    {
     "name": "stdout",
     "output_type": "stream",
     "text": [
      "0.5507947947947949\n",
      "0.6046766766766767\n",
      "0.4912152152152152\n",
      "0.5096496496496496\n"
     ]
    }
   ],
   "source": [
    "corr_wpr1_d1k, _ = kendalltau(node_list[:1000]['wpr_ranking_1'], node_list[:1000]['degree_ranking'])\n",
    "print(corr_wpr1_d1k)\n",
    "corr_wpr2_d1k, _ = kendalltau(node_list[:1000]['wpr_ranking_2'], node_list[:1000]['degree_ranking'])\n",
    "print(corr_wpr2_d1k)\n",
    "corr_wpr3_d1k, _ = kendalltau(node_list[:1000]['wpr_ranking_3'], node_list[:1000]['degree_ranking'])\n",
    "print(corr_wpr3_d1k)\n",
    "corr_wpr4_d1k, _ = kendalltau(node_list[:1000]['wpr_ranking_4'], node_list[:1000]['degree_ranking'])\n",
    "print(corr_wpr4_d1k)"
   ]
  },
  {
   "cell_type": "code",
   "execution_count": 49,
   "id": "6176d427",
   "metadata": {},
   "outputs": [
    {
     "name": "stdout",
     "output_type": "stream",
     "text": [
      "0.5955555555555556\n",
      "0.6404040404040405\n",
      "0.5446464646464647\n",
      "0.5604040404040406\n"
     ]
    }
   ],
   "source": [
    "corr_wpr1_d100, _ = kendalltau(node_list[:100]['wpr_ranking_1'], node_list[:100]['degree_ranking'])\n",
    "print(corr_wpr1_d100)\n",
    "corr_wpr2_d100, _ = kendalltau(node_list[:100]['wpr_ranking_2'], node_list[:100]['degree_ranking'])\n",
    "print(corr_wpr2_d100)\n",
    "corr_wpr3_d100, _ = kendalltau(node_list[:100]['wpr_ranking_3'], node_list[:100]['degree_ranking'])\n",
    "print(corr_wpr3_d100)\n",
    "corr_wpr4_d100, _ = kendalltau(node_list[:100]['wpr_ranking_4'], node_list[:100]['degree_ranking'])\n",
    "print(corr_wpr4_d100)"
   ]
  },
  {
   "cell_type": "code",
   "execution_count": 50,
   "id": "9253909a",
   "metadata": {},
   "outputs": [],
   "source": [
    "import numpy as np"
   ]
  },
  {
   "cell_type": "code",
   "execution_count": 43,
   "id": "645f397a",
   "metadata": {},
   "outputs": [],
   "source": [
    "node_list['internal_R2'] = node_list.apply(lambda row: np.round(np.log10(row['Reputation_2']) +10, decimals=4) if (row['Reputation_2'] !=0) else 0 , axis=1)"
   ]
  },
  {
   "cell_type": "code",
   "execution_count": 44,
   "id": "e19eafd3",
   "metadata": {},
   "outputs": [],
   "source": [
    "node_list['internal_R1'] = node_list.apply(lambda row: np.round(np.log10(row['Reputation_1']) +10, decimals=4) if (row['Reputation_1'] !=0) else 0 , axis=1)"
   ]
  },
  {
   "cell_type": "code",
   "execution_count": 45,
   "id": "7ae76f54",
   "metadata": {},
   "outputs": [],
   "source": [
    "node_list['internal_R3'] = node_list.apply(lambda row: np.round(np.log10(row['Reputation_3']) +10, decimals=4) if (row['Reputation_3'] !=0) else 0 , axis=1)"
   ]
  },
  {
   "cell_type": "code",
   "execution_count": 46,
   "id": "49851ac5",
   "metadata": {},
   "outputs": [],
   "source": [
    "node_list['internal_R4'] = node_list.apply(lambda row: np.round(np.log10(row['Reputation_4']) +10, decimals=4) if (row['Reputation_4'] !=0) else 0 , axis=1)"
   ]
  },
  {
   "cell_type": "code",
   "execution_count": null,
   "id": "c5f01652",
   "metadata": {},
   "outputs": [],
   "source": [
    "df_reputation['internal_pg_personalized'] = df_reputation.apply(lambda row: np.clip(np.round(np.log10(row['pagerank_personalized_weights']) +10, decimals=2), 0, 10) if (row['pagerank_personalized_weights'] !=0) else 0 , axis=1)"
   ]
  },
  {
   "cell_type": "code",
   "execution_count": 63,
   "id": "a1580b85",
   "metadata": {},
   "outputs": [
    {
     "data": {
      "text/html": [
       "<div>\n",
       "<style scoped>\n",
       "    .dataframe tbody tr th:only-of-type {\n",
       "        vertical-align: middle;\n",
       "    }\n",
       "\n",
       "    .dataframe tbody tr th {\n",
       "        vertical-align: top;\n",
       "    }\n",
       "\n",
       "    .dataframe thead th {\n",
       "        text-align: right;\n",
       "    }\n",
       "</style>\n",
       "<table border=\"1\" class=\"dataframe\">\n",
       "  <thead>\n",
       "    <tr style=\"text-align: right;\">\n",
       "      <th></th>\n",
       "      <th>Address</th>\n",
       "      <th>ID</th>\n",
       "      <th>Reputation_1</th>\n",
       "      <th>Reputation_2</th>\n",
       "      <th>Reputation_3</th>\n",
       "      <th>Reputation_4</th>\n",
       "      <th>Degree</th>\n",
       "      <th>In Degree</th>\n",
       "      <th>wpr_ranking_1</th>\n",
       "      <th>wpr_ranking_2</th>\n",
       "      <th>wpr_ranking_3</th>\n",
       "      <th>wpr_ranking_4</th>\n",
       "      <th>degree_ranking</th>\n",
       "      <th>in_degree_ranking</th>\n",
       "      <th>internal_R2</th>\n",
       "      <th>internal_ranking_R2</th>\n",
       "      <th>internal_R2_new</th>\n",
       "    </tr>\n",
       "  </thead>\n",
       "  <tbody>\n",
       "    <tr>\n",
       "      <th>0</th>\n",
       "      <td>0x55d398326f99059ff775485246999027b3197955</td>\n",
       "      <td>237</td>\n",
       "      <td>104.258220</td>\n",
       "      <td>86.823495</td>\n",
       "      <td>53.078238</td>\n",
       "      <td>52.591825</td>\n",
       "      <td>12343824</td>\n",
       "      <td>12343824</td>\n",
       "      <td>0</td>\n",
       "      <td>0</td>\n",
       "      <td>0</td>\n",
       "      <td>0</td>\n",
       "      <td>0</td>\n",
       "      <td>0</td>\n",
       "      <td>10.0</td>\n",
       "      <td>0</td>\n",
       "      <td>11.9386</td>\n",
       "    </tr>\n",
       "    <tr>\n",
       "      <th>1</th>\n",
       "      <td>0xae5f14a9aed2b56121fb964a84a9dff114296563</td>\n",
       "      <td>2309</td>\n",
       "      <td>2.122261</td>\n",
       "      <td>1.644983</td>\n",
       "      <td>1.120063</td>\n",
       "      <td>1.093934</td>\n",
       "      <td>371223</td>\n",
       "      <td>371223</td>\n",
       "      <td>28</td>\n",
       "      <td>27</td>\n",
       "      <td>27</td>\n",
       "      <td>29</td>\n",
       "      <td>46</td>\n",
       "      <td>27</td>\n",
       "      <td>10.0</td>\n",
       "      <td>1</td>\n",
       "      <td>10.2162</td>\n",
       "    </tr>\n",
       "    <tr>\n",
       "      <th>2</th>\n",
       "      <td>0x8894e0a0c962cb723c1976a4421c95949be2d4e3</td>\n",
       "      <td>1516</td>\n",
       "      <td>2.503413</td>\n",
       "      <td>1.634736</td>\n",
       "      <td>1.420138</td>\n",
       "      <td>1.508583</td>\n",
       "      <td>952047</td>\n",
       "      <td>224938</td>\n",
       "      <td>21</td>\n",
       "      <td>29</td>\n",
       "      <td>19</td>\n",
       "      <td>18</td>\n",
       "      <td>13</td>\n",
       "      <td>46</td>\n",
       "      <td>10.0</td>\n",
       "      <td>2</td>\n",
       "      <td>10.2134</td>\n",
       "    </tr>\n",
       "    <tr>\n",
       "      <th>3</th>\n",
       "      <td>0x975d9bd9928f398c7e01f6ba236816fa558cd94b</td>\n",
       "      <td>2250</td>\n",
       "      <td>2.360132</td>\n",
       "      <td>1.619658</td>\n",
       "      <td>1.313460</td>\n",
       "      <td>1.313483</td>\n",
       "      <td>187017</td>\n",
       "      <td>142276</td>\n",
       "      <td>24</td>\n",
       "      <td>30</td>\n",
       "      <td>22</td>\n",
       "      <td>21</td>\n",
       "      <td>86</td>\n",
       "      <td>88</td>\n",
       "      <td>10.0</td>\n",
       "      <td>3</td>\n",
       "      <td>10.2094</td>\n",
       "    </tr>\n",
       "    <tr>\n",
       "      <th>4</th>\n",
       "      <td>0x96eade4c5ca5251caa7801ed38fada4807f63cbe</td>\n",
       "      <td>29262</td>\n",
       "      <td>1.882949</td>\n",
       "      <td>1.569716</td>\n",
       "      <td>0.958094</td>\n",
       "      <td>0.955077</td>\n",
       "      <td>132530</td>\n",
       "      <td>132530</td>\n",
       "      <td>31</td>\n",
       "      <td>31</td>\n",
       "      <td>31</td>\n",
       "      <td>32</td>\n",
       "      <td>155</td>\n",
       "      <td>96</td>\n",
       "      <td>10.0</td>\n",
       "      <td>4</td>\n",
       "      <td>10.1958</td>\n",
       "    </tr>\n",
       "  </tbody>\n",
       "</table>\n",
       "</div>"
      ],
      "text/plain": [
       "                                       Address     ID  Reputation_1  \\\n",
       "0   0x55d398326f99059ff775485246999027b3197955    237    104.258220   \n",
       "1   0xae5f14a9aed2b56121fb964a84a9dff114296563   2309      2.122261   \n",
       "2   0x8894e0a0c962cb723c1976a4421c95949be2d4e3   1516      2.503413   \n",
       "3   0x975d9bd9928f398c7e01f6ba236816fa558cd94b   2250      2.360132   \n",
       "4   0x96eade4c5ca5251caa7801ed38fada4807f63cbe  29262      1.882949   \n",
       "\n",
       "   Reputation_2  Reputation_3  Reputation_4    Degree  In Degree  \\\n",
       "0     86.823495     53.078238     52.591825  12343824   12343824   \n",
       "1      1.644983      1.120063      1.093934    371223     371223   \n",
       "2      1.634736      1.420138      1.508583    952047     224938   \n",
       "3      1.619658      1.313460      1.313483    187017     142276   \n",
       "4      1.569716      0.958094      0.955077    132530     132530   \n",
       "\n",
       "   wpr_ranking_1  wpr_ranking_2  wpr_ranking_3  wpr_ranking_4  degree_ranking  \\\n",
       "0              0              0              0              0               0   \n",
       "1             28             27             27             29              46   \n",
       "2             21             29             19             18              13   \n",
       "3             24             30             22             21              86   \n",
       "4             31             31             31             32             155   \n",
       "\n",
       "   in_degree_ranking  internal_R2  internal_ranking_R2  internal_R2_new  \n",
       "0                  0         10.0                    0          11.9386  \n",
       "1                 27         10.0                    1          10.2162  \n",
       "2                 46         10.0                    2          10.2134  \n",
       "3                 88         10.0                    3          10.2094  \n",
       "4                 96         10.0                    4          10.1958  "
      ]
     },
     "execution_count": 63,
     "metadata": {},
     "output_type": "execute_result"
    }
   ],
   "source": [
    "node_list.head(5)"
   ]
  },
  {
   "cell_type": "code",
   "execution_count": 53,
   "id": "d998c5eb",
   "metadata": {},
   "outputs": [],
   "source": [
    "node_list.sort_values('internal_R2', inplace=True, ascending=False)\n",
    "node_list.reset_index(drop=True, inplace=True)\n",
    "node_list['internal_ranking_R2'] = node_list.index"
   ]
  },
  {
   "cell_type": "code",
   "execution_count": 55,
   "id": "85a517a0",
   "metadata": {},
   "outputs": [
    {
     "name": "stdout",
     "output_type": "stream",
     "text": [
      "0.9449884903814516\n"
     ]
    }
   ],
   "source": [
    "corr_ir_wpr2, _ = kendalltau(node_list['internal_ranking_R2'], node_list['wpr_ranking_2'])\n",
    "print(corr_ir_wpr2)"
   ]
  },
  {
   "cell_type": "code",
   "execution_count": 56,
   "id": "0841b774",
   "metadata": {},
   "outputs": [
    {
     "name": "stdout",
     "output_type": "stream",
     "text": [
      "0.17463550667831135\n"
     ]
    }
   ],
   "source": [
    "corr_ir_d, _ = kendalltau(node_list['internal_ranking_R2'], node_list['degree_ranking'])\n",
    "print(corr_ir_d)"
   ]
  },
  {
   "cell_type": "code",
   "execution_count": 57,
   "id": "779b4f46",
   "metadata": {},
   "outputs": [
    {
     "name": "stdout",
     "output_type": "stream",
     "text": [
      "0.48651866849875\n"
     ]
    }
   ],
   "source": [
    "corr_ir_id, _ = kendalltau(node_list['internal_ranking_R2'], node_list['in_degree_ranking'])\n",
    "print(corr_ir_id)"
   ]
  },
  {
   "cell_type": "markdown",
   "id": "00364f4b",
   "metadata": {},
   "source": [
    "# distribution"
   ]
  },
  {
   "cell_type": "code",
   "execution_count": 60,
   "id": "851d7107",
   "metadata": {},
   "outputs": [],
   "source": [
    "import matplotlib.pyplot as plt"
   ]
  },
  {
   "cell_type": "code",
   "execution_count": 61,
   "id": "8c0ba279",
   "metadata": {},
   "outputs": [
    {
     "data": {
      "image/png": "[encoded data removed]",
      "text/plain": [
       "<Figure size 640x480 with 1 Axes>"
      ]
     },
     "metadata": {},
     "output_type": "display_data"
    }
   ],
   "source": [
    "n, bins, patches = plt.hist(list(node_list['internal_R2']), 100, facecolor='g', alpha=0.75)\n",
    "plt.xlabel('Internal PageRank Score (Log Transformation)')\n",
    "plt.ylabel('Count (Log Scale)')\n",
    "plt.title('PageRank Distribution')\n",
    "plt.xlim(0, 10)\n",
    "plt.yscale('log')\n",
    "plt.grid(True)\n",
    "plt.show()"
   ]
  },
  {
   "cell_type": "code",
   "execution_count": 75,
   "id": "b5f4fb56",
   "metadata": {},
   "outputs": [
    {
     "data": {
      "image/png": "[encoded data removed]",
      "text/plain": [
       "<Figure size 640x480 with 1 Axes>"
      ]
     },
     "metadata": {},
     "output_type": "display_data"
    }
   ],
   "source": [
    "n, bins, patches = plt.hist(list(node_list['internal_R2_new']), 100, facecolor='g', alpha=0.75)\n",
    "plt.xlabel('Internal Reputation Score (Log Transformation +10)')\n",
    "plt.ylabel('Count (Log Scale)')\n",
    "plt.title('Reputation Distribution')\n",
    "plt.xlim(0, 20)\n",
    "plt.yscale('log')\n",
    "plt.grid(True)\n",
    "plt.show()"
   ]
  },
  {
   "cell_type": "code",
   "execution_count": 72,
   "id": "1beb73d2",
   "metadata": {},
   "outputs": [
    {
     "data": {
      "image/png": "[encoded data removed]",
      "text/plain": [
       "<Figure size 640x480 with 1 Axes>"
      ]
     },
     "metadata": {},
     "output_type": "display_data"
    }
   ],
   "source": [
    "n, bins, patches = plt.hist(list(node_list['internal_R1']), 100, facecolor='g', alpha=0.75)\n",
    "plt.xlabel('Internal Reputation Score (Log Transformation +10)')\n",
    "plt.ylabel('Count (Log Scale)')\n",
    "plt.title('Reputation Distribution')\n",
    "plt.xlim(0, 20)\n",
    "plt.yscale('log')\n",
    "plt.grid(True)\n",
    "plt.show()"
   ]
  },
  {
   "cell_type": "code",
   "execution_count": 73,
   "id": "ef4b88c4",
   "metadata": {},
   "outputs": [
    {
     "data": {
      "image/png": "[encoded data removed]",
      "text/plain": [
       "<Figure size 640x480 with 1 Axes>"
      ]
     },
     "metadata": {},
     "output_type": "display_data"
    }
   ],
   "source": [
    "n, bins, patches = plt.hist(list(node_list['internal_R3']), 100, facecolor='g', alpha=0.75)\n",
    "plt.xlabel('Internal Reputation Score (Log Transformation +10)')\n",
    "plt.ylabel('Count (Log Scale)')\n",
    "plt.title('Reputation Distribution')\n",
    "plt.xlim(0, 20)\n",
    "plt.yscale('log')\n",
    "plt.grid(True)\n",
    "plt.show()"
   ]
  },
  {
   "cell_type": "code",
   "execution_count": 74,
   "id": "653247d9",
   "metadata": {},
   "outputs": [
    {
     "data": {
      "image/png": "[encoded data removed]",
      "text/plain": [
       "<Figure size 640x480 with 1 Axes>"
      ]
     },
     "metadata": {},
     "output_type": "display_data"
    }
   ],
   "source": [
    "n, bins, patches = plt.hist(list(node_list['internal_R4']), 100, facecolor='g', alpha=0.75)\n",
    "plt.xlabel('Internal Reputation Score (Log Transformation +10)')\n",
    "plt.ylabel('Count (Log Scale)')\n",
    "plt.title('Reputation Distribution')\n",
    "plt.xlim(0, 20)\n",
    "plt.yscale('log')\n",
    "plt.grid(True)\n",
    "plt.show()"
   ]
  },
  {
   "cell_type": "code",
   "execution_count": 76,
   "id": "c96d3f0a",
   "metadata": {},
   "outputs": [
    {
     "data": {
      "text/html": [
       "<div>\n",
       "<style scoped>\n",
       "    .dataframe tbody tr th:only-of-type {\n",
       "        vertical-align: middle;\n",
       "    }\n",
       "\n",
       "    .dataframe tbody tr th {\n",
       "        vertical-align: top;\n",
       "    }\n",
       "\n",
       "    .dataframe thead th {\n",
       "        text-align: right;\n",
       "    }\n",
       "</style>\n",
       "<table border=\"1\" class=\"dataframe\">\n",
       "  <thead>\n",
       "    <tr style=\"text-align: right;\">\n",
       "      <th></th>\n",
       "      <th>Address</th>\n",
       "      <th>ID</th>\n",
       "      <th>Reputation_1</th>\n",
       "      <th>Reputation_2</th>\n",
       "      <th>Reputation_3</th>\n",
       "      <th>Reputation_4</th>\n",
       "      <th>Degree</th>\n",
       "      <th>In Degree</th>\n",
       "      <th>wpr_ranking_1</th>\n",
       "      <th>wpr_ranking_2</th>\n",
       "      <th>wpr_ranking_3</th>\n",
       "      <th>wpr_ranking_4</th>\n",
       "      <th>degree_ranking</th>\n",
       "      <th>in_degree_ranking</th>\n",
       "      <th>internal_R2</th>\n",
       "      <th>internal_ranking_R2</th>\n",
       "      <th>internal_R2_new</th>\n",
       "      <th>internal_R1</th>\n",
       "      <th>internal_R3</th>\n",
       "      <th>internal_R4</th>\n",
       "    </tr>\n",
       "  </thead>\n",
       "  <tbody>\n",
       "    <tr>\n",
       "      <th>0</th>\n",
       "      <td>0x55d398326f99059ff775485246999027b3197955</td>\n",
       "      <td>237</td>\n",
       "      <td>104.258220</td>\n",
       "      <td>86.823495</td>\n",
       "      <td>53.078238</td>\n",
       "      <td>52.591825</td>\n",
       "      <td>12343824</td>\n",
       "      <td>12343824</td>\n",
       "      <td>0</td>\n",
       "      <td>0</td>\n",
       "      <td>0</td>\n",
       "      <td>0</td>\n",
       "      <td>0</td>\n",
       "      <td>0</td>\n",
       "      <td>10.0</td>\n",
       "      <td>0</td>\n",
       "      <td>11.9386</td>\n",
       "      <td>12.0181</td>\n",
       "      <td>11.7249</td>\n",
       "      <td>11.7209</td>\n",
       "    </tr>\n",
       "    <tr>\n",
       "      <th>1</th>\n",
       "      <td>0xae5f14a9aed2b56121fb964a84a9dff114296563</td>\n",
       "      <td>2309</td>\n",
       "      <td>2.122261</td>\n",
       "      <td>1.644983</td>\n",
       "      <td>1.120063</td>\n",
       "      <td>1.093934</td>\n",
       "      <td>371223</td>\n",
       "      <td>371223</td>\n",
       "      <td>28</td>\n",
       "      <td>27</td>\n",
       "      <td>27</td>\n",
       "      <td>29</td>\n",
       "      <td>46</td>\n",
       "      <td>27</td>\n",
       "      <td>10.0</td>\n",
       "      <td>1</td>\n",
       "      <td>10.2162</td>\n",
       "      <td>10.3268</td>\n",
       "      <td>10.0492</td>\n",
       "      <td>10.0390</td>\n",
       "    </tr>\n",
       "    <tr>\n",
       "      <th>2</th>\n",
       "      <td>0x8894e0a0c962cb723c1976a4421c95949be2d4e3</td>\n",
       "      <td>1516</td>\n",
       "      <td>2.503413</td>\n",
       "      <td>1.634736</td>\n",
       "      <td>1.420138</td>\n",
       "      <td>1.508583</td>\n",
       "      <td>952047</td>\n",
       "      <td>224938</td>\n",
       "      <td>21</td>\n",
       "      <td>29</td>\n",
       "      <td>19</td>\n",
       "      <td>18</td>\n",
       "      <td>13</td>\n",
       "      <td>46</td>\n",
       "      <td>10.0</td>\n",
       "      <td>2</td>\n",
       "      <td>10.2134</td>\n",
       "      <td>10.3985</td>\n",
       "      <td>10.1523</td>\n",
       "      <td>10.1786</td>\n",
       "    </tr>\n",
       "    <tr>\n",
       "      <th>3</th>\n",
       "      <td>0x975d9bd9928f398c7e01f6ba236816fa558cd94b</td>\n",
       "      <td>2250</td>\n",
       "      <td>2.360132</td>\n",
       "      <td>1.619658</td>\n",
       "      <td>1.313460</td>\n",
       "      <td>1.313483</td>\n",
       "      <td>187017</td>\n",
       "      <td>142276</td>\n",
       "      <td>24</td>\n",
       "      <td>30</td>\n",
       "      <td>22</td>\n",
       "      <td>21</td>\n",
       "      <td>86</td>\n",
       "      <td>88</td>\n",
       "      <td>10.0</td>\n",
       "      <td>3</td>\n",
       "      <td>10.2094</td>\n",
       "      <td>10.3729</td>\n",
       "      <td>10.1184</td>\n",
       "      <td>10.1184</td>\n",
       "    </tr>\n",
       "    <tr>\n",
       "      <th>4</th>\n",
       "      <td>0x96eade4c5ca5251caa7801ed38fada4807f63cbe</td>\n",
       "      <td>29262</td>\n",
       "      <td>1.882949</td>\n",
       "      <td>1.569716</td>\n",
       "      <td>0.958094</td>\n",
       "      <td>0.955077</td>\n",
       "      <td>132530</td>\n",
       "      <td>132530</td>\n",
       "      <td>31</td>\n",
       "      <td>31</td>\n",
       "      <td>31</td>\n",
       "      <td>32</td>\n",
       "      <td>155</td>\n",
       "      <td>96</td>\n",
       "      <td>10.0</td>\n",
       "      <td>4</td>\n",
       "      <td>10.1958</td>\n",
       "      <td>10.2748</td>\n",
       "      <td>9.9814</td>\n",
       "      <td>9.9800</td>\n",
       "    </tr>\n",
       "  </tbody>\n",
       "</table>\n",
       "</div>"
      ],
      "text/plain": [
       "                                       Address     ID  Reputation_1  \\\n",
       "0   0x55d398326f99059ff775485246999027b3197955    237    104.258220   \n",
       "1   0xae5f14a9aed2b56121fb964a84a9dff114296563   2309      2.122261   \n",
       "2   0x8894e0a0c962cb723c1976a4421c95949be2d4e3   1516      2.503413   \n",
       "3   0x975d9bd9928f398c7e01f6ba236816fa558cd94b   2250      2.360132   \n",
       "4   0x96eade4c5ca5251caa7801ed38fada4807f63cbe  29262      1.882949   \n",
       "\n",
       "   Reputation_2  Reputation_3  Reputation_4    Degree  In Degree  \\\n",
       "0     86.823495     53.078238     52.591825  12343824   12343824   \n",
       "1      1.644983      1.120063      1.093934    371223     371223   \n",
       "2      1.634736      1.420138      1.508583    952047     224938   \n",
       "3      1.619658      1.313460      1.313483    187017     142276   \n",
       "4      1.569716      0.958094      0.955077    132530     132530   \n",
       "\n",
       "   wpr_ranking_1  wpr_ranking_2  wpr_ranking_3  wpr_ranking_4  degree_ranking  \\\n",
       "0              0              0              0              0               0   \n",
       "1             28             27             27             29              46   \n",
       "2             21             29             19             18              13   \n",
       "3             24             30             22             21              86   \n",
       "4             31             31             31             32             155   \n",
       "\n",
       "   in_degree_ranking  internal_R2  internal_ranking_R2  internal_R2_new  \\\n",
       "0                  0         10.0                    0          11.9386   \n",
       "1                 27         10.0                    1          10.2162   \n",
       "2                 46         10.0                    2          10.2134   \n",
       "3                 88         10.0                    3          10.2094   \n",
       "4                 96         10.0                    4          10.1958   \n",
       "\n",
       "   internal_R1  internal_R3  internal_R4  \n",
       "0      12.0181      11.7249      11.7209  \n",
       "1      10.3268      10.0492      10.0390  \n",
       "2      10.3985      10.1523      10.1786  \n",
       "3      10.3729      10.1184      10.1184  \n",
       "4      10.2748       9.9814       9.9800  "
      ]
     },
     "execution_count": 76,
     "metadata": {},
     "output_type": "execute_result"
    }
   ],
   "source": [
    "node_list.head(5)"
   ]
  },
  {
   "cell_type": "code",
   "execution_count": 21,
   "id": "2584aabf",
   "metadata": {},
   "outputs": [],
   "source": [
    "node_list['scale10_R1'] = node_list.apply(lambda row: np.clip(np.round(np.log10(row['Reputation_1']) +7, decimals=6), 0, 10) if (row['Reputation_1'] !=0) else 0 , axis=1)"
   ]
  },
  {
   "cell_type": "code",
   "execution_count": 22,
   "id": "796faf2d",
   "metadata": {},
   "outputs": [],
   "source": [
    "node_list['scale10_R2'] = node_list.apply(lambda row: np.clip(np.round(np.log10(row['Reputation_2']) +7, decimals=6), 0, 10) if (row['Reputation_2'] !=0) else 0 , axis=1)"
   ]
  },
  {
   "cell_type": "code",
   "execution_count": 23,
   "id": "7d95b5f0",
   "metadata": {},
   "outputs": [],
   "source": [
    "node_list['scale10_R3'] = node_list.apply(lambda row: np.clip(np.round(np.log10(row['Reputation_3']) +7, decimals=6), 0, 10) if (row['Reputation_3'] !=0) else 0 , axis=1)"
   ]
  },
  {
   "cell_type": "code",
   "execution_count": 24,
   "id": "68532886",
   "metadata": {},
   "outputs": [],
   "source": [
    "node_list['scale10_R4'] = node_list.apply(lambda row: np.clip(np.round(np.log10(row['Reputation_4']) +7, decimals=6), 0, 10) if (row['Reputation_4'] !=0) else 0 , axis=1)"
   ]
  },
  {
   "cell_type": "code",
   "execution_count": 27,
   "id": "f43462a6",
   "metadata": {},
   "outputs": [
    {
     "data": {
      "text/html": [
       "<div>\n",
       "<style scoped>\n",
       "    .dataframe tbody tr th:only-of-type {\n",
       "        vertical-align: middle;\n",
       "    }\n",
       "\n",
       "    .dataframe tbody tr th {\n",
       "        vertical-align: top;\n",
       "    }\n",
       "\n",
       "    .dataframe thead th {\n",
       "        text-align: right;\n",
       "    }\n",
       "</style>\n",
       "<table border=\"1\" class=\"dataframe\">\n",
       "  <thead>\n",
       "    <tr style=\"text-align: right;\">\n",
       "      <th></th>\n",
       "      <th>Address</th>\n",
       "      <th>ID</th>\n",
       "      <th>Reputation_1</th>\n",
       "      <th>Reputation_2</th>\n",
       "      <th>Reputation_3</th>\n",
       "      <th>Reputation_4</th>\n",
       "      <th>Degree</th>\n",
       "      <th>In Degree</th>\n",
       "      <th>scale10_R1</th>\n",
       "      <th>scale10_R2</th>\n",
       "      <th>scale10_R3</th>\n",
       "      <th>scale10_R4</th>\n",
       "    </tr>\n",
       "  </thead>\n",
       "  <tbody>\n",
       "    <tr>\n",
       "      <th>0</th>\n",
       "      <td>0x7f74b66bb8a5ab09934ab3a8ac9c7a3a43acd5be</td>\n",
       "      <td>0</td>\n",
       "      <td>0.000000</td>\n",
       "      <td>0.000000</td>\n",
       "      <td>0.000010</td>\n",
       "      <td>0.000010</td>\n",
       "      <td>24</td>\n",
       "      <td>0</td>\n",
       "      <td>0.000000</td>\n",
       "      <td>0.000000</td>\n",
       "      <td>2.002982</td>\n",
       "      <td>2.002982</td>\n",
       "    </tr>\n",
       "    <tr>\n",
       "      <th>1</th>\n",
       "      <td>0x54b9b2f32bcb7cdffe21c2f91710d843f0f1400e</td>\n",
       "      <td>1</td>\n",
       "      <td>0.003761</td>\n",
       "      <td>0.005383</td>\n",
       "      <td>0.001196</td>\n",
       "      <td>0.001158</td>\n",
       "      <td>1843</td>\n",
       "      <td>1843</td>\n",
       "      <td>4.575303</td>\n",
       "      <td>4.731051</td>\n",
       "      <td>4.077841</td>\n",
       "      <td>4.063728</td>\n",
       "    </tr>\n",
       "    <tr>\n",
       "      <th>2</th>\n",
       "      <td>0x4668eaa732fc5547f96f8ea584acb0a29d7ef95a</td>\n",
       "      <td>2</td>\n",
       "      <td>0.000000</td>\n",
       "      <td>0.000000</td>\n",
       "      <td>0.000010</td>\n",
       "      <td>0.000010</td>\n",
       "      <td>22</td>\n",
       "      <td>0</td>\n",
       "      <td>0.000000</td>\n",
       "      <td>0.000000</td>\n",
       "      <td>2.002982</td>\n",
       "      <td>2.002982</td>\n",
       "    </tr>\n",
       "    <tr>\n",
       "      <th>3</th>\n",
       "      <td>0xebf7abc4316004cda6f5e61e631ef47d406116a1</td>\n",
       "      <td>3</td>\n",
       "      <td>0.000000</td>\n",
       "      <td>0.000000</td>\n",
       "      <td>0.000010</td>\n",
       "      <td>0.000010</td>\n",
       "      <td>20</td>\n",
       "      <td>0</td>\n",
       "      <td>0.000000</td>\n",
       "      <td>0.000000</td>\n",
       "      <td>2.002982</td>\n",
       "      <td>2.002982</td>\n",
       "    </tr>\n",
       "    <tr>\n",
       "      <th>4</th>\n",
       "      <td>0x7a36bbc328c88b62ada9ba351e8ddbf6bb83488d</td>\n",
       "      <td>4</td>\n",
       "      <td>0.000000</td>\n",
       "      <td>0.000000</td>\n",
       "      <td>0.000010</td>\n",
       "      <td>0.000010</td>\n",
       "      <td>17</td>\n",
       "      <td>0</td>\n",
       "      <td>0.000000</td>\n",
       "      <td>0.000000</td>\n",
       "      <td>2.002982</td>\n",
       "      <td>2.002982</td>\n",
       "    </tr>\n",
       "  </tbody>\n",
       "</table>\n",
       "</div>"
      ],
      "text/plain": [
       "                                       Address  ID  Reputation_1  \\\n",
       "0   0x7f74b66bb8a5ab09934ab3a8ac9c7a3a43acd5be   0      0.000000   \n",
       "1   0x54b9b2f32bcb7cdffe21c2f91710d843f0f1400e   1      0.003761   \n",
       "2   0x4668eaa732fc5547f96f8ea584acb0a29d7ef95a   2      0.000000   \n",
       "3   0xebf7abc4316004cda6f5e61e631ef47d406116a1   3      0.000000   \n",
       "4   0x7a36bbc328c88b62ada9ba351e8ddbf6bb83488d   4      0.000000   \n",
       "\n",
       "   Reputation_2  Reputation_3  Reputation_4  Degree  In Degree  scale10_R1  \\\n",
       "0      0.000000      0.000010      0.000010      24          0    0.000000   \n",
       "1      0.005383      0.001196      0.001158    1843       1843    4.575303   \n",
       "2      0.000000      0.000010      0.000010      22          0    0.000000   \n",
       "3      0.000000      0.000010      0.000010      20          0    0.000000   \n",
       "4      0.000000      0.000010      0.000010      17          0    0.000000   \n",
       "\n",
       "   scale10_R2  scale10_R3  scale10_R4  \n",
       "0    0.000000    2.002982    2.002982  \n",
       "1    4.731051    4.077841    4.063728  \n",
       "2    0.000000    2.002982    2.002982  \n",
       "3    0.000000    2.002982    2.002982  \n",
       "4    0.000000    2.002982    2.002982  "
      ]
     },
     "execution_count": 27,
     "metadata": {},
     "output_type": "execute_result"
    }
   ],
   "source": [
    "node_list.head(5)"
   ]
  },
  {
   "cell_type": "code",
   "execution_count": 28,
   "id": "539016b5",
   "metadata": {},
   "outputs": [
    {
     "data": {
      "image/png": "[encoded data removed]",
      "text/plain": [
       "<Figure size 640x480 with 1 Axes>"
      ]
     },
     "metadata": {},
     "output_type": "display_data"
    }
   ],
   "source": [
    "n, bins, patches = plt.hist(list(node_list['scale10_R1']), 100, facecolor='g', alpha=0.75)\n",
    "plt.xlabel('Internal Reputation Score (Log Transformation - Scale 10)')\n",
    "plt.ylabel('Count (Log Scale)')\n",
    "plt.title('Reputation Distribution')\n",
    "plt.xlim(0, 10)\n",
    "plt.yscale('log')\n",
    "plt.grid(True)\n",
    "plt.show()"
   ]
  },
  {
   "cell_type": "code",
   "execution_count": 29,
   "id": "78e76d4a",
   "metadata": {},
   "outputs": [
    {
     "data": {
      "image/png": "[encoded data removed]",
      "text/plain": [
       "<Figure size 640x480 with 1 Axes>"
      ]
     },
     "metadata": {},
     "output_type": "display_data"
    }
   ],
   "source": [
    "n, bins, patches = plt.hist(list(node_list['scale10_R2']), 100, facecolor='g', alpha=0.75)\n",
    "plt.xlabel('Internal Reputation Score (Log Transformation - Scale 10)')\n",
    "plt.ylabel('Count (Log Scale)')\n",
    "plt.title('Reputation Distribution')\n",
    "plt.xlim(0, 10)\n",
    "plt.yscale('log')\n",
    "plt.grid(True)\n",
    "plt.show()"
   ]
  },
  {
   "cell_type": "code",
   "execution_count": 30,
   "id": "219d4452",
   "metadata": {},
   "outputs": [
    {
     "data": {
      "image/png": "[encoded data removed]",
      "text/plain": [
       "<Figure size 640x480 with 1 Axes>"
      ]
     },
     "metadata": {},
     "output_type": "display_data"
    }
   ],
   "source": [
    "n, bins, patches = plt.hist(list(node_list['scale10_R3']), 100, facecolor='g', alpha=0.75)\n",
    "plt.xlabel('Internal Reputation Score (Log Transformation - Scale 10)')\n",
    "plt.ylabel('Count (Log Scale)')\n",
    "plt.title('Reputation Distribution')\n",
    "plt.xlim(0, 10)\n",
    "plt.yscale('log')\n",
    "plt.grid(True)\n",
    "plt.show()"
   ]
  },
  {
   "cell_type": "code",
   "execution_count": 31,
   "id": "b460322f",
   "metadata": {},
   "outputs": [
    {
     "data": {
      "image/png": "[encoded data removed]",
      "text/plain": [
       "<Figure size 640x480 with 1 Axes>"
      ]
     },
     "metadata": {},
     "output_type": "display_data"
    }
   ],
   "source": [
    "n, bins, patches = plt.hist(list(node_list['scale10_R4']), 100, facecolor='g', alpha=0.75)\n",
    "plt.xlabel('Internal Reputation Score (Log Transformation - Scale 10)')\n",
    "plt.ylabel('Count (Log Scale)')\n",
    "plt.title('Reputation Distribution')\n",
    "plt.xlim(0, 10)\n",
    "plt.yscale('log')\n",
    "plt.grid(True)\n",
    "plt.show()"
   ]
  },
  {
   "cell_type": "code",
   "execution_count": 40,
   "id": "3d32ef67",
   "metadata": {},
   "outputs": [
    {
     "data": {
      "image/png": "[encoded data removed]",
      "text/plain": [
       "<Figure size 640x480 with 1 Axes>"
      ]
     },
     "metadata": {},
     "output_type": "display_data"
    }
   ],
   "source": [
    "repu_list_1 = list(node_list['Reputation_1'])\n",
    "n, bins, patches = plt.hist(repu_list_1, 100, facecolor='g', alpha=0.75)\n",
    "plt.xlabel('Reputation Scores')\n",
    "plt.ylabel('Count')\n",
    "plt.title('Reputation Distribution')\n",
    "plt.xlim(0, 100)\n",
    "plt.yscale('log')\n",
    "plt.grid(True)\n",
    "plt.show()"
   ]
  },
  {
   "cell_type": "code",
   "execution_count": 33,
   "id": "bd8a13b1",
   "metadata": {},
   "outputs": [
    {
     "data": {
      "image/png": "[encoded data removed]",
      "text/plain": [
       "<Figure size 640x480 with 1 Axes>"
      ]
     },
     "metadata": {},
     "output_type": "display_data"
    }
   ],
   "source": [
    "repu_list_2 = list(node_list['Reputation_2'])\n",
    "n, bins, patches = plt.hist(repu_list_2, 100, facecolor='g', alpha=0.75)\n",
    "plt.xlabel('Reputation Scores')\n",
    "plt.ylabel('Count')\n",
    "plt.title('Reputation Distribution')\n",
    "plt.xlim(0, 100)\n",
    "plt.yscale('log')\n",
    "plt.grid(True)\n",
    "plt.show()"
   ]
  },
  {
   "cell_type": "code",
   "execution_count": 34,
   "id": "6777294b",
   "metadata": {},
   "outputs": [
    {
     "data": {
      "image/png": "[encoded data removed]",
      "text/plain": [
       "<Figure size 640x480 with 1 Axes>"
      ]
     },
     "metadata": {},
     "output_type": "display_data"
    }
   ],
   "source": [
    "repu_list_3 = list(node_list['Reputation_3'])\n",
    "n, bins, patches = plt.hist(repu_list_3, 100, facecolor='g', alpha=0.75)\n",
    "plt.xlabel('Reputation Scores')\n",
    "plt.ylabel('Count')\n",
    "plt.title('Reputation Distribution')\n",
    "plt.xlim(0, 100)\n",
    "plt.yscale('log')\n",
    "plt.grid(True)\n",
    "plt.show()"
   ]
  },
  {
   "cell_type": "code",
   "execution_count": 35,
   "id": "494d5749",
   "metadata": {},
   "outputs": [
    {
     "data": {
      "image/png": "[encoded data removed]",
      "text/plain": [
       "<Figure size 640x480 with 1 Axes>"
      ]
     },
     "metadata": {},
     "output_type": "display_data"
    }
   ],
   "source": [
    "repu_list_4 = list(node_list['Reputation_4'])\n",
    "n, bins, patches = plt.hist(repu_list_4, 100, facecolor='g', alpha=0.75)\n",
    "plt.xlabel('Reputation Scores')\n",
    "plt.ylabel('Count')\n",
    "plt.title('Reputation Distribution')\n",
    "plt.xlim(0, 100)\n",
    "plt.yscale('log')\n",
    "plt.grid(True)\n",
    "plt.show()"
   ]
  },
  {
   "cell_type": "code",
   "execution_count": 57,
   "id": "99d4392c",
   "metadata": {},
   "outputs": [
    {
     "data": {
      "text/html": [
       "<div>\n",
       "<style scoped>\n",
       "    .dataframe tbody tr th:only-of-type {\n",
       "        vertical-align: middle;\n",
       "    }\n",
       "\n",
       "    .dataframe tbody tr th {\n",
       "        vertical-align: top;\n",
       "    }\n",
       "\n",
       "    .dataframe thead th {\n",
       "        text-align: right;\n",
       "    }\n",
       "</style>\n",
       "<table border=\"1\" class=\"dataframe\">\n",
       "  <thead>\n",
       "    <tr style=\"text-align: right;\">\n",
       "      <th></th>\n",
       "      <th>Address</th>\n",
       "      <th>ID</th>\n",
       "      <th>Reputation_1</th>\n",
       "      <th>Reputation_2</th>\n",
       "      <th>Reputation_3</th>\n",
       "      <th>Reputation_4</th>\n",
       "      <th>Degree</th>\n",
       "      <th>In Degree</th>\n",
       "      <th>scale10_R1</th>\n",
       "      <th>scale10_R2</th>\n",
       "      <th>scale10_R3</th>\n",
       "      <th>scale10_R4</th>\n",
       "      <th>internal_R2</th>\n",
       "      <th>internal_R1</th>\n",
       "      <th>internal_R3</th>\n",
       "      <th>internal_R4</th>\n",
       "    </tr>\n",
       "  </thead>\n",
       "  <tbody>\n",
       "    <tr>\n",
       "      <th>7160896</th>\n",
       "      <td>0x388f723702808c21b2eef1985357c061d3de2da1</td>\n",
       "      <td>7160896</td>\n",
       "      <td>0.000030</td>\n",
       "      <td>0.000026</td>\n",
       "      <td>0.000025</td>\n",
       "      <td>0.000028</td>\n",
       "      <td>21</td>\n",
       "      <td>9</td>\n",
       "      <td>2.476829</td>\n",
       "      <td>2.415542</td>\n",
       "      <td>2.397701</td>\n",
       "      <td>2.446839</td>\n",
       "      <td>5.4155</td>\n",
       "      <td>5.4768</td>\n",
       "      <td>5.3977</td>\n",
       "      <td>5.4468</td>\n",
       "    </tr>\n",
       "    <tr>\n",
       "      <th>12626033</th>\n",
       "      <td>0xbec9ecb2a9cc88c9af69c7abd6537cd955f9fe96</td>\n",
       "      <td>12626033</td>\n",
       "      <td>0.000023</td>\n",
       "      <td>0.000026</td>\n",
       "      <td>0.000019</td>\n",
       "      <td>0.000019</td>\n",
       "      <td>11</td>\n",
       "      <td>4</td>\n",
       "      <td>2.355732</td>\n",
       "      <td>2.415541</td>\n",
       "      <td>2.285700</td>\n",
       "      <td>2.285699</td>\n",
       "      <td>5.4155</td>\n",
       "      <td>5.3557</td>\n",
       "      <td>5.2857</td>\n",
       "      <td>5.2857</td>\n",
       "    </tr>\n",
       "    <tr>\n",
       "      <th>18736251</th>\n",
       "      <td>0xb216761042b2068f16a70e2c59107a0691c99994</td>\n",
       "      <td>18736251</td>\n",
       "      <td>0.000013</td>\n",
       "      <td>0.000026</td>\n",
       "      <td>0.000012</td>\n",
       "      <td>0.000012</td>\n",
       "      <td>8</td>\n",
       "      <td>8</td>\n",
       "      <td>2.123857</td>\n",
       "      <td>2.415540</td>\n",
       "      <td>2.079171</td>\n",
       "      <td>2.077639</td>\n",
       "      <td>5.4155</td>\n",
       "      <td>5.1239</td>\n",
       "      <td>5.0792</td>\n",
       "      <td>5.0776</td>\n",
       "    </tr>\n",
       "    <tr>\n",
       "      <th>15055287</th>\n",
       "      <td>0x439f8f1e3d5bd86a7807a097216b793950d475d7</td>\n",
       "      <td>15055287</td>\n",
       "      <td>0.000014</td>\n",
       "      <td>0.000026</td>\n",
       "      <td>0.000013</td>\n",
       "      <td>0.000013</td>\n",
       "      <td>13</td>\n",
       "      <td>5</td>\n",
       "      <td>2.145295</td>\n",
       "      <td>2.415540</td>\n",
       "      <td>2.097733</td>\n",
       "      <td>2.098028</td>\n",
       "      <td>5.4155</td>\n",
       "      <td>5.1453</td>\n",
       "      <td>5.0977</td>\n",
       "      <td>5.0980</td>\n",
       "    </tr>\n",
       "    <tr>\n",
       "      <th>327349</th>\n",
       "      <td>0x2d93c7c11c59dd94815f089fed22b9efd5837e57</td>\n",
       "      <td>327349</td>\n",
       "      <td>0.000031</td>\n",
       "      <td>0.000026</td>\n",
       "      <td>0.000026</td>\n",
       "      <td>0.000026</td>\n",
       "      <td>42</td>\n",
       "      <td>13</td>\n",
       "      <td>2.486647</td>\n",
       "      <td>2.415540</td>\n",
       "      <td>2.406881</td>\n",
       "      <td>2.410698</td>\n",
       "      <td>5.4155</td>\n",
       "      <td>5.4866</td>\n",
       "      <td>5.4069</td>\n",
       "      <td>5.4107</td>\n",
       "    </tr>\n",
       "  </tbody>\n",
       "</table>\n",
       "</div>"
      ],
      "text/plain": [
       "                                              Address        ID  Reputation_1  \\\n",
       "7160896    0x388f723702808c21b2eef1985357c061d3de2da1   7160896      0.000030   \n",
       "12626033   0xbec9ecb2a9cc88c9af69c7abd6537cd955f9fe96  12626033      0.000023   \n",
       "18736251   0xb216761042b2068f16a70e2c59107a0691c99994  18736251      0.000013   \n",
       "15055287   0x439f8f1e3d5bd86a7807a097216b793950d475d7  15055287      0.000014   \n",
       "327349     0x2d93c7c11c59dd94815f089fed22b9efd5837e57    327349      0.000031   \n",
       "\n",
       "          Reputation_2  Reputation_3  Reputation_4  Degree  In Degree  \\\n",
       "7160896       0.000026      0.000025      0.000028      21          9   \n",
       "12626033      0.000026      0.000019      0.000019      11          4   \n",
       "18736251      0.000026      0.000012      0.000012       8          8   \n",
       "15055287      0.000026      0.000013      0.000013      13          5   \n",
       "327349        0.000026      0.000026      0.000026      42         13   \n",
       "\n",
       "          scale10_R1  scale10_R2  scale10_R3  scale10_R4  internal_R2  \\\n",
       "7160896     2.476829    2.415542    2.397701    2.446839       5.4155   \n",
       "12626033    2.355732    2.415541    2.285700    2.285699       5.4155   \n",
       "18736251    2.123857    2.415540    2.079171    2.077639       5.4155   \n",
       "15055287    2.145295    2.415540    2.097733    2.098028       5.4155   \n",
       "327349      2.486647    2.415540    2.406881    2.410698       5.4155   \n",
       "\n",
       "          internal_R1  internal_R3  internal_R4  \n",
       "7160896        5.4768       5.3977       5.4468  \n",
       "12626033       5.3557       5.2857       5.2857  \n",
       "18736251       5.1239       5.0792       5.0776  \n",
       "15055287       5.1453       5.0977       5.0980  \n",
       "327349         5.4866       5.4069       5.4107  "
      ]
     },
     "execution_count": 57,
     "metadata": {},
     "output_type": "execute_result"
    }
   ],
   "source": [
    "node_list[1000000:].head(5)"
   ]
  },
  {
   "cell_type": "code",
   "execution_count": 66,
   "id": "d54b26e9",
   "metadata": {},
   "outputs": [
    {
     "name": "stdout",
     "output_type": "stream",
     "text": [
      "1.2372558635406896\n"
     ]
    }
   ],
   "source": [
    "degree_1M_mean=node_list[1000000:]['In Degree'].mean()\n",
    "print(degree_1M_mean)"
   ]
  },
  {
   "cell_type": "code",
   "execution_count": 41,
   "id": "d16b4235",
   "metadata": {},
   "outputs": [],
   "source": [
    "mean_R1 = node_list['Reputation_1'].mean()\n",
    "mean_R2 = node_list['Reputation_2'].mean()\n",
    "mean_R3 = node_list['Reputation_3'].mean()\n",
    "mean_R4 = node_list['Reputation_4'].mean()"
   ]
  },
  {
   "cell_type": "code",
   "execution_count": 42,
   "id": "b3141b03",
   "metadata": {},
   "outputs": [
    {
     "name": "stdout",
     "output_type": "stream",
     "text": [
      "1.8472831443662748e-05\n",
      "1.8472831443676104e-05\n",
      "1.8472831451382863e-05\n",
      "1.847283145236417e-05\n"
     ]
    }
   ],
   "source": [
    "print(mean_R1)\n",
    "print(mean_R2)\n",
    "print(mean_R3)\n",
    "print(mean_R4)"
   ]
  },
  {
   "cell_type": "code",
   "execution_count": 48,
   "id": "c1027095",
   "metadata": {},
   "outputs": [],
   "source": [
    "var_R1 = node_list['Reputation_1'].var()\n",
    "var_R2 = node_list['Reputation_2'].var()\n",
    "var_R3 = node_list['Reputation_3'].var()\n",
    "var_R4 = node_list['Reputation_4'].var()"
   ]
  },
  {
   "cell_type": "code",
   "execution_count": 49,
   "id": "ad1893a0",
   "metadata": {},
   "outputs": [
    {
     "name": "stdout",
     "output_type": "stream",
     "text": [
      "0.0004337593354320579\n",
      "0.00030627423646490136\n",
      "0.00011166249183612165\n",
      "0.00011000847368981913\n"
     ]
    }
   ],
   "source": [
    "print(var_R1)\n",
    "print(var_R2)\n",
    "print(var_R3)\n",
    "print(var_R4)"
   ]
  },
  {
   "cell_type": "code",
   "execution_count": 50,
   "id": "f49df827",
   "metadata": {},
   "outputs": [],
   "source": [
    "mean_iR1 = node_list['internal_R1'].mean()\n",
    "mean_iR2 = node_list['internal_R2'].mean()\n",
    "mean_iR3 = node_list['internal_R3'].mean()\n",
    "mean_iR4 = node_list['internal_R4'].mean()\n",
    "var_iR1 = node_list['internal_R1'].var()\n",
    "var_iR2 = node_list['internal_R2'].var()\n",
    "var_iR3 = node_list['internal_R3'].var()\n",
    "var_iR4 = node_list['internal_R4'].var()"
   ]
  },
  {
   "cell_type": "code",
   "execution_count": 51,
   "id": "a1cc102c",
   "metadata": {},
   "outputs": [
    {
     "name": "stdout",
     "output_type": "stream",
     "text": [
      "3.451018222218223\n",
      "3.6349412930861935\n",
      "5.0409435045771955\n",
      "5.040830558394381\n",
      "3.0388017557881164\n",
      "3.275125223641335\n",
      "0.013986912536567697\n",
      "0.013678551787173771\n"
     ]
    }
   ],
   "source": [
    "print(mean_iR1)\n",
    "print(mean_iR2)\n",
    "print(mean_iR3)\n",
    "print(mean_iR4)\n",
    "print(var_iR1)\n",
    "print(var_iR2)\n",
    "print(var_iR3)\n",
    "print(var_iR4)"
   ]
  },
  {
   "cell_type": "code",
   "execution_count": 53,
   "id": "c8299141",
   "metadata": {},
   "outputs": [],
   "source": [
    "degree_mean = node_list['Degree'].mean()\n",
    "in_degree_mean = node_list['In Degree'].mean()\n",
    "degree_var = node_list['Degree'].var()\n",
    "in_degree_var = node_list['In Degree'].var()"
   ]
  },
  {
   "cell_type": "code",
   "execution_count": 54,
   "id": "3968ba7d",
   "metadata": {},
   "outputs": [
    {
     "name": "stdout",
     "output_type": "stream",
     "text": [
      "9.250449051441349\n",
      "4.625224525720674\n",
      "7363602.195270491\n",
      "7103564.327353906\n"
     ]
    }
   ],
   "source": [
    "print(degree_mean)\n",
    "print(in_degree_mean)\n",
    "print(degree_var)\n",
    "print(in_degree_var)"
   ]
  },
  {
   "cell_type": "code",
   "execution_count": 55,
   "id": "9ba94f8b",
   "metadata": {},
   "outputs": [
    {
     "data": {
      "text/html": [
       "<div>\n",
       "<style scoped>\n",
       "    .dataframe tbody tr th:only-of-type {\n",
       "        vertical-align: middle;\n",
       "    }\n",
       "\n",
       "    .dataframe tbody tr th {\n",
       "        vertical-align: top;\n",
       "    }\n",
       "\n",
       "    .dataframe thead th {\n",
       "        text-align: right;\n",
       "    }\n",
       "</style>\n",
       "<table border=\"1\" class=\"dataframe\">\n",
       "  <thead>\n",
       "    <tr style=\"text-align: right;\">\n",
       "      <th></th>\n",
       "      <th>Address</th>\n",
       "      <th>ID</th>\n",
       "      <th>Reputation_1</th>\n",
       "      <th>Reputation_2</th>\n",
       "      <th>Reputation_3</th>\n",
       "      <th>Reputation_4</th>\n",
       "      <th>Degree</th>\n",
       "      <th>In Degree</th>\n",
       "      <th>scale10_R1</th>\n",
       "      <th>scale10_R2</th>\n",
       "      <th>scale10_R3</th>\n",
       "      <th>scale10_R4</th>\n",
       "      <th>internal_R2</th>\n",
       "      <th>internal_R1</th>\n",
       "      <th>internal_R3</th>\n",
       "      <th>internal_R4</th>\n",
       "    </tr>\n",
       "  </thead>\n",
       "  <tbody>\n",
       "    <tr>\n",
       "      <th>237</th>\n",
       "      <td>0x55d398326f99059ff775485246999027b3197955</td>\n",
       "      <td>237</td>\n",
       "      <td>104.258220</td>\n",
       "      <td>86.823495</td>\n",
       "      <td>53.078238</td>\n",
       "      <td>52.591825</td>\n",
       "      <td>12343824</td>\n",
       "      <td>12343824</td>\n",
       "      <td>9.018110</td>\n",
       "      <td>8.938637</td>\n",
       "      <td>8.724917</td>\n",
       "      <td>8.720918</td>\n",
       "      <td>11.9386</td>\n",
       "      <td>12.0181</td>\n",
       "      <td>11.7249</td>\n",
       "      <td>11.7209</td>\n",
       "    </tr>\n",
       "    <tr>\n",
       "      <th>14556588</th>\n",
       "      <td>0xb9a5bde0a19288044784b859c903ee62ff2a3a65</td>\n",
       "      <td>14556588</td>\n",
       "      <td>77.799691</td>\n",
       "      <td>61.204497</td>\n",
       "      <td>40.768212</td>\n",
       "      <td>40.768244</td>\n",
       "      <td>4413541</td>\n",
       "      <td>4413541</td>\n",
       "      <td>8.890978</td>\n",
       "      <td>8.786783</td>\n",
       "      <td>8.610322</td>\n",
       "      <td>8.610322</td>\n",
       "      <td>11.7868</td>\n",
       "      <td>11.8910</td>\n",
       "      <td>11.6103</td>\n",
       "      <td>11.6103</td>\n",
       "    </tr>\n",
       "    <tr>\n",
       "      <th>10</th>\n",
       "      <td>0x10ed43c718714eb63d5aa57b78b54704e256024e</td>\n",
       "      <td>10</td>\n",
       "      <td>59.350524</td>\n",
       "      <td>55.161783</td>\n",
       "      <td>28.359346</td>\n",
       "      <td>27.726574</td>\n",
       "      <td>12237436</td>\n",
       "      <td>12237436</td>\n",
       "      <td>8.773425</td>\n",
       "      <td>8.741638</td>\n",
       "      <td>8.452696</td>\n",
       "      <td>8.442896</td>\n",
       "      <td>11.7416</td>\n",
       "      <td>11.7734</td>\n",
       "      <td>11.4527</td>\n",
       "      <td>11.4429</td>\n",
       "    </tr>\n",
       "    <tr>\n",
       "      <th>96</th>\n",
       "      <td>0xe9e7cea3dedca5984780bafc599bd69add087d56</td>\n",
       "      <td>96</td>\n",
       "      <td>42.713281</td>\n",
       "      <td>36.144456</td>\n",
       "      <td>21.559760</td>\n",
       "      <td>21.528719</td>\n",
       "      <td>6334594</td>\n",
       "      <td>6334594</td>\n",
       "      <td>8.630563</td>\n",
       "      <td>8.558042</td>\n",
       "      <td>8.333644</td>\n",
       "      <td>8.333018</td>\n",
       "      <td>11.5580</td>\n",
       "      <td>11.6306</td>\n",
       "      <td>11.3336</td>\n",
       "      <td>11.3330</td>\n",
       "    </tr>\n",
       "    <tr>\n",
       "      <th>25264249</th>\n",
       "      <td>0x2ab0e9e4ee70fff1fb9d67031e44f6410170d00e</td>\n",
       "      <td>25264249</td>\n",
       "      <td>26.332293</td>\n",
       "      <td>23.337141</td>\n",
       "      <td>12.950152</td>\n",
       "      <td>12.817184</td>\n",
       "      <td>2127698</td>\n",
       "      <td>2127698</td>\n",
       "      <td>8.420489</td>\n",
       "      <td>8.368048</td>\n",
       "      <td>8.112275</td>\n",
       "      <td>8.107793</td>\n",
       "      <td>11.3680</td>\n",
       "      <td>11.4205</td>\n",
       "      <td>11.1123</td>\n",
       "      <td>11.1078</td>\n",
       "    </tr>\n",
       "  </tbody>\n",
       "</table>\n",
       "</div>"
      ],
      "text/plain": [
       "                                              Address        ID  Reputation_1  \\\n",
       "237        0x55d398326f99059ff775485246999027b3197955       237    104.258220   \n",
       "14556588   0xb9a5bde0a19288044784b859c903ee62ff2a3a65  14556588     77.799691   \n",
       "10         0x10ed43c718714eb63d5aa57b78b54704e256024e        10     59.350524   \n",
       "96         0xe9e7cea3dedca5984780bafc599bd69add087d56        96     42.713281   \n",
       "25264249   0x2ab0e9e4ee70fff1fb9d67031e44f6410170d00e  25264249     26.332293   \n",
       "\n",
       "          Reputation_2  Reputation_3  Reputation_4    Degree  In Degree  \\\n",
       "237          86.823495     53.078238     52.591825  12343824   12343824   \n",
       "14556588     61.204497     40.768212     40.768244   4413541    4413541   \n",
       "10           55.161783     28.359346     27.726574  12237436   12237436   \n",
       "96           36.144456     21.559760     21.528719   6334594    6334594   \n",
       "25264249     23.337141     12.950152     12.817184   2127698    2127698   \n",
       "\n",
       "          scale10_R1  scale10_R2  scale10_R3  scale10_R4  internal_R2  \\\n",
       "237         9.018110    8.938637    8.724917    8.720918      11.9386   \n",
       "14556588    8.890978    8.786783    8.610322    8.610322      11.7868   \n",
       "10          8.773425    8.741638    8.452696    8.442896      11.7416   \n",
       "96          8.630563    8.558042    8.333644    8.333018      11.5580   \n",
       "25264249    8.420489    8.368048    8.112275    8.107793      11.3680   \n",
       "\n",
       "          internal_R1  internal_R3  internal_R4  \n",
       "237           12.0181      11.7249      11.7209  \n",
       "14556588      11.8910      11.6103      11.6103  \n",
       "10            11.7734      11.4527      11.4429  \n",
       "96            11.6306      11.3336      11.3330  \n",
       "25264249      11.4205      11.1123      11.1078  "
      ]
     },
     "execution_count": 55,
     "metadata": {},
     "output_type": "execute_result"
    }
   ],
   "source": [
    "node_list[:1000000].head(5)"
   ]
  },
  {
   "cell_type": "code",
   "execution_count": null,
   "id": "3277e387",
   "metadata": {},
   "outputs": [],
   "source": []
  },
  {
   "cell_type": "code",
   "execution_count": null,
   "id": "9e73d29d",
   "metadata": {},
   "outputs": [],
   "source": []
  }
 ],
 "metadata": {
  "kernelspec": {
   "display_name": "Python 3 (ipykernel)",
   "language": "python",
   "name": "python3"
  },
  "language_info": {
   "codemirror_mode": {
    "name": "ipython",
    "version": 3
   },
   "file_extension": ".py",
   "mimetype": "text/x-python",
   "name": "python",
   "nbconvert_exporter": "python",
   "pygments_lexer": "ipython3",
   "version": "3.9.13"
  }
 },
 "nbformat": 4,
 "nbformat_minor": 5
}
