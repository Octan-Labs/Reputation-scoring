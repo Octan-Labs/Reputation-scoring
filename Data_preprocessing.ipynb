{
 "cells": [
  {
   "cell_type": "code",
   "execution_count": 1,
   "id": "c3b7fe71",
   "metadata": {},
   "outputs": [],
   "source": [
    "import pandas as pd\n",
    "import networkx as nx\n",
    "import os\n",
    "import pickle\n",
    "import time"
   ]
  },
  {
   "cell_type": "code",
   "execution_count": 14,
   "id": "ddef00aa",
   "metadata": {},
   "outputs": [],
   "source": [
    "root_dir = \"/media/visionin/data_station/OctanData/BSC/running/2022_old_data/save_dir/\""
   ]
  },
  {
   "cell_type": "code",
   "execution_count": 3,
   "id": "0842a58e",
   "metadata": {},
   "outputs": [],
   "source": [
    "# data source\n",
    "path_0 = \"/media/visionin/data_station/OctanData/BSC/running/2022_old_data/clean_data\"\n"
   ]
  },
  {
   "cell_type": "code",
   "execution_count": 5,
   "id": "1ed437ce",
   "metadata": {},
   "outputs": [],
   "source": [
    "data_list = [path_0]"
   ]
  },
  {
   "cell_type": "code",
   "execution_count": 6,
   "id": "7e2f0bfa",
   "metadata": {},
   "outputs": [],
   "source": [
    "frames = []"
   ]
  },
  {
   "cell_type": "code",
   "execution_count": 7,
   "id": "58341fc9",
   "metadata": {},
   "outputs": [
    {
     "name": "stdout",
     "output_type": "stream",
     "text": [
      "10_bsc_v1.csv\n",
      "11_bsc_v1.csv\n",
      "12_bsc_v1.csv\n",
      "13_bsc_v1.csv\n",
      "14_bsc_v1.csv\n",
      "15_bsc_v1.csv\n",
      "16_bsc_v1.csv\n",
      "17_bsc_v1.csv\n",
      "18_bsc_v1.csv\n",
      "19_bsc_v1.csv\n",
      "1_bsc_v1.csv\n",
      "20_bsc_v1.csv\n",
      "21_bsc_v1.csv\n",
      "22_bsc_v1.csv\n",
      "23_bsc_v1.csv\n",
      "24_bsc_v1.csv\n",
      "25_bsc_v1.csv\n",
      "26_bsc_v1.csv\n",
      "27_bsc_v1.csv\n",
      "28_bsc_v1.csv\n",
      "2_bsc_v1.csv\n",
      "3_bsc_v1.csv\n",
      "4_bsc_v1.csv\n",
      "5_bsc_v1.csv\n",
      "6_bsc_v1.csv\n",
      "7_bsc_v1.csv\n",
      "8_bsc_v1.csv\n",
      "9_bsc_v1.csv\n",
      "final_bsc_v1.csv\n"
     ]
    }
   ],
   "source": [
    "# load data into frames\n",
    "for data_path in data_list:\n",
    "    for filename in os.listdir(data_path):\n",
    "        if filename.endswith(\".csv\"):\n",
    "\n",
    "            csv_file = data_path + \"/\" + filename\n",
    "\n",
    "            print(filename)\n",
    "\n",
    "            raw_data = pd.read_csv(csv_file)\n",
    "\n",
    "            # save to csv\n",
    "            frames.append(raw_data)\n",
    "\n",
    "            # refresh memory\n",
    "            del raw_data"
   ]
  },
  {
   "cell_type": "code",
   "execution_count": 8,
   "id": "b9c07c30",
   "metadata": {},
   "outputs": [],
   "source": [
    "# concat frames\n",
    "concat_frames = pd.concat(frames)"
   ]
  },
  {
   "cell_type": "code",
   "execution_count": 9,
   "id": "b4264fcc",
   "metadata": {},
   "outputs": [
    {
     "name": "stdout",
     "output_type": "stream",
     "text": [
      "2869328\n"
     ]
    }
   ],
   "source": [
    "# check data\n",
    "print(len(concat_frames))"
   ]
  },
  {
   "cell_type": "code",
   "execution_count": 11,
   "id": "12279bc1",
   "metadata": {},
   "outputs": [
    {
     "data": {
      "text/html": [
       "<div>\n",
       "<style scoped>\n",
       "    .dataframe tbody tr th:only-of-type {\n",
       "        vertical-align: middle;\n",
       "    }\n",
       "\n",
       "    .dataframe tbody tr th {\n",
       "        vertical-align: top;\n",
       "    }\n",
       "\n",
       "    .dataframe thead th {\n",
       "        text-align: right;\n",
       "    }\n",
       "</style>\n",
       "<table border=\"1\" class=\"dataframe\">\n",
       "  <thead>\n",
       "    <tr style=\"text-align: right;\">\n",
       "      <th></th>\n",
       "      <th>block_number_dec</th>\n",
       "      <th>masked_from</th>\n",
       "      <th>masked_to</th>\n",
       "      <th>gas_dec</th>\n",
       "      <th>value_dec</th>\n",
       "    </tr>\n",
       "  </thead>\n",
       "  <tbody>\n",
       "    <tr>\n",
       "      <th>0</th>\n",
       "      <td>516712</td>\n",
       "      <td>0</td>\n",
       "      <td>1</td>\n",
       "      <td>516712</td>\n",
       "      <td>0</td>\n",
       "    </tr>\n",
       "    <tr>\n",
       "      <th>1</th>\n",
       "      <td>516712</td>\n",
       "      <td>2</td>\n",
       "      <td>1</td>\n",
       "      <td>516712</td>\n",
       "      <td>0</td>\n",
       "    </tr>\n",
       "    <tr>\n",
       "      <th>2</th>\n",
       "      <td>516712</td>\n",
       "      <td>3</td>\n",
       "      <td>4</td>\n",
       "      <td>516712</td>\n",
       "      <td>500000000000000000</td>\n",
       "    </tr>\n",
       "    <tr>\n",
       "      <th>3</th>\n",
       "      <td>516712</td>\n",
       "      <td>5</td>\n",
       "      <td>6</td>\n",
       "      <td>516712</td>\n",
       "      <td>12417540000000000</td>\n",
       "    </tr>\n",
       "    <tr>\n",
       "      <th>4</th>\n",
       "      <td>516715</td>\n",
       "      <td>7</td>\n",
       "      <td>8</td>\n",
       "      <td>516715</td>\n",
       "      <td>0</td>\n",
       "    </tr>\n",
       "  </tbody>\n",
       "</table>\n",
       "</div>"
      ],
      "text/plain": [
       "   block_number_dec  masked_from  masked_to  gas_dec           value_dec\n",
       "0            516712            0          1   516712                   0\n",
       "1            516712            2          1   516712                   0\n",
       "2            516712            3          4   516712  500000000000000000\n",
       "3            516712            5          6   516712   12417540000000000\n",
       "4            516715            7          8   516715                   0"
      ]
     },
     "execution_count": 11,
     "metadata": {},
     "output_type": "execute_result"
    }
   ],
   "source": [
    "concat_frames.head(5)"
   ]
  },
  {
   "cell_type": "code",
   "execution_count": 10,
   "id": "9fc9be00",
   "metadata": {},
   "outputs": [],
   "source": [
    "# release memory\n",
    "del frames"
   ]
  },
  {
   "cell_type": "markdown",
   "id": "b12efb51",
   "metadata": {},
   "source": [
    "# total gas spent"
   ]
  },
  {
   "cell_type": "code",
   "execution_count": 12,
   "id": "135d8c3c",
   "metadata": {},
   "outputs": [],
   "source": [
    "df_from_gas = concat_frames[['masked_from', 'gas_dec']]"
   ]
  },
  {
   "cell_type": "code",
   "execution_count": 13,
   "id": "fa452a0e",
   "metadata": {},
   "outputs": [],
   "source": [
    "total_gas_spent_dict = df_from_gas.groupby('masked_from').sum()"
   ]
  },
  {
   "cell_type": "code",
   "execution_count": 15,
   "id": "a08f13f8",
   "metadata": {},
   "outputs": [],
   "source": [
    "# save dict to pickle\n",
    "# import pickle\n",
    "gas_spent_dict_save_path = root_dir + \"total_gas_spent.pickle\"\n",
    "with open(gas_spent_dict_save_path, 'wb') as handle:\n",
    "    pickle.dump(total_gas_spent_dict, handle, protocol=pickle.HIGHEST_PROTOCOL)"
   ]
  },
  {
   "cell_type": "code",
   "execution_count": 16,
   "id": "dfcba2b4",
   "metadata": {},
   "outputs": [],
   "source": [
    "del df_from_gas\n",
    "del total_gas_spent_dict"
   ]
  },
  {
   "cell_type": "markdown",
   "id": "b947f820",
   "metadata": {},
   "source": [
    "# Total transactions made"
   ]
  },
  {
   "cell_type": "code",
   "execution_count": 18,
   "id": "5a5fdb56",
   "metadata": {},
   "outputs": [],
   "source": [
    "transfer_count = concat_frames['masked_from'].value_counts(sort=False)"
   ]
  },
  {
   "cell_type": "code",
   "execution_count": 19,
   "id": "666093bb",
   "metadata": {},
   "outputs": [],
   "source": [
    "transfer_dict_save_path = root_dir + \"total_transfer.pickle\"\n",
    "with open(transfer_dict_save_path, 'wb') as handle:\n",
    "    pickle.dump(transfer_count, handle, protocol=pickle.HIGHEST_PROTOCOL)"
   ]
  },
  {
   "cell_type": "code",
   "execution_count": 20,
   "id": "4f028d8f",
   "metadata": {},
   "outputs": [],
   "source": [
    "receive_count = concat_frames['masked_to'].value_counts(sort=False)"
   ]
  },
  {
   "cell_type": "code",
   "execution_count": 21,
   "id": "5a98e7f4",
   "metadata": {},
   "outputs": [],
   "source": [
    "receive_dict_save_path = root_dir + \"total_receive.pickle\"\n",
    "with open(receive_dict_save_path, 'wb') as handle:\n",
    "    pickle.dump(receive_count, handle, protocol=pickle.HIGHEST_PROTOCOL)"
   ]
  },
  {
   "cell_type": "code",
   "execution_count": 22,
   "id": "b8990e38",
   "metadata": {},
   "outputs": [],
   "source": [
    "del transfer_count\n",
    "del receive_count"
   ]
  },
  {
   "cell_type": "markdown",
   "id": "21000836",
   "metadata": {},
   "source": [
    "# weights initialization"
   ]
  },
  {
   "cell_type": "code",
   "execution_count": 23,
   "id": "ffe87917",
   "metadata": {},
   "outputs": [
    {
     "name": "stdout",
     "output_type": "stream",
     "text": [
      "1012826\n"
     ]
    }
   ],
   "source": [
    "block_max = concat_frames['block_number_dec'].max()\n",
    "print(block_max)"
   ]
  },
  {
   "cell_type": "code",
   "execution_count": 24,
   "id": "5819e5ba",
   "metadata": {},
   "outputs": [
    {
     "name": "stdout",
     "output_type": "stream",
     "text": [
      "1\n"
     ]
    }
   ],
   "source": [
    "block_min = concat_frames['block_number_dec'].min()\n",
    "print(block_min)"
   ]
  },
  {
   "cell_type": "code",
   "execution_count": 25,
   "id": "802bea1a",
   "metadata": {},
   "outputs": [],
   "source": [
    "# weighting function ver2\n",
    "import numpy as np\n",
    "\n",
    "# define logistic function\n",
    "def logistic(x,\n",
    "             a=2,\n",
    "             b=1 / 64):\n",
    "    return a / (1.0 + np.exp(-b * x))\n",
    "\n",
    "# logistic local weights\n",
    "def logistic_local_timestamp_weights(block_max, block_min, blocks_per_day=28800, active_time=90):\n",
    "    timestamp_range = [i for i in range(int((block_max-block_min)/blocks_per_day)+1)]\n",
    "    origin = timestamp_range[-1] - active_time\n",
    "    weights_dict = dict()\n",
    "    for timestamp in timestamp_range:\n",
    "        if timestamp not in weights_dict.keys():\n",
    "            edge_weight = logistic(timestamp-origin)\n",
    "            weights_dict[timestamp] = edge_weight\n",
    "    return weights_dict"
   ]
  },
  {
   "cell_type": "code",
   "execution_count": 26,
   "id": "93924e76",
   "metadata": {},
   "outputs": [],
   "source": [
    "# check logistic weight distribution\n",
    "import matplotlib.pyplot as plt\n",
    "\n",
    "weights_dict = logistic_local_timestamp_weights(block_max, block_min, blocks_per_day=28800, active_time=90)\n",
    "edge_weights = []\n",
    "\n"
   ]
  },
  {
   "cell_type": "code",
   "execution_count": 27,
   "id": "a001051e",
   "metadata": {},
   "outputs": [
    {
     "data": {
      "image/png": "[encoded data removed]",
      "text/plain": [
       "<Figure size 640x480 with 1 Axes>"
      ]
     },
     "metadata": {},
     "output_type": "display_data"
    }
   ],
   "source": [
    "for i in range(int((block_max)/28800)):\n",
    "    if weights_dict[i] not in edge_weights:\n",
    "        edge_weights.append(weights_dict[i])\n",
    "\n",
    "# plot weights distribution\n",
    "plt.plot(edge_weights)\n",
    "plt.show()"
   ]
  },
  {
   "cell_type": "code",
   "execution_count": 28,
   "id": "0d07f4c7",
   "metadata": {},
   "outputs": [],
   "source": [
    "blocks_per_day = 28800"
   ]
  },
  {
   "cell_type": "markdown",
   "id": "e8733798",
   "metadata": {},
   "source": [
    "# loop, null and duplication filter"
   ]
  },
  {
   "cell_type": "markdown",
   "id": "c4f18da9",
   "metadata": {},
   "source": [
    "null id = 709"
   ]
  },
  {
   "cell_type": "code",
   "execution_count": 29,
   "id": "4a3c2640",
   "metadata": {},
   "outputs": [
    {
     "data": {
      "text/html": [
       "<div>\n",
       "<style scoped>\n",
       "    .dataframe tbody tr th:only-of-type {\n",
       "        vertical-align: middle;\n",
       "    }\n",
       "\n",
       "    .dataframe tbody tr th {\n",
       "        vertical-align: top;\n",
       "    }\n",
       "\n",
       "    .dataframe thead th {\n",
       "        text-align: right;\n",
       "    }\n",
       "</style>\n",
       "<table border=\"1\" class=\"dataframe\">\n",
       "  <thead>\n",
       "    <tr style=\"text-align: right;\">\n",
       "      <th></th>\n",
       "      <th>block_number_dec</th>\n",
       "      <th>masked_from</th>\n",
       "      <th>masked_to</th>\n",
       "      <th>gas_dec</th>\n",
       "      <th>value_dec</th>\n",
       "    </tr>\n",
       "  </thead>\n",
       "  <tbody>\n",
       "    <tr>\n",
       "      <th>0</th>\n",
       "      <td>516712</td>\n",
       "      <td>0</td>\n",
       "      <td>1</td>\n",
       "      <td>516712</td>\n",
       "      <td>0</td>\n",
       "    </tr>\n",
       "    <tr>\n",
       "      <th>1</th>\n",
       "      <td>516712</td>\n",
       "      <td>2</td>\n",
       "      <td>1</td>\n",
       "      <td>516712</td>\n",
       "      <td>0</td>\n",
       "    </tr>\n",
       "    <tr>\n",
       "      <th>2</th>\n",
       "      <td>516712</td>\n",
       "      <td>3</td>\n",
       "      <td>4</td>\n",
       "      <td>516712</td>\n",
       "      <td>500000000000000000</td>\n",
       "    </tr>\n",
       "    <tr>\n",
       "      <th>3</th>\n",
       "      <td>516712</td>\n",
       "      <td>5</td>\n",
       "      <td>6</td>\n",
       "      <td>516712</td>\n",
       "      <td>12417540000000000</td>\n",
       "    </tr>\n",
       "    <tr>\n",
       "      <th>4</th>\n",
       "      <td>516715</td>\n",
       "      <td>7</td>\n",
       "      <td>8</td>\n",
       "      <td>516715</td>\n",
       "      <td>0</td>\n",
       "    </tr>\n",
       "  </tbody>\n",
       "</table>\n",
       "</div>"
      ],
      "text/plain": [
       "   block_number_dec  masked_from  masked_to  gas_dec           value_dec\n",
       "0            516712            0          1   516712                   0\n",
       "1            516712            2          1   516712                   0\n",
       "2            516712            3          4   516712  500000000000000000\n",
       "3            516712            5          6   516712   12417540000000000\n",
       "4            516715            7          8   516715                   0"
      ]
     },
     "execution_count": 29,
     "metadata": {},
     "output_type": "execute_result"
    }
   ],
   "source": [
    "concat_frames.head(5)"
   ]
  },
  {
   "cell_type": "code",
   "execution_count": 30,
   "id": "d9278b7e",
   "metadata": {},
   "outputs": [],
   "source": [
    "concat_frames.drop(['gas_dec', 'value_dec'], inplace=True, axis=1)"
   ]
  },
  {
   "cell_type": "code",
   "execution_count": 31,
   "id": "9ec6da36",
   "metadata": {},
   "outputs": [],
   "source": [
    "# loop filters\n",
    "refined_data_df = concat_frames[concat_frames['masked_from'] != concat_frames['masked_to']]"
   ]
  },
  {
   "cell_type": "code",
   "execution_count": 32,
   "id": "f95d82db",
   "metadata": {},
   "outputs": [
    {
     "name": "stdout",
     "output_type": "stream",
     "text": [
      "2868064\n"
     ]
    }
   ],
   "source": [
    "print(len(refined_data_df))"
   ]
  },
  {
   "cell_type": "code",
   "execution_count": 33,
   "id": "2e54ec37",
   "metadata": {},
   "outputs": [],
   "source": [
    "del concat_frames"
   ]
  },
  {
   "cell_type": "code",
   "execution_count": 34,
   "id": "b741e67e",
   "metadata": {},
   "outputs": [],
   "source": [
    "# sort block number\n",
    "refined_data_df.sort_values('block_number_dec', inplace=True, ascending=True)"
   ]
  },
  {
   "cell_type": "code",
   "execution_count": 35,
   "id": "d0fdaa01",
   "metadata": {},
   "outputs": [
    {
     "data": {
      "text/html": [
       "<div>\n",
       "<style scoped>\n",
       "    .dataframe tbody tr th:only-of-type {\n",
       "        vertical-align: middle;\n",
       "    }\n",
       "\n",
       "    .dataframe tbody tr th {\n",
       "        vertical-align: top;\n",
       "    }\n",
       "\n",
       "    .dataframe thead th {\n",
       "        text-align: right;\n",
       "    }\n",
       "</style>\n",
       "<table border=\"1\" class=\"dataframe\">\n",
       "  <thead>\n",
       "    <tr style=\"text-align: right;\">\n",
       "      <th></th>\n",
       "      <th>block_number_dec</th>\n",
       "      <th>masked_from</th>\n",
       "      <th>masked_to</th>\n",
       "    </tr>\n",
       "  </thead>\n",
       "  <tbody>\n",
       "    <tr>\n",
       "      <th>0</th>\n",
       "      <td>1</td>\n",
       "      <td>55</td>\n",
       "      <td>6</td>\n",
       "    </tr>\n",
       "    <tr>\n",
       "      <th>6</th>\n",
       "      <td>1</td>\n",
       "      <td>55</td>\n",
       "      <td>393</td>\n",
       "    </tr>\n",
       "    <tr>\n",
       "      <th>5</th>\n",
       "      <td>1</td>\n",
       "      <td>55</td>\n",
       "      <td>21275</td>\n",
       "    </tr>\n",
       "    <tr>\n",
       "      <th>4</th>\n",
       "      <td>1</td>\n",
       "      <td>55</td>\n",
       "      <td>353</td>\n",
       "    </tr>\n",
       "    <tr>\n",
       "      <th>3</th>\n",
       "      <td>1</td>\n",
       "      <td>55</td>\n",
       "      <td>11321</td>\n",
       "    </tr>\n",
       "  </tbody>\n",
       "</table>\n",
       "</div>"
      ],
      "text/plain": [
       "   block_number_dec  masked_from  masked_to\n",
       "0                 1           55          6\n",
       "6                 1           55        393\n",
       "5                 1           55      21275\n",
       "4                 1           55        353\n",
       "3                 1           55      11321"
      ]
     },
     "execution_count": 35,
     "metadata": {},
     "output_type": "execute_result"
    }
   ],
   "source": [
    "refined_data_df.head(5)"
   ]
  },
  {
   "cell_type": "code",
   "execution_count": 36,
   "id": "44926f1d",
   "metadata": {},
   "outputs": [
    {
     "name": "stdout",
     "output_type": "stream",
     "text": [
      "0.15140461921691895\n"
     ]
    }
   ],
   "source": [
    "#drop duplicates\n",
    "start_time = time.time()\n",
    "refined_data_df.drop_duplicates(subset=['masked_from', 'masked_to'], keep='last', inplace=True)\n",
    "print(time.time() - start_time)"
   ]
  },
  {
   "cell_type": "code",
   "execution_count": 32,
   "id": "6d768b67",
   "metadata": {},
   "outputs": [
    {
     "name": "stdout",
     "output_type": "stream",
     "text": [
      "250765193\n"
     ]
    }
   ],
   "source": [
    "print(len(refined_data_df))"
   ]
  },
  {
   "cell_type": "code",
   "execution_count": 28,
   "id": "fe1f10d1",
   "metadata": {},
   "outputs": [],
   "source": [
    "#refined_data_df.drop(refined_data_df[refined_data_df['masked_from']==3002].index, inplace=True)\n",
    "# too long"
   ]
  },
  {
   "cell_type": "code",
   "execution_count": 38,
   "id": "b2c344ce",
   "metadata": {},
   "outputs": [],
   "source": [
    "refined_data_df_remove_null_ = refined_data_df[refined_data_df['masked_from'] != 709]"
   ]
  },
  {
   "cell_type": "code",
   "execution_count": 39,
   "id": "734d2a2d",
   "metadata": {},
   "outputs": [],
   "source": [
    "refined_data_df_remove_null = refined_data_df_remove_null_[refined_data_df_remove_null_['masked_to'] != 709]"
   ]
  },
  {
   "cell_type": "code",
   "execution_count": 40,
   "id": "3f0bcabb",
   "metadata": {},
   "outputs": [
    {
     "name": "stdout",
     "output_type": "stream",
     "text": [
      "317454\n"
     ]
    }
   ],
   "source": [
    "print(len(refined_data_df_remove_null))"
   ]
  },
  {
   "cell_type": "code",
   "execution_count": 41,
   "id": "e5a6dd83",
   "metadata": {},
   "outputs": [
    {
     "data": {
      "text/html": [
       "<div>\n",
       "<style scoped>\n",
       "    .dataframe tbody tr th:only-of-type {\n",
       "        vertical-align: middle;\n",
       "    }\n",
       "\n",
       "    .dataframe tbody tr th {\n",
       "        vertical-align: top;\n",
       "    }\n",
       "\n",
       "    .dataframe thead th {\n",
       "        text-align: right;\n",
       "    }\n",
       "</style>\n",
       "<table border=\"1\" class=\"dataframe\">\n",
       "  <thead>\n",
       "    <tr style=\"text-align: right;\">\n",
       "      <th></th>\n",
       "      <th>block_number_dec</th>\n",
       "      <th>masked_from</th>\n",
       "      <th>masked_to</th>\n",
       "    </tr>\n",
       "  </thead>\n",
       "  <tbody>\n",
       "    <tr>\n",
       "      <th>6</th>\n",
       "      <td>1</td>\n",
       "      <td>55</td>\n",
       "      <td>393</td>\n",
       "    </tr>\n",
       "    <tr>\n",
       "      <th>5</th>\n",
       "      <td>1</td>\n",
       "      <td>55</td>\n",
       "      <td>21275</td>\n",
       "    </tr>\n",
       "    <tr>\n",
       "      <th>4</th>\n",
       "      <td>1</td>\n",
       "      <td>55</td>\n",
       "      <td>353</td>\n",
       "    </tr>\n",
       "    <tr>\n",
       "      <th>3</th>\n",
       "      <td>1</td>\n",
       "      <td>55</td>\n",
       "      <td>11321</td>\n",
       "    </tr>\n",
       "    <tr>\n",
       "      <th>2</th>\n",
       "      <td>1</td>\n",
       "      <td>55</td>\n",
       "      <td>392</td>\n",
       "    </tr>\n",
       "  </tbody>\n",
       "</table>\n",
       "</div>"
      ],
      "text/plain": [
       "   block_number_dec  masked_from  masked_to\n",
       "6                 1           55        393\n",
       "5                 1           55      21275\n",
       "4                 1           55        353\n",
       "3                 1           55      11321\n",
       "2                 1           55        392"
      ]
     },
     "execution_count": 41,
     "metadata": {},
     "output_type": "execute_result"
    }
   ],
   "source": [
    "refined_data_df_remove_null.head(5)"
   ]
  },
  {
   "cell_type": "markdown",
   "id": "beb711bd",
   "metadata": {},
   "source": [
    "# Weights mapping"
   ]
  },
  {
   "cell_type": "code",
   "execution_count": 42,
   "id": "6f10b573",
   "metadata": {},
   "outputs": [
    {
     "name": "stderr",
     "output_type": "stream",
     "text": [
      "/tmp/ipykernel_14579/3546326969.py:2: SettingWithCopyWarning: \n",
      "A value is trying to be set on a copy of a slice from a DataFrame.\n",
      "Try using .loc[row_indexer,col_indexer] = value instead\n",
      "\n",
      "See the caveats in the documentation: https://pandas.pydata.org/pandas-docs/stable/user_guide/indexing.html#returning-a-view-versus-a-copy\n",
      "  refined_data_df_remove_null[\"age_weights\"] = refined_data_df_remove_null.apply(lambda row: weights_dict[int(row['block_number_dec']/28800)], axis=1)\n"
     ]
    }
   ],
   "source": [
    "# add weights to edges\n",
    "refined_data_df_remove_null[\"age_weights\"] = refined_data_df_remove_null.apply(lambda row: weights_dict[int(row['block_number_dec']/28800)], axis=1)"
   ]
  },
  {
   "cell_type": "code",
   "execution_count": 43,
   "id": "7b884f1d",
   "metadata": {},
   "outputs": [
    {
     "data": {
      "text/html": [
       "<div>\n",
       "<style scoped>\n",
       "    .dataframe tbody tr th:only-of-type {\n",
       "        vertical-align: middle;\n",
       "    }\n",
       "\n",
       "    .dataframe tbody tr th {\n",
       "        vertical-align: top;\n",
       "    }\n",
       "\n",
       "    .dataframe thead th {\n",
       "        text-align: right;\n",
       "    }\n",
       "</style>\n",
       "<table border=\"1\" class=\"dataframe\">\n",
       "  <thead>\n",
       "    <tr style=\"text-align: right;\">\n",
       "      <th></th>\n",
       "      <th>block_number_dec</th>\n",
       "      <th>masked_from</th>\n",
       "      <th>masked_to</th>\n",
       "      <th>age_weights</th>\n",
       "    </tr>\n",
       "  </thead>\n",
       "  <tbody>\n",
       "    <tr>\n",
       "      <th>6</th>\n",
       "      <td>1</td>\n",
       "      <td>55</td>\n",
       "      <td>393</td>\n",
       "      <td>1.40506</td>\n",
       "    </tr>\n",
       "    <tr>\n",
       "      <th>5</th>\n",
       "      <td>1</td>\n",
       "      <td>55</td>\n",
       "      <td>21275</td>\n",
       "      <td>1.40506</td>\n",
       "    </tr>\n",
       "    <tr>\n",
       "      <th>4</th>\n",
       "      <td>1</td>\n",
       "      <td>55</td>\n",
       "      <td>353</td>\n",
       "      <td>1.40506</td>\n",
       "    </tr>\n",
       "    <tr>\n",
       "      <th>3</th>\n",
       "      <td>1</td>\n",
       "      <td>55</td>\n",
       "      <td>11321</td>\n",
       "      <td>1.40506</td>\n",
       "    </tr>\n",
       "    <tr>\n",
       "      <th>2</th>\n",
       "      <td>1</td>\n",
       "      <td>55</td>\n",
       "      <td>392</td>\n",
       "      <td>1.40506</td>\n",
       "    </tr>\n",
       "  </tbody>\n",
       "</table>\n",
       "</div>"
      ],
      "text/plain": [
       "   block_number_dec  masked_from  masked_to  age_weights\n",
       "6                 1           55        393      1.40506\n",
       "5                 1           55      21275      1.40506\n",
       "4                 1           55        353      1.40506\n",
       "3                 1           55      11321      1.40506\n",
       "2                 1           55        392      1.40506"
      ]
     },
     "execution_count": 43,
     "metadata": {},
     "output_type": "execute_result"
    }
   ],
   "source": [
    "refined_data_df_remove_null.head(5)"
   ]
  },
  {
   "cell_type": "code",
   "execution_count": 44,
   "id": "526be45c",
   "metadata": {},
   "outputs": [],
   "source": [
    "graph_data_save_path = root_dir +\"graph_initialized_data.csv\"\n",
    "refined_data_df_remove_null.to_csv(graph_data_save_path, index=False)"
   ]
  },
  {
   "cell_type": "markdown",
   "id": "26bed26e",
   "metadata": {},
   "source": [
    "# personalized weights"
   ]
  },
  {
   "cell_type": "code",
   "execution_count": 45,
   "id": "179b55f5",
   "metadata": {},
   "outputs": [],
   "source": [
    "# data processing df_data_remove_loop\n",
    "# extract features\n",
    "to_weights_df = refined_data_df_remove_null[['masked_to', 'age_weights']]\n",
    "\n",
    "# group receiver\n",
    "node_age_weights = to_weights_df.groupby('masked_to').sum()\n",
    "\n",
    "# sum calculation\n",
    "# sum of weights\n",
    "s_weights = float(node_age_weights[\"age_weights\"].sum())\n",
    "\n",
    "# personalized dict\n",
    "personalized_weights = {k: v/s_weights for k, v in node_age_weights[\"age_weights\"].items()}"
   ]
  },
  {
   "cell_type": "code",
   "execution_count": 46,
   "id": "dd8e0573",
   "metadata": {},
   "outputs": [
    {
     "name": "stdout",
     "output_type": "stream",
     "text": [
      "53187\n"
     ]
    }
   ],
   "source": [
    "print(len(personalized_weights.keys()))"
   ]
  },
  {
   "cell_type": "code",
   "execution_count": 47,
   "id": "a040eb50",
   "metadata": {},
   "outputs": [],
   "source": [
    "persn_dict_save_path = root_dir + \"personalized_vetor.pickle\"\n",
    "with open(persn_dict_save_path, 'wb') as handle:\n",
    "    pickle.dump(personalized_weights, handle, protocol=pickle.HIGHEST_PROTOCOL)"
   ]
  }
 ],
 "metadata": {
  "kernelspec": {
   "display_name": "Python 3 (ipykernel)",
   "language": "python",
   "name": "python3"
  },
  "language_info": {
   "codemirror_mode": {
    "name": "ipython",
    "version": 3
   },
   "file_extension": ".py",
   "mimetype": "text/x-python",
   "name": "python",
   "nbconvert_exporter": "python",
   "pygments_lexer": "ipython3",
   "version": "3.9.13"
  }
 },
 "nbformat": 4,
 "nbformat_minor": 5
}
