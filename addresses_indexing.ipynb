{
 "cells": [
  {
   "cell_type": "code",
   "execution_count": 1,
   "id": "bf7d4d58",
   "metadata": {},
   "outputs": [],
   "source": [
    "import pandas as pd\n",
    "import networkx as nx\n",
    "import os"
   ]
  },
  {
   "cell_type": "code",
   "execution_count": 2,
   "id": "c779a94f",
   "metadata": {},
   "outputs": [],
   "source": [
    "import time\n",
    "import pickle"
   ]
  },
  {
   "cell_type": "code",
   "execution_count": 3,
   "id": "8bc1cb57",
   "metadata": {},
   "outputs": [],
   "source": [
    "def converthex2dec(value):\n",
    "    return int(value, base=16)"
   ]
  },
  {
   "cell_type": "code",
   "execution_count": 4,
   "id": "39d34aa9",
   "metadata": {},
   "outputs": [],
   "source": [
    "address_dict = dict()"
   ]
  },
  {
   "cell_type": "code",
   "execution_count": 5,
   "id": "9d3399c6",
   "metadata": {},
   "outputs": [],
   "source": [
    "# address\n",
    "data_path = \"/media/visionin/data_station/OctanData/BSC/running/2022_old_data/raw_data\""
   ]
  },
  {
   "cell_type": "code",
   "execution_count": 6,
   "id": "d0a0c167",
   "metadata": {},
   "outputs": [],
   "source": [
    "key_count = 0"
   ]
  },
  {
   "cell_type": "code",
   "execution_count": 7,
   "id": "a66bc7bc",
   "metadata": {},
   "outputs": [
    {
     "name": "stdout",
     "output_type": "stream",
     "text": [
      "10_bsc_v1.csv\n",
      "11_bsc_v1.csv\n",
      "12_bsc_v1.csv\n",
      "13_bsc_v1.csv\n",
      "14_bsc_v1.csv\n",
      "15_bsc_v1.csv\n",
      "16_bsc_v1.csv\n",
      "17_bsc_v1.csv\n",
      "18_bsc_v1.csv\n",
      "19_bsc_v1.csv\n",
      "1_bsc_v1.csv\n",
      "20_bsc_v1.csv\n",
      "21_bsc_v1.csv\n",
      "22_bsc_v1.csv\n",
      "23_bsc_v1.csv\n",
      "24_bsc_v1.csv\n",
      "25_bsc_v1.csv\n",
      "26_bsc_v1.csv\n",
      "27_bsc_v1.csv\n",
      "28_bsc_v1.csv\n",
      "2_bsc_v1.csv\n",
      "3_bsc_v1.csv\n",
      "4_bsc_v1.csv\n",
      "5_bsc_v1.csv\n",
      "6_bsc_v1.csv\n",
      "7_bsc_v1.csv\n",
      "8_bsc_v1.csv\n",
      "9_bsc_v1.csv\n",
      "final_bsc_v1.csv\n"
     ]
    }
   ],
   "source": [
    "for filename in os.listdir(data_path):\n",
    "    if filename.endswith(\".csv\"):\n",
    "         \n",
    "        csv_file = data_path + \"/\" + filename\n",
    "        print(filename)\n",
    "        \n",
    "        raw_data = pd.read_csv(csv_file)\n",
    "        for index, row in raw_data.iterrows():\n",
    "            if row[\" from\"] not in address_dict.keys():\n",
    "                address_dict[row[\" from\"]] = key_count\n",
    "                key_count = key_count + 1\n",
    "            if row[\" to\"] not in address_dict.keys():\n",
    "                address_dict[row[\" to\"]] = key_count\n",
    "                key_count = key_count + 1\n",
    "        #buffer_frame = raw_data[[\" blockNumber\", \" from\", \" to\", \" value\", \" gas\"]]\n",
    "        #frames.append(buffer_frame)\n",
    "        del raw_data\n",
    "        #del buffer_frame"
   ]
  },
  {
   "cell_type": "code",
   "execution_count": 8,
   "id": "a514e255",
   "metadata": {},
   "outputs": [],
   "source": [
    "# check data\n",
    "clean_data_path = \"/media/visionin/data_station/OctanData/BSC/running/2022_old_data/clean_data\""
   ]
  },
  {
   "cell_type": "code",
   "execution_count": 9,
   "id": "37799638",
   "metadata": {},
   "outputs": [
    {
     "name": "stdout",
     "output_type": "stream",
     "text": [
      "10_bsc_v1.csv\n"
     ]
    },
    {
     "name": "stderr",
     "output_type": "stream",
     "text": [
      "/tmp/ipykernel_3459/482305874.py:14: SettingWithCopyWarning: \n",
      "A value is trying to be set on a copy of a slice from a DataFrame.\n",
      "Try using .loc[row_indexer,col_indexer] = value instead\n",
      "\n",
      "See the caveats in the documentation: https://pandas.pydata.org/pandas-docs/stable/user_guide/indexing.html#returning-a-view-versus-a-copy\n",
      "  buffer_frame[\"block_number_dec\"] = buffer_frame[\" blockNumber\"].map(converthex2dec)\n",
      "/tmp/ipykernel_3459/482305874.py:17: SettingWithCopyWarning: \n",
      "A value is trying to be set on a copy of a slice from a DataFrame.\n",
      "Try using .loc[row_indexer,col_indexer] = value instead\n",
      "\n",
      "See the caveats in the documentation: https://pandas.pydata.org/pandas-docs/stable/user_guide/indexing.html#returning-a-view-versus-a-copy\n",
      "  buffer_frame[\"gas_dec\"] = buffer_frame[\" blockNumber\"].map(converthex2dec)\n",
      "/tmp/ipykernel_3459/482305874.py:20: SettingWithCopyWarning: \n",
      "A value is trying to be set on a copy of a slice from a DataFrame.\n",
      "Try using .loc[row_indexer,col_indexer] = value instead\n",
      "\n",
      "See the caveats in the documentation: https://pandas.pydata.org/pandas-docs/stable/user_guide/indexing.html#returning-a-view-versus-a-copy\n",
      "  buffer_frame[\"value_dec\"] = buffer_frame[\" value\"].map(converthex2dec)\n",
      "/tmp/ipykernel_3459/482305874.py:23: SettingWithCopyWarning: \n",
      "A value is trying to be set on a copy of a slice from a DataFrame.\n",
      "Try using .loc[row_indexer,col_indexer] = value instead\n",
      "\n",
      "See the caveats in the documentation: https://pandas.pydata.org/pandas-docs/stable/user_guide/indexing.html#returning-a-view-versus-a-copy\n",
      "  buffer_frame['masked_from'] = buffer_frame.apply(lambda row: address_dict[row[\" from\"]], axis=1)\n",
      "/tmp/ipykernel_3459/482305874.py:26: SettingWithCopyWarning: \n",
      "A value is trying to be set on a copy of a slice from a DataFrame.\n",
      "Try using .loc[row_indexer,col_indexer] = value instead\n",
      "\n",
      "See the caveats in the documentation: https://pandas.pydata.org/pandas-docs/stable/user_guide/indexing.html#returning-a-view-versus-a-copy\n",
      "  buffer_frame['masked_to'] = buffer_frame.apply(lambda row: address_dict[row[\" to\"]], axis=1)\n"
     ]
    },
    {
     "name": "stdout",
     "output_type": "stream",
     "text": [
      "11_bsc_v1.csv\n"
     ]
    },
    {
     "name": "stderr",
     "output_type": "stream",
     "text": [
      "/tmp/ipykernel_3459/482305874.py:14: SettingWithCopyWarning: \n",
      "A value is trying to be set on a copy of a slice from a DataFrame.\n",
      "Try using .loc[row_indexer,col_indexer] = value instead\n",
      "\n",
      "See the caveats in the documentation: https://pandas.pydata.org/pandas-docs/stable/user_guide/indexing.html#returning-a-view-versus-a-copy\n",
      "  buffer_frame[\"block_number_dec\"] = buffer_frame[\" blockNumber\"].map(converthex2dec)\n",
      "/tmp/ipykernel_3459/482305874.py:17: SettingWithCopyWarning: \n",
      "A value is trying to be set on a copy of a slice from a DataFrame.\n",
      "Try using .loc[row_indexer,col_indexer] = value instead\n",
      "\n",
      "See the caveats in the documentation: https://pandas.pydata.org/pandas-docs/stable/user_guide/indexing.html#returning-a-view-versus-a-copy\n",
      "  buffer_frame[\"gas_dec\"] = buffer_frame[\" blockNumber\"].map(converthex2dec)\n",
      "/tmp/ipykernel_3459/482305874.py:20: SettingWithCopyWarning: \n",
      "A value is trying to be set on a copy of a slice from a DataFrame.\n",
      "Try using .loc[row_indexer,col_indexer] = value instead\n",
      "\n",
      "See the caveats in the documentation: https://pandas.pydata.org/pandas-docs/stable/user_guide/indexing.html#returning-a-view-versus-a-copy\n",
      "  buffer_frame[\"value_dec\"] = buffer_frame[\" value\"].map(converthex2dec)\n",
      "/tmp/ipykernel_3459/482305874.py:23: SettingWithCopyWarning: \n",
      "A value is trying to be set on a copy of a slice from a DataFrame.\n",
      "Try using .loc[row_indexer,col_indexer] = value instead\n",
      "\n",
      "See the caveats in the documentation: https://pandas.pydata.org/pandas-docs/stable/user_guide/indexing.html#returning-a-view-versus-a-copy\n",
      "  buffer_frame['masked_from'] = buffer_frame.apply(lambda row: address_dict[row[\" from\"]], axis=1)\n",
      "/tmp/ipykernel_3459/482305874.py:26: SettingWithCopyWarning: \n",
      "A value is trying to be set on a copy of a slice from a DataFrame.\n",
      "Try using .loc[row_indexer,col_indexer] = value instead\n",
      "\n",
      "See the caveats in the documentation: https://pandas.pydata.org/pandas-docs/stable/user_guide/indexing.html#returning-a-view-versus-a-copy\n",
      "  buffer_frame['masked_to'] = buffer_frame.apply(lambda row: address_dict[row[\" to\"]], axis=1)\n"
     ]
    },
    {
     "name": "stdout",
     "output_type": "stream",
     "text": [
      "12_bsc_v1.csv\n"
     ]
    },
    {
     "name": "stderr",
     "output_type": "stream",
     "text": [
      "/tmp/ipykernel_3459/482305874.py:14: SettingWithCopyWarning: \n",
      "A value is trying to be set on a copy of a slice from a DataFrame.\n",
      "Try using .loc[row_indexer,col_indexer] = value instead\n",
      "\n",
      "See the caveats in the documentation: https://pandas.pydata.org/pandas-docs/stable/user_guide/indexing.html#returning-a-view-versus-a-copy\n",
      "  buffer_frame[\"block_number_dec\"] = buffer_frame[\" blockNumber\"].map(converthex2dec)\n",
      "/tmp/ipykernel_3459/482305874.py:17: SettingWithCopyWarning: \n",
      "A value is trying to be set on a copy of a slice from a DataFrame.\n",
      "Try using .loc[row_indexer,col_indexer] = value instead\n",
      "\n",
      "See the caveats in the documentation: https://pandas.pydata.org/pandas-docs/stable/user_guide/indexing.html#returning-a-view-versus-a-copy\n",
      "  buffer_frame[\"gas_dec\"] = buffer_frame[\" blockNumber\"].map(converthex2dec)\n",
      "/tmp/ipykernel_3459/482305874.py:20: SettingWithCopyWarning: \n",
      "A value is trying to be set on a copy of a slice from a DataFrame.\n",
      "Try using .loc[row_indexer,col_indexer] = value instead\n",
      "\n",
      "See the caveats in the documentation: https://pandas.pydata.org/pandas-docs/stable/user_guide/indexing.html#returning-a-view-versus-a-copy\n",
      "  buffer_frame[\"value_dec\"] = buffer_frame[\" value\"].map(converthex2dec)\n",
      "/tmp/ipykernel_3459/482305874.py:23: SettingWithCopyWarning: \n",
      "A value is trying to be set on a copy of a slice from a DataFrame.\n",
      "Try using .loc[row_indexer,col_indexer] = value instead\n",
      "\n",
      "See the caveats in the documentation: https://pandas.pydata.org/pandas-docs/stable/user_guide/indexing.html#returning-a-view-versus-a-copy\n",
      "  buffer_frame['masked_from'] = buffer_frame.apply(lambda row: address_dict[row[\" from\"]], axis=1)\n",
      "/tmp/ipykernel_3459/482305874.py:26: SettingWithCopyWarning: \n",
      "A value is trying to be set on a copy of a slice from a DataFrame.\n",
      "Try using .loc[row_indexer,col_indexer] = value instead\n",
      "\n",
      "See the caveats in the documentation: https://pandas.pydata.org/pandas-docs/stable/user_guide/indexing.html#returning-a-view-versus-a-copy\n",
      "  buffer_frame['masked_to'] = buffer_frame.apply(lambda row: address_dict[row[\" to\"]], axis=1)\n"
     ]
    },
    {
     "name": "stdout",
     "output_type": "stream",
     "text": [
      "13_bsc_v1.csv\n"
     ]
    },
    {
     "name": "stderr",
     "output_type": "stream",
     "text": [
      "/tmp/ipykernel_3459/482305874.py:14: SettingWithCopyWarning: \n",
      "A value is trying to be set on a copy of a slice from a DataFrame.\n",
      "Try using .loc[row_indexer,col_indexer] = value instead\n",
      "\n",
      "See the caveats in the documentation: https://pandas.pydata.org/pandas-docs/stable/user_guide/indexing.html#returning-a-view-versus-a-copy\n",
      "  buffer_frame[\"block_number_dec\"] = buffer_frame[\" blockNumber\"].map(converthex2dec)\n",
      "/tmp/ipykernel_3459/482305874.py:17: SettingWithCopyWarning: \n",
      "A value is trying to be set on a copy of a slice from a DataFrame.\n",
      "Try using .loc[row_indexer,col_indexer] = value instead\n",
      "\n",
      "See the caveats in the documentation: https://pandas.pydata.org/pandas-docs/stable/user_guide/indexing.html#returning-a-view-versus-a-copy\n",
      "  buffer_frame[\"gas_dec\"] = buffer_frame[\" blockNumber\"].map(converthex2dec)\n",
      "/tmp/ipykernel_3459/482305874.py:20: SettingWithCopyWarning: \n",
      "A value is trying to be set on a copy of a slice from a DataFrame.\n",
      "Try using .loc[row_indexer,col_indexer] = value instead\n",
      "\n",
      "See the caveats in the documentation: https://pandas.pydata.org/pandas-docs/stable/user_guide/indexing.html#returning-a-view-versus-a-copy\n",
      "  buffer_frame[\"value_dec\"] = buffer_frame[\" value\"].map(converthex2dec)\n",
      "/tmp/ipykernel_3459/482305874.py:23: SettingWithCopyWarning: \n",
      "A value is trying to be set on a copy of a slice from a DataFrame.\n",
      "Try using .loc[row_indexer,col_indexer] = value instead\n",
      "\n",
      "See the caveats in the documentation: https://pandas.pydata.org/pandas-docs/stable/user_guide/indexing.html#returning-a-view-versus-a-copy\n",
      "  buffer_frame['masked_from'] = buffer_frame.apply(lambda row: address_dict[row[\" from\"]], axis=1)\n",
      "/tmp/ipykernel_3459/482305874.py:26: SettingWithCopyWarning: \n",
      "A value is trying to be set on a copy of a slice from a DataFrame.\n",
      "Try using .loc[row_indexer,col_indexer] = value instead\n",
      "\n",
      "See the caveats in the documentation: https://pandas.pydata.org/pandas-docs/stable/user_guide/indexing.html#returning-a-view-versus-a-copy\n",
      "  buffer_frame['masked_to'] = buffer_frame.apply(lambda row: address_dict[row[\" to\"]], axis=1)\n"
     ]
    },
    {
     "name": "stdout",
     "output_type": "stream",
     "text": [
      "14_bsc_v1.csv\n"
     ]
    },
    {
     "name": "stderr",
     "output_type": "stream",
     "text": [
      "/tmp/ipykernel_3459/482305874.py:14: SettingWithCopyWarning: \n",
      "A value is trying to be set on a copy of a slice from a DataFrame.\n",
      "Try using .loc[row_indexer,col_indexer] = value instead\n",
      "\n",
      "See the caveats in the documentation: https://pandas.pydata.org/pandas-docs/stable/user_guide/indexing.html#returning-a-view-versus-a-copy\n",
      "  buffer_frame[\"block_number_dec\"] = buffer_frame[\" blockNumber\"].map(converthex2dec)\n",
      "/tmp/ipykernel_3459/482305874.py:17: SettingWithCopyWarning: \n",
      "A value is trying to be set on a copy of a slice from a DataFrame.\n",
      "Try using .loc[row_indexer,col_indexer] = value instead\n",
      "\n",
      "See the caveats in the documentation: https://pandas.pydata.org/pandas-docs/stable/user_guide/indexing.html#returning-a-view-versus-a-copy\n",
      "  buffer_frame[\"gas_dec\"] = buffer_frame[\" blockNumber\"].map(converthex2dec)\n",
      "/tmp/ipykernel_3459/482305874.py:20: SettingWithCopyWarning: \n",
      "A value is trying to be set on a copy of a slice from a DataFrame.\n",
      "Try using .loc[row_indexer,col_indexer] = value instead\n",
      "\n",
      "See the caveats in the documentation: https://pandas.pydata.org/pandas-docs/stable/user_guide/indexing.html#returning-a-view-versus-a-copy\n",
      "  buffer_frame[\"value_dec\"] = buffer_frame[\" value\"].map(converthex2dec)\n",
      "/tmp/ipykernel_3459/482305874.py:23: SettingWithCopyWarning: \n",
      "A value is trying to be set on a copy of a slice from a DataFrame.\n",
      "Try using .loc[row_indexer,col_indexer] = value instead\n",
      "\n",
      "See the caveats in the documentation: https://pandas.pydata.org/pandas-docs/stable/user_guide/indexing.html#returning-a-view-versus-a-copy\n",
      "  buffer_frame['masked_from'] = buffer_frame.apply(lambda row: address_dict[row[\" from\"]], axis=1)\n",
      "/tmp/ipykernel_3459/482305874.py:26: SettingWithCopyWarning: \n",
      "A value is trying to be set on a copy of a slice from a DataFrame.\n",
      "Try using .loc[row_indexer,col_indexer] = value instead\n",
      "\n",
      "See the caveats in the documentation: https://pandas.pydata.org/pandas-docs/stable/user_guide/indexing.html#returning-a-view-versus-a-copy\n",
      "  buffer_frame['masked_to'] = buffer_frame.apply(lambda row: address_dict[row[\" to\"]], axis=1)\n"
     ]
    },
    {
     "name": "stdout",
     "output_type": "stream",
     "text": [
      "15_bsc_v1.csv\n"
     ]
    },
    {
     "name": "stderr",
     "output_type": "stream",
     "text": [
      "/tmp/ipykernel_3459/482305874.py:14: SettingWithCopyWarning: \n",
      "A value is trying to be set on a copy of a slice from a DataFrame.\n",
      "Try using .loc[row_indexer,col_indexer] = value instead\n",
      "\n",
      "See the caveats in the documentation: https://pandas.pydata.org/pandas-docs/stable/user_guide/indexing.html#returning-a-view-versus-a-copy\n",
      "  buffer_frame[\"block_number_dec\"] = buffer_frame[\" blockNumber\"].map(converthex2dec)\n",
      "/tmp/ipykernel_3459/482305874.py:17: SettingWithCopyWarning: \n",
      "A value is trying to be set on a copy of a slice from a DataFrame.\n",
      "Try using .loc[row_indexer,col_indexer] = value instead\n",
      "\n",
      "See the caveats in the documentation: https://pandas.pydata.org/pandas-docs/stable/user_guide/indexing.html#returning-a-view-versus-a-copy\n",
      "  buffer_frame[\"gas_dec\"] = buffer_frame[\" blockNumber\"].map(converthex2dec)\n",
      "/tmp/ipykernel_3459/482305874.py:20: SettingWithCopyWarning: \n",
      "A value is trying to be set on a copy of a slice from a DataFrame.\n",
      "Try using .loc[row_indexer,col_indexer] = value instead\n",
      "\n",
      "See the caveats in the documentation: https://pandas.pydata.org/pandas-docs/stable/user_guide/indexing.html#returning-a-view-versus-a-copy\n",
      "  buffer_frame[\"value_dec\"] = buffer_frame[\" value\"].map(converthex2dec)\n",
      "/tmp/ipykernel_3459/482305874.py:23: SettingWithCopyWarning: \n",
      "A value is trying to be set on a copy of a slice from a DataFrame.\n",
      "Try using .loc[row_indexer,col_indexer] = value instead\n",
      "\n",
      "See the caveats in the documentation: https://pandas.pydata.org/pandas-docs/stable/user_guide/indexing.html#returning-a-view-versus-a-copy\n",
      "  buffer_frame['masked_from'] = buffer_frame.apply(lambda row: address_dict[row[\" from\"]], axis=1)\n",
      "/tmp/ipykernel_3459/482305874.py:26: SettingWithCopyWarning: \n",
      "A value is trying to be set on a copy of a slice from a DataFrame.\n",
      "Try using .loc[row_indexer,col_indexer] = value instead\n",
      "\n",
      "See the caveats in the documentation: https://pandas.pydata.org/pandas-docs/stable/user_guide/indexing.html#returning-a-view-versus-a-copy\n",
      "  buffer_frame['masked_to'] = buffer_frame.apply(lambda row: address_dict[row[\" to\"]], axis=1)\n"
     ]
    },
    {
     "name": "stdout",
     "output_type": "stream",
     "text": [
      "16_bsc_v1.csv\n"
     ]
    },
    {
     "name": "stderr",
     "output_type": "stream",
     "text": [
      "/tmp/ipykernel_3459/482305874.py:14: SettingWithCopyWarning: \n",
      "A value is trying to be set on a copy of a slice from a DataFrame.\n",
      "Try using .loc[row_indexer,col_indexer] = value instead\n",
      "\n",
      "See the caveats in the documentation: https://pandas.pydata.org/pandas-docs/stable/user_guide/indexing.html#returning-a-view-versus-a-copy\n",
      "  buffer_frame[\"block_number_dec\"] = buffer_frame[\" blockNumber\"].map(converthex2dec)\n",
      "/tmp/ipykernel_3459/482305874.py:17: SettingWithCopyWarning: \n",
      "A value is trying to be set on a copy of a slice from a DataFrame.\n",
      "Try using .loc[row_indexer,col_indexer] = value instead\n",
      "\n",
      "See the caveats in the documentation: https://pandas.pydata.org/pandas-docs/stable/user_guide/indexing.html#returning-a-view-versus-a-copy\n",
      "  buffer_frame[\"gas_dec\"] = buffer_frame[\" blockNumber\"].map(converthex2dec)\n",
      "/tmp/ipykernel_3459/482305874.py:20: SettingWithCopyWarning: \n",
      "A value is trying to be set on a copy of a slice from a DataFrame.\n",
      "Try using .loc[row_indexer,col_indexer] = value instead\n",
      "\n",
      "See the caveats in the documentation: https://pandas.pydata.org/pandas-docs/stable/user_guide/indexing.html#returning-a-view-versus-a-copy\n",
      "  buffer_frame[\"value_dec\"] = buffer_frame[\" value\"].map(converthex2dec)\n",
      "/tmp/ipykernel_3459/482305874.py:23: SettingWithCopyWarning: \n",
      "A value is trying to be set on a copy of a slice from a DataFrame.\n",
      "Try using .loc[row_indexer,col_indexer] = value instead\n",
      "\n",
      "See the caveats in the documentation: https://pandas.pydata.org/pandas-docs/stable/user_guide/indexing.html#returning-a-view-versus-a-copy\n",
      "  buffer_frame['masked_from'] = buffer_frame.apply(lambda row: address_dict[row[\" from\"]], axis=1)\n",
      "/tmp/ipykernel_3459/482305874.py:26: SettingWithCopyWarning: \n",
      "A value is trying to be set on a copy of a slice from a DataFrame.\n",
      "Try using .loc[row_indexer,col_indexer] = value instead\n",
      "\n",
      "See the caveats in the documentation: https://pandas.pydata.org/pandas-docs/stable/user_guide/indexing.html#returning-a-view-versus-a-copy\n",
      "  buffer_frame['masked_to'] = buffer_frame.apply(lambda row: address_dict[row[\" to\"]], axis=1)\n"
     ]
    },
    {
     "name": "stdout",
     "output_type": "stream",
     "text": [
      "17_bsc_v1.csv\n"
     ]
    },
    {
     "name": "stderr",
     "output_type": "stream",
     "text": [
      "/tmp/ipykernel_3459/482305874.py:14: SettingWithCopyWarning: \n",
      "A value is trying to be set on a copy of a slice from a DataFrame.\n",
      "Try using .loc[row_indexer,col_indexer] = value instead\n",
      "\n",
      "See the caveats in the documentation: https://pandas.pydata.org/pandas-docs/stable/user_guide/indexing.html#returning-a-view-versus-a-copy\n",
      "  buffer_frame[\"block_number_dec\"] = buffer_frame[\" blockNumber\"].map(converthex2dec)\n",
      "/tmp/ipykernel_3459/482305874.py:17: SettingWithCopyWarning: \n",
      "A value is trying to be set on a copy of a slice from a DataFrame.\n",
      "Try using .loc[row_indexer,col_indexer] = value instead\n",
      "\n",
      "See the caveats in the documentation: https://pandas.pydata.org/pandas-docs/stable/user_guide/indexing.html#returning-a-view-versus-a-copy\n",
      "  buffer_frame[\"gas_dec\"] = buffer_frame[\" blockNumber\"].map(converthex2dec)\n",
      "/tmp/ipykernel_3459/482305874.py:20: SettingWithCopyWarning: \n",
      "A value is trying to be set on a copy of a slice from a DataFrame.\n",
      "Try using .loc[row_indexer,col_indexer] = value instead\n",
      "\n",
      "See the caveats in the documentation: https://pandas.pydata.org/pandas-docs/stable/user_guide/indexing.html#returning-a-view-versus-a-copy\n",
      "  buffer_frame[\"value_dec\"] = buffer_frame[\" value\"].map(converthex2dec)\n",
      "/tmp/ipykernel_3459/482305874.py:23: SettingWithCopyWarning: \n",
      "A value is trying to be set on a copy of a slice from a DataFrame.\n",
      "Try using .loc[row_indexer,col_indexer] = value instead\n",
      "\n",
      "See the caveats in the documentation: https://pandas.pydata.org/pandas-docs/stable/user_guide/indexing.html#returning-a-view-versus-a-copy\n",
      "  buffer_frame['masked_from'] = buffer_frame.apply(lambda row: address_dict[row[\" from\"]], axis=1)\n",
      "/tmp/ipykernel_3459/482305874.py:26: SettingWithCopyWarning: \n",
      "A value is trying to be set on a copy of a slice from a DataFrame.\n",
      "Try using .loc[row_indexer,col_indexer] = value instead\n",
      "\n",
      "See the caveats in the documentation: https://pandas.pydata.org/pandas-docs/stable/user_guide/indexing.html#returning-a-view-versus-a-copy\n",
      "  buffer_frame['masked_to'] = buffer_frame.apply(lambda row: address_dict[row[\" to\"]], axis=1)\n"
     ]
    },
    {
     "name": "stdout",
     "output_type": "stream",
     "text": [
      "18_bsc_v1.csv\n"
     ]
    },
    {
     "name": "stderr",
     "output_type": "stream",
     "text": [
      "/tmp/ipykernel_3459/482305874.py:14: SettingWithCopyWarning: \n",
      "A value is trying to be set on a copy of a slice from a DataFrame.\n",
      "Try using .loc[row_indexer,col_indexer] = value instead\n",
      "\n",
      "See the caveats in the documentation: https://pandas.pydata.org/pandas-docs/stable/user_guide/indexing.html#returning-a-view-versus-a-copy\n",
      "  buffer_frame[\"block_number_dec\"] = buffer_frame[\" blockNumber\"].map(converthex2dec)\n",
      "/tmp/ipykernel_3459/482305874.py:17: SettingWithCopyWarning: \n",
      "A value is trying to be set on a copy of a slice from a DataFrame.\n",
      "Try using .loc[row_indexer,col_indexer] = value instead\n",
      "\n",
      "See the caveats in the documentation: https://pandas.pydata.org/pandas-docs/stable/user_guide/indexing.html#returning-a-view-versus-a-copy\n",
      "  buffer_frame[\"gas_dec\"] = buffer_frame[\" blockNumber\"].map(converthex2dec)\n",
      "/tmp/ipykernel_3459/482305874.py:20: SettingWithCopyWarning: \n",
      "A value is trying to be set on a copy of a slice from a DataFrame.\n",
      "Try using .loc[row_indexer,col_indexer] = value instead\n",
      "\n",
      "See the caveats in the documentation: https://pandas.pydata.org/pandas-docs/stable/user_guide/indexing.html#returning-a-view-versus-a-copy\n",
      "  buffer_frame[\"value_dec\"] = buffer_frame[\" value\"].map(converthex2dec)\n",
      "/tmp/ipykernel_3459/482305874.py:23: SettingWithCopyWarning: \n",
      "A value is trying to be set on a copy of a slice from a DataFrame.\n",
      "Try using .loc[row_indexer,col_indexer] = value instead\n",
      "\n",
      "See the caveats in the documentation: https://pandas.pydata.org/pandas-docs/stable/user_guide/indexing.html#returning-a-view-versus-a-copy\n",
      "  buffer_frame['masked_from'] = buffer_frame.apply(lambda row: address_dict[row[\" from\"]], axis=1)\n",
      "/tmp/ipykernel_3459/482305874.py:26: SettingWithCopyWarning: \n",
      "A value is trying to be set on a copy of a slice from a DataFrame.\n",
      "Try using .loc[row_indexer,col_indexer] = value instead\n",
      "\n",
      "See the caveats in the documentation: https://pandas.pydata.org/pandas-docs/stable/user_guide/indexing.html#returning-a-view-versus-a-copy\n",
      "  buffer_frame['masked_to'] = buffer_frame.apply(lambda row: address_dict[row[\" to\"]], axis=1)\n"
     ]
    },
    {
     "name": "stdout",
     "output_type": "stream",
     "text": [
      "19_bsc_v1.csv\n"
     ]
    },
    {
     "name": "stderr",
     "output_type": "stream",
     "text": [
      "/tmp/ipykernel_3459/482305874.py:14: SettingWithCopyWarning: \n",
      "A value is trying to be set on a copy of a slice from a DataFrame.\n",
      "Try using .loc[row_indexer,col_indexer] = value instead\n",
      "\n",
      "See the caveats in the documentation: https://pandas.pydata.org/pandas-docs/stable/user_guide/indexing.html#returning-a-view-versus-a-copy\n",
      "  buffer_frame[\"block_number_dec\"] = buffer_frame[\" blockNumber\"].map(converthex2dec)\n",
      "/tmp/ipykernel_3459/482305874.py:17: SettingWithCopyWarning: \n",
      "A value is trying to be set on a copy of a slice from a DataFrame.\n",
      "Try using .loc[row_indexer,col_indexer] = value instead\n",
      "\n",
      "See the caveats in the documentation: https://pandas.pydata.org/pandas-docs/stable/user_guide/indexing.html#returning-a-view-versus-a-copy\n",
      "  buffer_frame[\"gas_dec\"] = buffer_frame[\" blockNumber\"].map(converthex2dec)\n",
      "/tmp/ipykernel_3459/482305874.py:20: SettingWithCopyWarning: \n",
      "A value is trying to be set on a copy of a slice from a DataFrame.\n",
      "Try using .loc[row_indexer,col_indexer] = value instead\n",
      "\n",
      "See the caveats in the documentation: https://pandas.pydata.org/pandas-docs/stable/user_guide/indexing.html#returning-a-view-versus-a-copy\n",
      "  buffer_frame[\"value_dec\"] = buffer_frame[\" value\"].map(converthex2dec)\n",
      "/tmp/ipykernel_3459/482305874.py:23: SettingWithCopyWarning: \n",
      "A value is trying to be set on a copy of a slice from a DataFrame.\n",
      "Try using .loc[row_indexer,col_indexer] = value instead\n",
      "\n",
      "See the caveats in the documentation: https://pandas.pydata.org/pandas-docs/stable/user_guide/indexing.html#returning-a-view-versus-a-copy\n",
      "  buffer_frame['masked_from'] = buffer_frame.apply(lambda row: address_dict[row[\" from\"]], axis=1)\n",
      "/tmp/ipykernel_3459/482305874.py:26: SettingWithCopyWarning: \n",
      "A value is trying to be set on a copy of a slice from a DataFrame.\n",
      "Try using .loc[row_indexer,col_indexer] = value instead\n",
      "\n",
      "See the caveats in the documentation: https://pandas.pydata.org/pandas-docs/stable/user_guide/indexing.html#returning-a-view-versus-a-copy\n",
      "  buffer_frame['masked_to'] = buffer_frame.apply(lambda row: address_dict[row[\" to\"]], axis=1)\n"
     ]
    },
    {
     "name": "stdout",
     "output_type": "stream",
     "text": [
      "1_bsc_v1.csv\n"
     ]
    },
    {
     "name": "stderr",
     "output_type": "stream",
     "text": [
      "/tmp/ipykernel_3459/482305874.py:14: SettingWithCopyWarning: \n",
      "A value is trying to be set on a copy of a slice from a DataFrame.\n",
      "Try using .loc[row_indexer,col_indexer] = value instead\n",
      "\n",
      "See the caveats in the documentation: https://pandas.pydata.org/pandas-docs/stable/user_guide/indexing.html#returning-a-view-versus-a-copy\n",
      "  buffer_frame[\"block_number_dec\"] = buffer_frame[\" blockNumber\"].map(converthex2dec)\n",
      "/tmp/ipykernel_3459/482305874.py:17: SettingWithCopyWarning: \n",
      "A value is trying to be set on a copy of a slice from a DataFrame.\n",
      "Try using .loc[row_indexer,col_indexer] = value instead\n",
      "\n",
      "See the caveats in the documentation: https://pandas.pydata.org/pandas-docs/stable/user_guide/indexing.html#returning-a-view-versus-a-copy\n",
      "  buffer_frame[\"gas_dec\"] = buffer_frame[\" blockNumber\"].map(converthex2dec)\n",
      "/tmp/ipykernel_3459/482305874.py:20: SettingWithCopyWarning: \n",
      "A value is trying to be set on a copy of a slice from a DataFrame.\n",
      "Try using .loc[row_indexer,col_indexer] = value instead\n",
      "\n",
      "See the caveats in the documentation: https://pandas.pydata.org/pandas-docs/stable/user_guide/indexing.html#returning-a-view-versus-a-copy\n",
      "  buffer_frame[\"value_dec\"] = buffer_frame[\" value\"].map(converthex2dec)\n",
      "/tmp/ipykernel_3459/482305874.py:23: SettingWithCopyWarning: \n",
      "A value is trying to be set on a copy of a slice from a DataFrame.\n",
      "Try using .loc[row_indexer,col_indexer] = value instead\n",
      "\n",
      "See the caveats in the documentation: https://pandas.pydata.org/pandas-docs/stable/user_guide/indexing.html#returning-a-view-versus-a-copy\n",
      "  buffer_frame['masked_from'] = buffer_frame.apply(lambda row: address_dict[row[\" from\"]], axis=1)\n",
      "/tmp/ipykernel_3459/482305874.py:26: SettingWithCopyWarning: \n",
      "A value is trying to be set on a copy of a slice from a DataFrame.\n",
      "Try using .loc[row_indexer,col_indexer] = value instead\n",
      "\n",
      "See the caveats in the documentation: https://pandas.pydata.org/pandas-docs/stable/user_guide/indexing.html#returning-a-view-versus-a-copy\n",
      "  buffer_frame['masked_to'] = buffer_frame.apply(lambda row: address_dict[row[\" to\"]], axis=1)\n"
     ]
    },
    {
     "name": "stdout",
     "output_type": "stream",
     "text": [
      "20_bsc_v1.csv\n"
     ]
    },
    {
     "name": "stderr",
     "output_type": "stream",
     "text": [
      "/tmp/ipykernel_3459/482305874.py:14: SettingWithCopyWarning: \n",
      "A value is trying to be set on a copy of a slice from a DataFrame.\n",
      "Try using .loc[row_indexer,col_indexer] = value instead\n",
      "\n",
      "See the caveats in the documentation: https://pandas.pydata.org/pandas-docs/stable/user_guide/indexing.html#returning-a-view-versus-a-copy\n",
      "  buffer_frame[\"block_number_dec\"] = buffer_frame[\" blockNumber\"].map(converthex2dec)\n",
      "/tmp/ipykernel_3459/482305874.py:17: SettingWithCopyWarning: \n",
      "A value is trying to be set on a copy of a slice from a DataFrame.\n",
      "Try using .loc[row_indexer,col_indexer] = value instead\n",
      "\n",
      "See the caveats in the documentation: https://pandas.pydata.org/pandas-docs/stable/user_guide/indexing.html#returning-a-view-versus-a-copy\n",
      "  buffer_frame[\"gas_dec\"] = buffer_frame[\" blockNumber\"].map(converthex2dec)\n",
      "/tmp/ipykernel_3459/482305874.py:20: SettingWithCopyWarning: \n",
      "A value is trying to be set on a copy of a slice from a DataFrame.\n",
      "Try using .loc[row_indexer,col_indexer] = value instead\n",
      "\n",
      "See the caveats in the documentation: https://pandas.pydata.org/pandas-docs/stable/user_guide/indexing.html#returning-a-view-versus-a-copy\n",
      "  buffer_frame[\"value_dec\"] = buffer_frame[\" value\"].map(converthex2dec)\n",
      "/tmp/ipykernel_3459/482305874.py:23: SettingWithCopyWarning: \n",
      "A value is trying to be set on a copy of a slice from a DataFrame.\n",
      "Try using .loc[row_indexer,col_indexer] = value instead\n",
      "\n",
      "See the caveats in the documentation: https://pandas.pydata.org/pandas-docs/stable/user_guide/indexing.html#returning-a-view-versus-a-copy\n",
      "  buffer_frame['masked_from'] = buffer_frame.apply(lambda row: address_dict[row[\" from\"]], axis=1)\n",
      "/tmp/ipykernel_3459/482305874.py:26: SettingWithCopyWarning: \n",
      "A value is trying to be set on a copy of a slice from a DataFrame.\n",
      "Try using .loc[row_indexer,col_indexer] = value instead\n",
      "\n",
      "See the caveats in the documentation: https://pandas.pydata.org/pandas-docs/stable/user_guide/indexing.html#returning-a-view-versus-a-copy\n",
      "  buffer_frame['masked_to'] = buffer_frame.apply(lambda row: address_dict[row[\" to\"]], axis=1)\n"
     ]
    },
    {
     "name": "stdout",
     "output_type": "stream",
     "text": [
      "21_bsc_v1.csv\n"
     ]
    },
    {
     "name": "stderr",
     "output_type": "stream",
     "text": [
      "/tmp/ipykernel_3459/482305874.py:14: SettingWithCopyWarning: \n",
      "A value is trying to be set on a copy of a slice from a DataFrame.\n",
      "Try using .loc[row_indexer,col_indexer] = value instead\n",
      "\n",
      "See the caveats in the documentation: https://pandas.pydata.org/pandas-docs/stable/user_guide/indexing.html#returning-a-view-versus-a-copy\n",
      "  buffer_frame[\"block_number_dec\"] = buffer_frame[\" blockNumber\"].map(converthex2dec)\n",
      "/tmp/ipykernel_3459/482305874.py:17: SettingWithCopyWarning: \n",
      "A value is trying to be set on a copy of a slice from a DataFrame.\n",
      "Try using .loc[row_indexer,col_indexer] = value instead\n",
      "\n",
      "See the caveats in the documentation: https://pandas.pydata.org/pandas-docs/stable/user_guide/indexing.html#returning-a-view-versus-a-copy\n",
      "  buffer_frame[\"gas_dec\"] = buffer_frame[\" blockNumber\"].map(converthex2dec)\n",
      "/tmp/ipykernel_3459/482305874.py:20: SettingWithCopyWarning: \n",
      "A value is trying to be set on a copy of a slice from a DataFrame.\n",
      "Try using .loc[row_indexer,col_indexer] = value instead\n",
      "\n",
      "See the caveats in the documentation: https://pandas.pydata.org/pandas-docs/stable/user_guide/indexing.html#returning-a-view-versus-a-copy\n",
      "  buffer_frame[\"value_dec\"] = buffer_frame[\" value\"].map(converthex2dec)\n",
      "/tmp/ipykernel_3459/482305874.py:23: SettingWithCopyWarning: \n",
      "A value is trying to be set on a copy of a slice from a DataFrame.\n",
      "Try using .loc[row_indexer,col_indexer] = value instead\n",
      "\n",
      "See the caveats in the documentation: https://pandas.pydata.org/pandas-docs/stable/user_guide/indexing.html#returning-a-view-versus-a-copy\n",
      "  buffer_frame['masked_from'] = buffer_frame.apply(lambda row: address_dict[row[\" from\"]], axis=1)\n",
      "/tmp/ipykernel_3459/482305874.py:26: SettingWithCopyWarning: \n",
      "A value is trying to be set on a copy of a slice from a DataFrame.\n",
      "Try using .loc[row_indexer,col_indexer] = value instead\n",
      "\n",
      "See the caveats in the documentation: https://pandas.pydata.org/pandas-docs/stable/user_guide/indexing.html#returning-a-view-versus-a-copy\n",
      "  buffer_frame['masked_to'] = buffer_frame.apply(lambda row: address_dict[row[\" to\"]], axis=1)\n"
     ]
    },
    {
     "name": "stdout",
     "output_type": "stream",
     "text": [
      "22_bsc_v1.csv\n"
     ]
    },
    {
     "name": "stderr",
     "output_type": "stream",
     "text": [
      "/tmp/ipykernel_3459/482305874.py:14: SettingWithCopyWarning: \n",
      "A value is trying to be set on a copy of a slice from a DataFrame.\n",
      "Try using .loc[row_indexer,col_indexer] = value instead\n",
      "\n",
      "See the caveats in the documentation: https://pandas.pydata.org/pandas-docs/stable/user_guide/indexing.html#returning-a-view-versus-a-copy\n",
      "  buffer_frame[\"block_number_dec\"] = buffer_frame[\" blockNumber\"].map(converthex2dec)\n",
      "/tmp/ipykernel_3459/482305874.py:17: SettingWithCopyWarning: \n",
      "A value is trying to be set on a copy of a slice from a DataFrame.\n",
      "Try using .loc[row_indexer,col_indexer] = value instead\n",
      "\n",
      "See the caveats in the documentation: https://pandas.pydata.org/pandas-docs/stable/user_guide/indexing.html#returning-a-view-versus-a-copy\n",
      "  buffer_frame[\"gas_dec\"] = buffer_frame[\" blockNumber\"].map(converthex2dec)\n",
      "/tmp/ipykernel_3459/482305874.py:20: SettingWithCopyWarning: \n",
      "A value is trying to be set on a copy of a slice from a DataFrame.\n",
      "Try using .loc[row_indexer,col_indexer] = value instead\n",
      "\n",
      "See the caveats in the documentation: https://pandas.pydata.org/pandas-docs/stable/user_guide/indexing.html#returning-a-view-versus-a-copy\n",
      "  buffer_frame[\"value_dec\"] = buffer_frame[\" value\"].map(converthex2dec)\n",
      "/tmp/ipykernel_3459/482305874.py:23: SettingWithCopyWarning: \n",
      "A value is trying to be set on a copy of a slice from a DataFrame.\n",
      "Try using .loc[row_indexer,col_indexer] = value instead\n",
      "\n",
      "See the caveats in the documentation: https://pandas.pydata.org/pandas-docs/stable/user_guide/indexing.html#returning-a-view-versus-a-copy\n",
      "  buffer_frame['masked_from'] = buffer_frame.apply(lambda row: address_dict[row[\" from\"]], axis=1)\n",
      "/tmp/ipykernel_3459/482305874.py:26: SettingWithCopyWarning: \n",
      "A value is trying to be set on a copy of a slice from a DataFrame.\n",
      "Try using .loc[row_indexer,col_indexer] = value instead\n",
      "\n",
      "See the caveats in the documentation: https://pandas.pydata.org/pandas-docs/stable/user_guide/indexing.html#returning-a-view-versus-a-copy\n",
      "  buffer_frame['masked_to'] = buffer_frame.apply(lambda row: address_dict[row[\" to\"]], axis=1)\n"
     ]
    },
    {
     "name": "stdout",
     "output_type": "stream",
     "text": [
      "23_bsc_v1.csv\n"
     ]
    },
    {
     "name": "stderr",
     "output_type": "stream",
     "text": [
      "/tmp/ipykernel_3459/482305874.py:14: SettingWithCopyWarning: \n",
      "A value is trying to be set on a copy of a slice from a DataFrame.\n",
      "Try using .loc[row_indexer,col_indexer] = value instead\n",
      "\n",
      "See the caveats in the documentation: https://pandas.pydata.org/pandas-docs/stable/user_guide/indexing.html#returning-a-view-versus-a-copy\n",
      "  buffer_frame[\"block_number_dec\"] = buffer_frame[\" blockNumber\"].map(converthex2dec)\n",
      "/tmp/ipykernel_3459/482305874.py:17: SettingWithCopyWarning: \n",
      "A value is trying to be set on a copy of a slice from a DataFrame.\n",
      "Try using .loc[row_indexer,col_indexer] = value instead\n",
      "\n",
      "See the caveats in the documentation: https://pandas.pydata.org/pandas-docs/stable/user_guide/indexing.html#returning-a-view-versus-a-copy\n",
      "  buffer_frame[\"gas_dec\"] = buffer_frame[\" blockNumber\"].map(converthex2dec)\n",
      "/tmp/ipykernel_3459/482305874.py:20: SettingWithCopyWarning: \n",
      "A value is trying to be set on a copy of a slice from a DataFrame.\n",
      "Try using .loc[row_indexer,col_indexer] = value instead\n",
      "\n",
      "See the caveats in the documentation: https://pandas.pydata.org/pandas-docs/stable/user_guide/indexing.html#returning-a-view-versus-a-copy\n",
      "  buffer_frame[\"value_dec\"] = buffer_frame[\" value\"].map(converthex2dec)\n",
      "/tmp/ipykernel_3459/482305874.py:23: SettingWithCopyWarning: \n",
      "A value is trying to be set on a copy of a slice from a DataFrame.\n",
      "Try using .loc[row_indexer,col_indexer] = value instead\n",
      "\n",
      "See the caveats in the documentation: https://pandas.pydata.org/pandas-docs/stable/user_guide/indexing.html#returning-a-view-versus-a-copy\n",
      "  buffer_frame['masked_from'] = buffer_frame.apply(lambda row: address_dict[row[\" from\"]], axis=1)\n",
      "/tmp/ipykernel_3459/482305874.py:26: SettingWithCopyWarning: \n",
      "A value is trying to be set on a copy of a slice from a DataFrame.\n",
      "Try using .loc[row_indexer,col_indexer] = value instead\n",
      "\n",
      "See the caveats in the documentation: https://pandas.pydata.org/pandas-docs/stable/user_guide/indexing.html#returning-a-view-versus-a-copy\n",
      "  buffer_frame['masked_to'] = buffer_frame.apply(lambda row: address_dict[row[\" to\"]], axis=1)\n"
     ]
    },
    {
     "name": "stdout",
     "output_type": "stream",
     "text": [
      "24_bsc_v1.csv\n"
     ]
    },
    {
     "name": "stderr",
     "output_type": "stream",
     "text": [
      "/tmp/ipykernel_3459/482305874.py:14: SettingWithCopyWarning: \n",
      "A value is trying to be set on a copy of a slice from a DataFrame.\n",
      "Try using .loc[row_indexer,col_indexer] = value instead\n",
      "\n",
      "See the caveats in the documentation: https://pandas.pydata.org/pandas-docs/stable/user_guide/indexing.html#returning-a-view-versus-a-copy\n",
      "  buffer_frame[\"block_number_dec\"] = buffer_frame[\" blockNumber\"].map(converthex2dec)\n",
      "/tmp/ipykernel_3459/482305874.py:17: SettingWithCopyWarning: \n",
      "A value is trying to be set on a copy of a slice from a DataFrame.\n",
      "Try using .loc[row_indexer,col_indexer] = value instead\n",
      "\n",
      "See the caveats in the documentation: https://pandas.pydata.org/pandas-docs/stable/user_guide/indexing.html#returning-a-view-versus-a-copy\n",
      "  buffer_frame[\"gas_dec\"] = buffer_frame[\" blockNumber\"].map(converthex2dec)\n",
      "/tmp/ipykernel_3459/482305874.py:20: SettingWithCopyWarning: \n",
      "A value is trying to be set on a copy of a slice from a DataFrame.\n",
      "Try using .loc[row_indexer,col_indexer] = value instead\n",
      "\n",
      "See the caveats in the documentation: https://pandas.pydata.org/pandas-docs/stable/user_guide/indexing.html#returning-a-view-versus-a-copy\n",
      "  buffer_frame[\"value_dec\"] = buffer_frame[\" value\"].map(converthex2dec)\n",
      "/tmp/ipykernel_3459/482305874.py:23: SettingWithCopyWarning: \n",
      "A value is trying to be set on a copy of a slice from a DataFrame.\n",
      "Try using .loc[row_indexer,col_indexer] = value instead\n",
      "\n",
      "See the caveats in the documentation: https://pandas.pydata.org/pandas-docs/stable/user_guide/indexing.html#returning-a-view-versus-a-copy\n",
      "  buffer_frame['masked_from'] = buffer_frame.apply(lambda row: address_dict[row[\" from\"]], axis=1)\n",
      "/tmp/ipykernel_3459/482305874.py:26: SettingWithCopyWarning: \n",
      "A value is trying to be set on a copy of a slice from a DataFrame.\n",
      "Try using .loc[row_indexer,col_indexer] = value instead\n",
      "\n",
      "See the caveats in the documentation: https://pandas.pydata.org/pandas-docs/stable/user_guide/indexing.html#returning-a-view-versus-a-copy\n",
      "  buffer_frame['masked_to'] = buffer_frame.apply(lambda row: address_dict[row[\" to\"]], axis=1)\n"
     ]
    },
    {
     "name": "stdout",
     "output_type": "stream",
     "text": [
      "25_bsc_v1.csv\n"
     ]
    },
    {
     "name": "stderr",
     "output_type": "stream",
     "text": [
      "/tmp/ipykernel_3459/482305874.py:14: SettingWithCopyWarning: \n",
      "A value is trying to be set on a copy of a slice from a DataFrame.\n",
      "Try using .loc[row_indexer,col_indexer] = value instead\n",
      "\n",
      "See the caveats in the documentation: https://pandas.pydata.org/pandas-docs/stable/user_guide/indexing.html#returning-a-view-versus-a-copy\n",
      "  buffer_frame[\"block_number_dec\"] = buffer_frame[\" blockNumber\"].map(converthex2dec)\n",
      "/tmp/ipykernel_3459/482305874.py:17: SettingWithCopyWarning: \n",
      "A value is trying to be set on a copy of a slice from a DataFrame.\n",
      "Try using .loc[row_indexer,col_indexer] = value instead\n",
      "\n",
      "See the caveats in the documentation: https://pandas.pydata.org/pandas-docs/stable/user_guide/indexing.html#returning-a-view-versus-a-copy\n",
      "  buffer_frame[\"gas_dec\"] = buffer_frame[\" blockNumber\"].map(converthex2dec)\n",
      "/tmp/ipykernel_3459/482305874.py:20: SettingWithCopyWarning: \n",
      "A value is trying to be set on a copy of a slice from a DataFrame.\n",
      "Try using .loc[row_indexer,col_indexer] = value instead\n",
      "\n",
      "See the caveats in the documentation: https://pandas.pydata.org/pandas-docs/stable/user_guide/indexing.html#returning-a-view-versus-a-copy\n",
      "  buffer_frame[\"value_dec\"] = buffer_frame[\" value\"].map(converthex2dec)\n",
      "/tmp/ipykernel_3459/482305874.py:23: SettingWithCopyWarning: \n",
      "A value is trying to be set on a copy of a slice from a DataFrame.\n",
      "Try using .loc[row_indexer,col_indexer] = value instead\n",
      "\n",
      "See the caveats in the documentation: https://pandas.pydata.org/pandas-docs/stable/user_guide/indexing.html#returning-a-view-versus-a-copy\n",
      "  buffer_frame['masked_from'] = buffer_frame.apply(lambda row: address_dict[row[\" from\"]], axis=1)\n",
      "/tmp/ipykernel_3459/482305874.py:26: SettingWithCopyWarning: \n",
      "A value is trying to be set on a copy of a slice from a DataFrame.\n",
      "Try using .loc[row_indexer,col_indexer] = value instead\n",
      "\n",
      "See the caveats in the documentation: https://pandas.pydata.org/pandas-docs/stable/user_guide/indexing.html#returning-a-view-versus-a-copy\n",
      "  buffer_frame['masked_to'] = buffer_frame.apply(lambda row: address_dict[row[\" to\"]], axis=1)\n"
     ]
    },
    {
     "name": "stdout",
     "output_type": "stream",
     "text": [
      "26_bsc_v1.csv\n"
     ]
    },
    {
     "name": "stderr",
     "output_type": "stream",
     "text": [
      "/tmp/ipykernel_3459/482305874.py:14: SettingWithCopyWarning: \n",
      "A value is trying to be set on a copy of a slice from a DataFrame.\n",
      "Try using .loc[row_indexer,col_indexer] = value instead\n",
      "\n",
      "See the caveats in the documentation: https://pandas.pydata.org/pandas-docs/stable/user_guide/indexing.html#returning-a-view-versus-a-copy\n",
      "  buffer_frame[\"block_number_dec\"] = buffer_frame[\" blockNumber\"].map(converthex2dec)\n",
      "/tmp/ipykernel_3459/482305874.py:17: SettingWithCopyWarning: \n",
      "A value is trying to be set on a copy of a slice from a DataFrame.\n",
      "Try using .loc[row_indexer,col_indexer] = value instead\n",
      "\n",
      "See the caveats in the documentation: https://pandas.pydata.org/pandas-docs/stable/user_guide/indexing.html#returning-a-view-versus-a-copy\n",
      "  buffer_frame[\"gas_dec\"] = buffer_frame[\" blockNumber\"].map(converthex2dec)\n",
      "/tmp/ipykernel_3459/482305874.py:20: SettingWithCopyWarning: \n",
      "A value is trying to be set on a copy of a slice from a DataFrame.\n",
      "Try using .loc[row_indexer,col_indexer] = value instead\n",
      "\n",
      "See the caveats in the documentation: https://pandas.pydata.org/pandas-docs/stable/user_guide/indexing.html#returning-a-view-versus-a-copy\n",
      "  buffer_frame[\"value_dec\"] = buffer_frame[\" value\"].map(converthex2dec)\n",
      "/tmp/ipykernel_3459/482305874.py:23: SettingWithCopyWarning: \n",
      "A value is trying to be set on a copy of a slice from a DataFrame.\n",
      "Try using .loc[row_indexer,col_indexer] = value instead\n",
      "\n",
      "See the caveats in the documentation: https://pandas.pydata.org/pandas-docs/stable/user_guide/indexing.html#returning-a-view-versus-a-copy\n",
      "  buffer_frame['masked_from'] = buffer_frame.apply(lambda row: address_dict[row[\" from\"]], axis=1)\n",
      "/tmp/ipykernel_3459/482305874.py:26: SettingWithCopyWarning: \n",
      "A value is trying to be set on a copy of a slice from a DataFrame.\n",
      "Try using .loc[row_indexer,col_indexer] = value instead\n",
      "\n",
      "See the caveats in the documentation: https://pandas.pydata.org/pandas-docs/stable/user_guide/indexing.html#returning-a-view-versus-a-copy\n",
      "  buffer_frame['masked_to'] = buffer_frame.apply(lambda row: address_dict[row[\" to\"]], axis=1)\n"
     ]
    },
    {
     "name": "stdout",
     "output_type": "stream",
     "text": [
      "27_bsc_v1.csv\n"
     ]
    },
    {
     "name": "stderr",
     "output_type": "stream",
     "text": [
      "/tmp/ipykernel_3459/482305874.py:14: SettingWithCopyWarning: \n",
      "A value is trying to be set on a copy of a slice from a DataFrame.\n",
      "Try using .loc[row_indexer,col_indexer] = value instead\n",
      "\n",
      "See the caveats in the documentation: https://pandas.pydata.org/pandas-docs/stable/user_guide/indexing.html#returning-a-view-versus-a-copy\n",
      "  buffer_frame[\"block_number_dec\"] = buffer_frame[\" blockNumber\"].map(converthex2dec)\n",
      "/tmp/ipykernel_3459/482305874.py:17: SettingWithCopyWarning: \n",
      "A value is trying to be set on a copy of a slice from a DataFrame.\n",
      "Try using .loc[row_indexer,col_indexer] = value instead\n",
      "\n",
      "See the caveats in the documentation: https://pandas.pydata.org/pandas-docs/stable/user_guide/indexing.html#returning-a-view-versus-a-copy\n",
      "  buffer_frame[\"gas_dec\"] = buffer_frame[\" blockNumber\"].map(converthex2dec)\n",
      "/tmp/ipykernel_3459/482305874.py:20: SettingWithCopyWarning: \n",
      "A value is trying to be set on a copy of a slice from a DataFrame.\n",
      "Try using .loc[row_indexer,col_indexer] = value instead\n",
      "\n",
      "See the caveats in the documentation: https://pandas.pydata.org/pandas-docs/stable/user_guide/indexing.html#returning-a-view-versus-a-copy\n",
      "  buffer_frame[\"value_dec\"] = buffer_frame[\" value\"].map(converthex2dec)\n",
      "/tmp/ipykernel_3459/482305874.py:23: SettingWithCopyWarning: \n",
      "A value is trying to be set on a copy of a slice from a DataFrame.\n",
      "Try using .loc[row_indexer,col_indexer] = value instead\n",
      "\n",
      "See the caveats in the documentation: https://pandas.pydata.org/pandas-docs/stable/user_guide/indexing.html#returning-a-view-versus-a-copy\n",
      "  buffer_frame['masked_from'] = buffer_frame.apply(lambda row: address_dict[row[\" from\"]], axis=1)\n",
      "/tmp/ipykernel_3459/482305874.py:26: SettingWithCopyWarning: \n",
      "A value is trying to be set on a copy of a slice from a DataFrame.\n",
      "Try using .loc[row_indexer,col_indexer] = value instead\n",
      "\n",
      "See the caveats in the documentation: https://pandas.pydata.org/pandas-docs/stable/user_guide/indexing.html#returning-a-view-versus-a-copy\n",
      "  buffer_frame['masked_to'] = buffer_frame.apply(lambda row: address_dict[row[\" to\"]], axis=1)\n"
     ]
    },
    {
     "name": "stdout",
     "output_type": "stream",
     "text": [
      "28_bsc_v1.csv\n"
     ]
    },
    {
     "name": "stderr",
     "output_type": "stream",
     "text": [
      "/tmp/ipykernel_3459/482305874.py:14: SettingWithCopyWarning: \n",
      "A value is trying to be set on a copy of a slice from a DataFrame.\n",
      "Try using .loc[row_indexer,col_indexer] = value instead\n",
      "\n",
      "See the caveats in the documentation: https://pandas.pydata.org/pandas-docs/stable/user_guide/indexing.html#returning-a-view-versus-a-copy\n",
      "  buffer_frame[\"block_number_dec\"] = buffer_frame[\" blockNumber\"].map(converthex2dec)\n",
      "/tmp/ipykernel_3459/482305874.py:17: SettingWithCopyWarning: \n",
      "A value is trying to be set on a copy of a slice from a DataFrame.\n",
      "Try using .loc[row_indexer,col_indexer] = value instead\n",
      "\n",
      "See the caveats in the documentation: https://pandas.pydata.org/pandas-docs/stable/user_guide/indexing.html#returning-a-view-versus-a-copy\n",
      "  buffer_frame[\"gas_dec\"] = buffer_frame[\" blockNumber\"].map(converthex2dec)\n",
      "/tmp/ipykernel_3459/482305874.py:20: SettingWithCopyWarning: \n",
      "A value is trying to be set on a copy of a slice from a DataFrame.\n",
      "Try using .loc[row_indexer,col_indexer] = value instead\n",
      "\n",
      "See the caveats in the documentation: https://pandas.pydata.org/pandas-docs/stable/user_guide/indexing.html#returning-a-view-versus-a-copy\n",
      "  buffer_frame[\"value_dec\"] = buffer_frame[\" value\"].map(converthex2dec)\n",
      "/tmp/ipykernel_3459/482305874.py:23: SettingWithCopyWarning: \n",
      "A value is trying to be set on a copy of a slice from a DataFrame.\n",
      "Try using .loc[row_indexer,col_indexer] = value instead\n",
      "\n",
      "See the caveats in the documentation: https://pandas.pydata.org/pandas-docs/stable/user_guide/indexing.html#returning-a-view-versus-a-copy\n",
      "  buffer_frame['masked_from'] = buffer_frame.apply(lambda row: address_dict[row[\" from\"]], axis=1)\n",
      "/tmp/ipykernel_3459/482305874.py:26: SettingWithCopyWarning: \n",
      "A value is trying to be set on a copy of a slice from a DataFrame.\n",
      "Try using .loc[row_indexer,col_indexer] = value instead\n",
      "\n",
      "See the caveats in the documentation: https://pandas.pydata.org/pandas-docs/stable/user_guide/indexing.html#returning-a-view-versus-a-copy\n",
      "  buffer_frame['masked_to'] = buffer_frame.apply(lambda row: address_dict[row[\" to\"]], axis=1)\n"
     ]
    },
    {
     "name": "stdout",
     "output_type": "stream",
     "text": [
      "2_bsc_v1.csv\n"
     ]
    },
    {
     "name": "stderr",
     "output_type": "stream",
     "text": [
      "/tmp/ipykernel_3459/482305874.py:14: SettingWithCopyWarning: \n",
      "A value is trying to be set on a copy of a slice from a DataFrame.\n",
      "Try using .loc[row_indexer,col_indexer] = value instead\n",
      "\n",
      "See the caveats in the documentation: https://pandas.pydata.org/pandas-docs/stable/user_guide/indexing.html#returning-a-view-versus-a-copy\n",
      "  buffer_frame[\"block_number_dec\"] = buffer_frame[\" blockNumber\"].map(converthex2dec)\n",
      "/tmp/ipykernel_3459/482305874.py:17: SettingWithCopyWarning: \n",
      "A value is trying to be set on a copy of a slice from a DataFrame.\n",
      "Try using .loc[row_indexer,col_indexer] = value instead\n",
      "\n",
      "See the caveats in the documentation: https://pandas.pydata.org/pandas-docs/stable/user_guide/indexing.html#returning-a-view-versus-a-copy\n",
      "  buffer_frame[\"gas_dec\"] = buffer_frame[\" blockNumber\"].map(converthex2dec)\n",
      "/tmp/ipykernel_3459/482305874.py:20: SettingWithCopyWarning: \n",
      "A value is trying to be set on a copy of a slice from a DataFrame.\n",
      "Try using .loc[row_indexer,col_indexer] = value instead\n",
      "\n",
      "See the caveats in the documentation: https://pandas.pydata.org/pandas-docs/stable/user_guide/indexing.html#returning-a-view-versus-a-copy\n",
      "  buffer_frame[\"value_dec\"] = buffer_frame[\" value\"].map(converthex2dec)\n",
      "/tmp/ipykernel_3459/482305874.py:23: SettingWithCopyWarning: \n",
      "A value is trying to be set on a copy of a slice from a DataFrame.\n",
      "Try using .loc[row_indexer,col_indexer] = value instead\n",
      "\n",
      "See the caveats in the documentation: https://pandas.pydata.org/pandas-docs/stable/user_guide/indexing.html#returning-a-view-versus-a-copy\n",
      "  buffer_frame['masked_from'] = buffer_frame.apply(lambda row: address_dict[row[\" from\"]], axis=1)\n",
      "/tmp/ipykernel_3459/482305874.py:26: SettingWithCopyWarning: \n",
      "A value is trying to be set on a copy of a slice from a DataFrame.\n",
      "Try using .loc[row_indexer,col_indexer] = value instead\n",
      "\n",
      "See the caveats in the documentation: https://pandas.pydata.org/pandas-docs/stable/user_guide/indexing.html#returning-a-view-versus-a-copy\n",
      "  buffer_frame['masked_to'] = buffer_frame.apply(lambda row: address_dict[row[\" to\"]], axis=1)\n"
     ]
    },
    {
     "name": "stdout",
     "output_type": "stream",
     "text": [
      "3_bsc_v1.csv\n"
     ]
    },
    {
     "name": "stderr",
     "output_type": "stream",
     "text": [
      "/tmp/ipykernel_3459/482305874.py:14: SettingWithCopyWarning: \n",
      "A value is trying to be set on a copy of a slice from a DataFrame.\n",
      "Try using .loc[row_indexer,col_indexer] = value instead\n",
      "\n",
      "See the caveats in the documentation: https://pandas.pydata.org/pandas-docs/stable/user_guide/indexing.html#returning-a-view-versus-a-copy\n",
      "  buffer_frame[\"block_number_dec\"] = buffer_frame[\" blockNumber\"].map(converthex2dec)\n",
      "/tmp/ipykernel_3459/482305874.py:17: SettingWithCopyWarning: \n",
      "A value is trying to be set on a copy of a slice from a DataFrame.\n",
      "Try using .loc[row_indexer,col_indexer] = value instead\n",
      "\n",
      "See the caveats in the documentation: https://pandas.pydata.org/pandas-docs/stable/user_guide/indexing.html#returning-a-view-versus-a-copy\n",
      "  buffer_frame[\"gas_dec\"] = buffer_frame[\" blockNumber\"].map(converthex2dec)\n",
      "/tmp/ipykernel_3459/482305874.py:20: SettingWithCopyWarning: \n",
      "A value is trying to be set on a copy of a slice from a DataFrame.\n",
      "Try using .loc[row_indexer,col_indexer] = value instead\n",
      "\n",
      "See the caveats in the documentation: https://pandas.pydata.org/pandas-docs/stable/user_guide/indexing.html#returning-a-view-versus-a-copy\n",
      "  buffer_frame[\"value_dec\"] = buffer_frame[\" value\"].map(converthex2dec)\n",
      "/tmp/ipykernel_3459/482305874.py:23: SettingWithCopyWarning: \n",
      "A value is trying to be set on a copy of a slice from a DataFrame.\n",
      "Try using .loc[row_indexer,col_indexer] = value instead\n",
      "\n",
      "See the caveats in the documentation: https://pandas.pydata.org/pandas-docs/stable/user_guide/indexing.html#returning-a-view-versus-a-copy\n",
      "  buffer_frame['masked_from'] = buffer_frame.apply(lambda row: address_dict[row[\" from\"]], axis=1)\n",
      "/tmp/ipykernel_3459/482305874.py:26: SettingWithCopyWarning: \n",
      "A value is trying to be set on a copy of a slice from a DataFrame.\n",
      "Try using .loc[row_indexer,col_indexer] = value instead\n",
      "\n",
      "See the caveats in the documentation: https://pandas.pydata.org/pandas-docs/stable/user_guide/indexing.html#returning-a-view-versus-a-copy\n",
      "  buffer_frame['masked_to'] = buffer_frame.apply(lambda row: address_dict[row[\" to\"]], axis=1)\n"
     ]
    },
    {
     "name": "stdout",
     "output_type": "stream",
     "text": [
      "4_bsc_v1.csv\n"
     ]
    },
    {
     "name": "stderr",
     "output_type": "stream",
     "text": [
      "/tmp/ipykernel_3459/482305874.py:14: SettingWithCopyWarning: \n",
      "A value is trying to be set on a copy of a slice from a DataFrame.\n",
      "Try using .loc[row_indexer,col_indexer] = value instead\n",
      "\n",
      "See the caveats in the documentation: https://pandas.pydata.org/pandas-docs/stable/user_guide/indexing.html#returning-a-view-versus-a-copy\n",
      "  buffer_frame[\"block_number_dec\"] = buffer_frame[\" blockNumber\"].map(converthex2dec)\n",
      "/tmp/ipykernel_3459/482305874.py:17: SettingWithCopyWarning: \n",
      "A value is trying to be set on a copy of a slice from a DataFrame.\n",
      "Try using .loc[row_indexer,col_indexer] = value instead\n",
      "\n",
      "See the caveats in the documentation: https://pandas.pydata.org/pandas-docs/stable/user_guide/indexing.html#returning-a-view-versus-a-copy\n",
      "  buffer_frame[\"gas_dec\"] = buffer_frame[\" blockNumber\"].map(converthex2dec)\n",
      "/tmp/ipykernel_3459/482305874.py:20: SettingWithCopyWarning: \n",
      "A value is trying to be set on a copy of a slice from a DataFrame.\n",
      "Try using .loc[row_indexer,col_indexer] = value instead\n",
      "\n",
      "See the caveats in the documentation: https://pandas.pydata.org/pandas-docs/stable/user_guide/indexing.html#returning-a-view-versus-a-copy\n",
      "  buffer_frame[\"value_dec\"] = buffer_frame[\" value\"].map(converthex2dec)\n",
      "/tmp/ipykernel_3459/482305874.py:23: SettingWithCopyWarning: \n",
      "A value is trying to be set on a copy of a slice from a DataFrame.\n",
      "Try using .loc[row_indexer,col_indexer] = value instead\n",
      "\n",
      "See the caveats in the documentation: https://pandas.pydata.org/pandas-docs/stable/user_guide/indexing.html#returning-a-view-versus-a-copy\n",
      "  buffer_frame['masked_from'] = buffer_frame.apply(lambda row: address_dict[row[\" from\"]], axis=1)\n",
      "/tmp/ipykernel_3459/482305874.py:26: SettingWithCopyWarning: \n",
      "A value is trying to be set on a copy of a slice from a DataFrame.\n",
      "Try using .loc[row_indexer,col_indexer] = value instead\n",
      "\n",
      "See the caveats in the documentation: https://pandas.pydata.org/pandas-docs/stable/user_guide/indexing.html#returning-a-view-versus-a-copy\n",
      "  buffer_frame['masked_to'] = buffer_frame.apply(lambda row: address_dict[row[\" to\"]], axis=1)\n"
     ]
    },
    {
     "name": "stdout",
     "output_type": "stream",
     "text": [
      "5_bsc_v1.csv\n"
     ]
    },
    {
     "name": "stderr",
     "output_type": "stream",
     "text": [
      "/tmp/ipykernel_3459/482305874.py:14: SettingWithCopyWarning: \n",
      "A value is trying to be set on a copy of a slice from a DataFrame.\n",
      "Try using .loc[row_indexer,col_indexer] = value instead\n",
      "\n",
      "See the caveats in the documentation: https://pandas.pydata.org/pandas-docs/stable/user_guide/indexing.html#returning-a-view-versus-a-copy\n",
      "  buffer_frame[\"block_number_dec\"] = buffer_frame[\" blockNumber\"].map(converthex2dec)\n",
      "/tmp/ipykernel_3459/482305874.py:17: SettingWithCopyWarning: \n",
      "A value is trying to be set on a copy of a slice from a DataFrame.\n",
      "Try using .loc[row_indexer,col_indexer] = value instead\n",
      "\n",
      "See the caveats in the documentation: https://pandas.pydata.org/pandas-docs/stable/user_guide/indexing.html#returning-a-view-versus-a-copy\n",
      "  buffer_frame[\"gas_dec\"] = buffer_frame[\" blockNumber\"].map(converthex2dec)\n",
      "/tmp/ipykernel_3459/482305874.py:20: SettingWithCopyWarning: \n",
      "A value is trying to be set on a copy of a slice from a DataFrame.\n",
      "Try using .loc[row_indexer,col_indexer] = value instead\n",
      "\n",
      "See the caveats in the documentation: https://pandas.pydata.org/pandas-docs/stable/user_guide/indexing.html#returning-a-view-versus-a-copy\n",
      "  buffer_frame[\"value_dec\"] = buffer_frame[\" value\"].map(converthex2dec)\n",
      "/tmp/ipykernel_3459/482305874.py:23: SettingWithCopyWarning: \n",
      "A value is trying to be set on a copy of a slice from a DataFrame.\n",
      "Try using .loc[row_indexer,col_indexer] = value instead\n",
      "\n",
      "See the caveats in the documentation: https://pandas.pydata.org/pandas-docs/stable/user_guide/indexing.html#returning-a-view-versus-a-copy\n",
      "  buffer_frame['masked_from'] = buffer_frame.apply(lambda row: address_dict[row[\" from\"]], axis=1)\n",
      "/tmp/ipykernel_3459/482305874.py:26: SettingWithCopyWarning: \n",
      "A value is trying to be set on a copy of a slice from a DataFrame.\n",
      "Try using .loc[row_indexer,col_indexer] = value instead\n",
      "\n",
      "See the caveats in the documentation: https://pandas.pydata.org/pandas-docs/stable/user_guide/indexing.html#returning-a-view-versus-a-copy\n",
      "  buffer_frame['masked_to'] = buffer_frame.apply(lambda row: address_dict[row[\" to\"]], axis=1)\n"
     ]
    },
    {
     "name": "stdout",
     "output_type": "stream",
     "text": [
      "6_bsc_v1.csv\n"
     ]
    },
    {
     "name": "stderr",
     "output_type": "stream",
     "text": [
      "/tmp/ipykernel_3459/482305874.py:14: SettingWithCopyWarning: \n",
      "A value is trying to be set on a copy of a slice from a DataFrame.\n",
      "Try using .loc[row_indexer,col_indexer] = value instead\n",
      "\n",
      "See the caveats in the documentation: https://pandas.pydata.org/pandas-docs/stable/user_guide/indexing.html#returning-a-view-versus-a-copy\n",
      "  buffer_frame[\"block_number_dec\"] = buffer_frame[\" blockNumber\"].map(converthex2dec)\n",
      "/tmp/ipykernel_3459/482305874.py:17: SettingWithCopyWarning: \n",
      "A value is trying to be set on a copy of a slice from a DataFrame.\n",
      "Try using .loc[row_indexer,col_indexer] = value instead\n",
      "\n",
      "See the caveats in the documentation: https://pandas.pydata.org/pandas-docs/stable/user_guide/indexing.html#returning-a-view-versus-a-copy\n",
      "  buffer_frame[\"gas_dec\"] = buffer_frame[\" blockNumber\"].map(converthex2dec)\n",
      "/tmp/ipykernel_3459/482305874.py:20: SettingWithCopyWarning: \n",
      "A value is trying to be set on a copy of a slice from a DataFrame.\n",
      "Try using .loc[row_indexer,col_indexer] = value instead\n",
      "\n",
      "See the caveats in the documentation: https://pandas.pydata.org/pandas-docs/stable/user_guide/indexing.html#returning-a-view-versus-a-copy\n",
      "  buffer_frame[\"value_dec\"] = buffer_frame[\" value\"].map(converthex2dec)\n",
      "/tmp/ipykernel_3459/482305874.py:23: SettingWithCopyWarning: \n",
      "A value is trying to be set on a copy of a slice from a DataFrame.\n",
      "Try using .loc[row_indexer,col_indexer] = value instead\n",
      "\n",
      "See the caveats in the documentation: https://pandas.pydata.org/pandas-docs/stable/user_guide/indexing.html#returning-a-view-versus-a-copy\n",
      "  buffer_frame['masked_from'] = buffer_frame.apply(lambda row: address_dict[row[\" from\"]], axis=1)\n",
      "/tmp/ipykernel_3459/482305874.py:26: SettingWithCopyWarning: \n",
      "A value is trying to be set on a copy of a slice from a DataFrame.\n",
      "Try using .loc[row_indexer,col_indexer] = value instead\n",
      "\n",
      "See the caveats in the documentation: https://pandas.pydata.org/pandas-docs/stable/user_guide/indexing.html#returning-a-view-versus-a-copy\n",
      "  buffer_frame['masked_to'] = buffer_frame.apply(lambda row: address_dict[row[\" to\"]], axis=1)\n"
     ]
    },
    {
     "name": "stdout",
     "output_type": "stream",
     "text": [
      "7_bsc_v1.csv\n"
     ]
    },
    {
     "name": "stderr",
     "output_type": "stream",
     "text": [
      "/tmp/ipykernel_3459/482305874.py:14: SettingWithCopyWarning: \n",
      "A value is trying to be set on a copy of a slice from a DataFrame.\n",
      "Try using .loc[row_indexer,col_indexer] = value instead\n",
      "\n",
      "See the caveats in the documentation: https://pandas.pydata.org/pandas-docs/stable/user_guide/indexing.html#returning-a-view-versus-a-copy\n",
      "  buffer_frame[\"block_number_dec\"] = buffer_frame[\" blockNumber\"].map(converthex2dec)\n",
      "/tmp/ipykernel_3459/482305874.py:17: SettingWithCopyWarning: \n",
      "A value is trying to be set on a copy of a slice from a DataFrame.\n",
      "Try using .loc[row_indexer,col_indexer] = value instead\n",
      "\n",
      "See the caveats in the documentation: https://pandas.pydata.org/pandas-docs/stable/user_guide/indexing.html#returning-a-view-versus-a-copy\n",
      "  buffer_frame[\"gas_dec\"] = buffer_frame[\" blockNumber\"].map(converthex2dec)\n",
      "/tmp/ipykernel_3459/482305874.py:20: SettingWithCopyWarning: \n",
      "A value is trying to be set on a copy of a slice from a DataFrame.\n",
      "Try using .loc[row_indexer,col_indexer] = value instead\n",
      "\n",
      "See the caveats in the documentation: https://pandas.pydata.org/pandas-docs/stable/user_guide/indexing.html#returning-a-view-versus-a-copy\n",
      "  buffer_frame[\"value_dec\"] = buffer_frame[\" value\"].map(converthex2dec)\n",
      "/tmp/ipykernel_3459/482305874.py:23: SettingWithCopyWarning: \n",
      "A value is trying to be set on a copy of a slice from a DataFrame.\n",
      "Try using .loc[row_indexer,col_indexer] = value instead\n",
      "\n",
      "See the caveats in the documentation: https://pandas.pydata.org/pandas-docs/stable/user_guide/indexing.html#returning-a-view-versus-a-copy\n",
      "  buffer_frame['masked_from'] = buffer_frame.apply(lambda row: address_dict[row[\" from\"]], axis=1)\n",
      "/tmp/ipykernel_3459/482305874.py:26: SettingWithCopyWarning: \n",
      "A value is trying to be set on a copy of a slice from a DataFrame.\n",
      "Try using .loc[row_indexer,col_indexer] = value instead\n",
      "\n",
      "See the caveats in the documentation: https://pandas.pydata.org/pandas-docs/stable/user_guide/indexing.html#returning-a-view-versus-a-copy\n",
      "  buffer_frame['masked_to'] = buffer_frame.apply(lambda row: address_dict[row[\" to\"]], axis=1)\n"
     ]
    },
    {
     "name": "stdout",
     "output_type": "stream",
     "text": [
      "8_bsc_v1.csv\n"
     ]
    },
    {
     "name": "stderr",
     "output_type": "stream",
     "text": [
      "/tmp/ipykernel_3459/482305874.py:14: SettingWithCopyWarning: \n",
      "A value is trying to be set on a copy of a slice from a DataFrame.\n",
      "Try using .loc[row_indexer,col_indexer] = value instead\n",
      "\n",
      "See the caveats in the documentation: https://pandas.pydata.org/pandas-docs/stable/user_guide/indexing.html#returning-a-view-versus-a-copy\n",
      "  buffer_frame[\"block_number_dec\"] = buffer_frame[\" blockNumber\"].map(converthex2dec)\n",
      "/tmp/ipykernel_3459/482305874.py:17: SettingWithCopyWarning: \n",
      "A value is trying to be set on a copy of a slice from a DataFrame.\n",
      "Try using .loc[row_indexer,col_indexer] = value instead\n",
      "\n",
      "See the caveats in the documentation: https://pandas.pydata.org/pandas-docs/stable/user_guide/indexing.html#returning-a-view-versus-a-copy\n",
      "  buffer_frame[\"gas_dec\"] = buffer_frame[\" blockNumber\"].map(converthex2dec)\n",
      "/tmp/ipykernel_3459/482305874.py:20: SettingWithCopyWarning: \n",
      "A value is trying to be set on a copy of a slice from a DataFrame.\n",
      "Try using .loc[row_indexer,col_indexer] = value instead\n",
      "\n",
      "See the caveats in the documentation: https://pandas.pydata.org/pandas-docs/stable/user_guide/indexing.html#returning-a-view-versus-a-copy\n",
      "  buffer_frame[\"value_dec\"] = buffer_frame[\" value\"].map(converthex2dec)\n",
      "/tmp/ipykernel_3459/482305874.py:23: SettingWithCopyWarning: \n",
      "A value is trying to be set on a copy of a slice from a DataFrame.\n",
      "Try using .loc[row_indexer,col_indexer] = value instead\n",
      "\n",
      "See the caveats in the documentation: https://pandas.pydata.org/pandas-docs/stable/user_guide/indexing.html#returning-a-view-versus-a-copy\n",
      "  buffer_frame['masked_from'] = buffer_frame.apply(lambda row: address_dict[row[\" from\"]], axis=1)\n",
      "/tmp/ipykernel_3459/482305874.py:26: SettingWithCopyWarning: \n",
      "A value is trying to be set on a copy of a slice from a DataFrame.\n",
      "Try using .loc[row_indexer,col_indexer] = value instead\n",
      "\n",
      "See the caveats in the documentation: https://pandas.pydata.org/pandas-docs/stable/user_guide/indexing.html#returning-a-view-versus-a-copy\n",
      "  buffer_frame['masked_to'] = buffer_frame.apply(lambda row: address_dict[row[\" to\"]], axis=1)\n"
     ]
    },
    {
     "name": "stdout",
     "output_type": "stream",
     "text": [
      "9_bsc_v1.csv\n"
     ]
    },
    {
     "name": "stderr",
     "output_type": "stream",
     "text": [
      "/tmp/ipykernel_3459/482305874.py:14: SettingWithCopyWarning: \n",
      "A value is trying to be set on a copy of a slice from a DataFrame.\n",
      "Try using .loc[row_indexer,col_indexer] = value instead\n",
      "\n",
      "See the caveats in the documentation: https://pandas.pydata.org/pandas-docs/stable/user_guide/indexing.html#returning-a-view-versus-a-copy\n",
      "  buffer_frame[\"block_number_dec\"] = buffer_frame[\" blockNumber\"].map(converthex2dec)\n",
      "/tmp/ipykernel_3459/482305874.py:17: SettingWithCopyWarning: \n",
      "A value is trying to be set on a copy of a slice from a DataFrame.\n",
      "Try using .loc[row_indexer,col_indexer] = value instead\n",
      "\n",
      "See the caveats in the documentation: https://pandas.pydata.org/pandas-docs/stable/user_guide/indexing.html#returning-a-view-versus-a-copy\n",
      "  buffer_frame[\"gas_dec\"] = buffer_frame[\" blockNumber\"].map(converthex2dec)\n",
      "/tmp/ipykernel_3459/482305874.py:20: SettingWithCopyWarning: \n",
      "A value is trying to be set on a copy of a slice from a DataFrame.\n",
      "Try using .loc[row_indexer,col_indexer] = value instead\n",
      "\n",
      "See the caveats in the documentation: https://pandas.pydata.org/pandas-docs/stable/user_guide/indexing.html#returning-a-view-versus-a-copy\n",
      "  buffer_frame[\"value_dec\"] = buffer_frame[\" value\"].map(converthex2dec)\n",
      "/tmp/ipykernel_3459/482305874.py:23: SettingWithCopyWarning: \n",
      "A value is trying to be set on a copy of a slice from a DataFrame.\n",
      "Try using .loc[row_indexer,col_indexer] = value instead\n",
      "\n",
      "See the caveats in the documentation: https://pandas.pydata.org/pandas-docs/stable/user_guide/indexing.html#returning-a-view-versus-a-copy\n",
      "  buffer_frame['masked_from'] = buffer_frame.apply(lambda row: address_dict[row[\" from\"]], axis=1)\n",
      "/tmp/ipykernel_3459/482305874.py:26: SettingWithCopyWarning: \n",
      "A value is trying to be set on a copy of a slice from a DataFrame.\n",
      "Try using .loc[row_indexer,col_indexer] = value instead\n",
      "\n",
      "See the caveats in the documentation: https://pandas.pydata.org/pandas-docs/stable/user_guide/indexing.html#returning-a-view-versus-a-copy\n",
      "  buffer_frame['masked_to'] = buffer_frame.apply(lambda row: address_dict[row[\" to\"]], axis=1)\n"
     ]
    },
    {
     "name": "stdout",
     "output_type": "stream",
     "text": [
      "final_bsc_v1.csv\n"
     ]
    },
    {
     "name": "stderr",
     "output_type": "stream",
     "text": [
      "/tmp/ipykernel_3459/482305874.py:14: SettingWithCopyWarning: \n",
      "A value is trying to be set on a copy of a slice from a DataFrame.\n",
      "Try using .loc[row_indexer,col_indexer] = value instead\n",
      "\n",
      "See the caveats in the documentation: https://pandas.pydata.org/pandas-docs/stable/user_guide/indexing.html#returning-a-view-versus-a-copy\n",
      "  buffer_frame[\"block_number_dec\"] = buffer_frame[\" blockNumber\"].map(converthex2dec)\n",
      "/tmp/ipykernel_3459/482305874.py:17: SettingWithCopyWarning: \n",
      "A value is trying to be set on a copy of a slice from a DataFrame.\n",
      "Try using .loc[row_indexer,col_indexer] = value instead\n",
      "\n",
      "See the caveats in the documentation: https://pandas.pydata.org/pandas-docs/stable/user_guide/indexing.html#returning-a-view-versus-a-copy\n",
      "  buffer_frame[\"gas_dec\"] = buffer_frame[\" blockNumber\"].map(converthex2dec)\n",
      "/tmp/ipykernel_3459/482305874.py:20: SettingWithCopyWarning: \n",
      "A value is trying to be set on a copy of a slice from a DataFrame.\n",
      "Try using .loc[row_indexer,col_indexer] = value instead\n",
      "\n",
      "See the caveats in the documentation: https://pandas.pydata.org/pandas-docs/stable/user_guide/indexing.html#returning-a-view-versus-a-copy\n",
      "  buffer_frame[\"value_dec\"] = buffer_frame[\" value\"].map(converthex2dec)\n",
      "/tmp/ipykernel_3459/482305874.py:23: SettingWithCopyWarning: \n",
      "A value is trying to be set on a copy of a slice from a DataFrame.\n",
      "Try using .loc[row_indexer,col_indexer] = value instead\n",
      "\n",
      "See the caveats in the documentation: https://pandas.pydata.org/pandas-docs/stable/user_guide/indexing.html#returning-a-view-versus-a-copy\n",
      "  buffer_frame['masked_from'] = buffer_frame.apply(lambda row: address_dict[row[\" from\"]], axis=1)\n",
      "/tmp/ipykernel_3459/482305874.py:26: SettingWithCopyWarning: \n",
      "A value is trying to be set on a copy of a slice from a DataFrame.\n",
      "Try using .loc[row_indexer,col_indexer] = value instead\n",
      "\n",
      "See the caveats in the documentation: https://pandas.pydata.org/pandas-docs/stable/user_guide/indexing.html#returning-a-view-versus-a-copy\n",
      "  buffer_frame['masked_to'] = buffer_frame.apply(lambda row: address_dict[row[\" to\"]], axis=1)\n"
     ]
    }
   ],
   "source": [
    "#frames = []\n",
    "for filename in os.listdir(data_path):\n",
    "    if filename.endswith(\".csv\"):\n",
    "         \n",
    "        csv_file = data_path + \"/\" + filename\n",
    "        output_path = clean_data_path + \"/\" + filename\n",
    "        \n",
    "        print(filename)\n",
    "        \n",
    "        raw_data = pd.read_csv(csv_file)\n",
    "        buffer_frame = raw_data[[\" blockNumber\", \" from\", \" to\", \" value\", \" gas\"]]\n",
    "        \n",
    "        # convert gas to dec\n",
    "        buffer_frame[\"block_number_dec\"] = buffer_frame[\" blockNumber\"].map(converthex2dec)\n",
    "        \n",
    "        # convert blockNumber to dec\n",
    "        buffer_frame[\"gas_dec\"] = buffer_frame[\" blockNumber\"].map(converthex2dec)\n",
    "        \n",
    "        # convert value to dec\n",
    "        buffer_frame[\"value_dec\"] = buffer_frame[\" value\"].map(converthex2dec)\n",
    "        \n",
    "        # convert from to idex\n",
    "        buffer_frame['masked_from'] = buffer_frame.apply(lambda row: address_dict[row[\" from\"]], axis=1)\n",
    "        \n",
    "        # convert to to index\n",
    "        buffer_frame['masked_to'] = buffer_frame.apply(lambda row: address_dict[row[\" to\"]], axis=1)\n",
    "        \n",
    "        # converted df\n",
    "        extracted_df = buffer_frame[['block_number_dec', 'masked_from', 'masked_to', 'gas_dec', 'value_dec']]\n",
    "        # save to csv\n",
    "        extracted_df.to_csv(output_path, index=False)\n",
    "        \n",
    "        # refresh memory\n",
    "        del raw_data\n",
    "        del buffer_frame\n",
    "        del extracted_df\n",
    "        "
   ]
  },
  {
   "cell_type": "code",
   "execution_count": 11,
   "id": "a85f9447",
   "metadata": {},
   "outputs": [
    {
     "name": "stdout",
     "output_type": "stream",
     "text": [
      "709\n"
     ]
    }
   ],
   "source": [
    "print(address_dict[' null'])"
   ]
  },
  {
   "cell_type": "code",
   "execution_count": 12,
   "id": "5c3525d0",
   "metadata": {},
   "outputs": [],
   "source": [
    "root_dir = \"/media/visionin/data_station/OctanData/BSC/running/2022_old_data/save_dir/\""
   ]
  },
  {
   "cell_type": "code",
   "execution_count": 13,
   "id": "571264ef",
   "metadata": {},
   "outputs": [],
   "source": [
    "address_save_path = root_dir+\"address_dict.pickle\"\n",
    "with open(address_save_path, 'wb') as handle:\n",
    "    pickle.dump(address_dict, handle, protocol=pickle.HIGHEST_PROTOCOL)"
   ]
  },
  {
   "cell_type": "code",
   "execution_count": null,
   "id": "4b6c5d2e",
   "metadata": {},
   "outputs": [],
   "source": []
  }
 ],
 "metadata": {
  "kernelspec": {
   "display_name": "Python 3 (ipykernel)",
   "language": "python",
   "name": "python3"
  },
  "language_info": {
   "codemirror_mode": {
    "name": "ipython",
    "version": 3
   },
   "file_extension": ".py",
   "mimetype": "text/x-python",
   "name": "python",
   "nbconvert_exporter": "python",
   "pygments_lexer": "ipython3",
   "version": "3.9.13"
  }
 },
 "nbformat": 4,
 "nbformat_minor": 5
}
